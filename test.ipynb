{
 "cells": [
  {
   "cell_type": "code",
   "execution_count": 1,
   "metadata": {},
   "outputs": [],
   "source": [
    "import isort\n",
    "import sys"
   ]
  },
  {
   "cell_type": "code",
   "execution_count": 2,
   "outputs": [
    {
     "name": "stdout",
     "output_type": "stream",
     "text": [
      "8\n"
     ]
    }
   ],
   "source": [
    "print(sys.version_info.minor)"
   ],
   "metadata": {
    "collapsed": false
   }
  },
  {
   "cell_type": "code",
   "execution_count": 3,
   "metadata": {},
   "outputs": [],
   "source": [
    "# module_names = sys.stdlib_module_names\n",
    "module_names = isort.stdlibs.py38.stdlib\n",
    "# print(module_names)"
   ]
  },
  {
   "cell_type": "code",
   "execution_count": 4,
   "metadata": {
    "collapsed": false
   },
   "outputs": [],
   "source": [
    "external_packages = set()\n",
    "for name in module_names:\n",
    "    if name[0] == '_' or name == 'this' or name == 'antigravity':\n",
    "        continue\n",
    "    external_packages.add(name)\n",
    "# print(external_packages)"
   ]
  },
  {
   "cell_type": "code",
   "execution_count": 5,
   "outputs": [
    {
     "name": "stdout",
     "output_type": "stream",
     "text": [
      "sys.version_info(major=3, minor=8, micro=10, releaselevel='final', serial=0)\n",
      "Python 3.8.10 on Linux 5.15.0-50-generic\n",
      "Stdlib contains 212 external modules and packages: \n",
      "{'profile', 'fcntl', 'lib2to3', 'tty', 'asyncio', 'shutil', 'mailcap', 'netrc', 'sre', 'xml', 'winsound', 'heapq', 'shlex', 'stringprep', 'plistlib', 'pkgutil', 'turtledemo', 'pickletools', 'csv', 'wsgiref', 'numbers', 'queue', 'atexit', 'dummy_threading', 'rlcompleter', 'ctypes', 'fileinput', 'http', 'sre_parse', 'spwd', 'struct', 'getopt', 'marshal', 'sunau', 'pdb', 'functools', 'pydoc', 'token', 'secrets', 'syslog', 'stat', 'xmlrpc', 're', 'shelve', 'termios', 'imghdr', 'reprlib', 'encodings', 'unittest', 'filecmp', 'ssl', 'compileall', 'threading', 'configparser', 'dis', 'errno', 'weakref', 'ipaddress', 'typing', 'enum', 'platform', 'itertools', 'zlib', 'msilib', 'code', 'socketserver', 'turtle', 'poplib', 'webbrowser', 'imaplib', 'tempfile', 'copy', 'sys', 'tabnanny', 'importlib', 'inspect', 'posix', 'audioop', 'cgi', 'nis', 'zipimport', 'runpy', 'quopri', 'symbol', 'fnmatch', 'calendar', 'doctest', 'parser', 'string', 'ensurepip', 'random', 'cgitb', 'decimal', 'tkinter', 'msvcrt', 'asynchat', 'cProfile', 'smtplib', 'sre_constants', 'contextlib', 'urllib', 'selectors', 'sysconfig', 'modulefinder', 'lzma', 'ntpath', 'difflib', 'contextvars', 'mmap', 'unicodedata', 'xdrlib', 'posixpath', 'uuid', 'bisect', 'types', 'tarfile', 'array', 'concurrent', 'tokenize', 'zipapp', 'getpass', 'curses', 'argparse', 'codeop', 'py_compile', 'select', 'signal', 'telnetlib', 'binhex', 'zipfile', 'dataclasses', 'fractions', 'colorsys', 'faulthandler', 'json', 'sqlite3', 'codecs', 'pipes', 'formatter', 'nntplib', 'builtins', 'gettext', 'os', 'pickle', 'pty', 'linecache', 'distutils', 'mimetypes', 'ossaudiodev', 'timeit', 'winreg', 'hmac', 'imp', 'venv', 'crypt', 'grp', 'pprint', 'operator', 'pathlib', 'test', 'pwd', 'glob', 'html', 'logging', 'chunk', 'sre_compile', 'wave', 'aifc', 'hashlib', 'site', 'subprocess', 'cmath', 'bdb', 'dbm', 'io', 'email', 'statistics', 'textwrap', 'optparse', 'gc', 'time', 'collections', 'sched', 'readline', 'sndhdr', 'binascii', 'base64', 'pyclbr', 'copyreg', 'traceback', 'trace', 'uu', 'warnings', 'symtable', 'ast', 'tracemalloc', 'ftplib', 'datetime', 'mailbox', 'resource', 'smtpd', 'gzip', 'locale', 'cmd', 'multiprocessing', 'pstats', 'bz2', 'math', 'abc', 'keyword', 'socket', 'asyncore'}\n"
     ]
    }
   ],
   "source": [
    "import platform\n",
    "print(sys.version_info)\n",
    "v = sys.version_info\n",
    "print(f'Python {v.major}.{v.minor}.{v.micro} on {platform.system()} {platform.release()}')\n",
    "print(f'Stdlib contains {len(external_packages)} external modules and packages: ')\n",
    "print(external_packages)"
   ],
   "metadata": {
    "collapsed": false
   }
  },
  {
   "cell_type": "code",
   "execution_count": 6,
   "metadata": {
    "collapsed": false
   },
   "outputs": [
    {
     "name": "stdout",
     "output_type": "stream",
     "text": [
      "Linux\n",
      "5.15.0-50-generic\n",
      "Linux-5.15.0-50-generic-x86_64-with-glibc2.29\n",
      "#56~20.04.1-Ubuntu SMP Tue Sep 27 15:51:29 UTC 2022\n"
     ]
    }
   ],
   "source": [
    "import platform\n",
    "print(platform.system())\n",
    "print(platform.release())\n",
    "print(platform.platform(terse=True))\n",
    "print(platform.version())"
   ]
  },
  {
   "cell_type": "code",
   "execution_count": 7,
   "metadata": {},
   "outputs": [],
   "source": [
    "import importlib\n",
    "importlib.import_module('array')\n",
    "del sys.modules['array']"
   ]
  },
  {
   "cell_type": "code",
   "execution_count": 8,
   "metadata": {},
   "outputs": [],
   "source": [
    "def get_real(package_names):\n",
    "    real_modules = set()\n",
    "    for name in package_names:\n",
    "        try:\n",
    "            importlib.import_module(name)\n",
    "            del sys.modules[name]\n",
    "            real_modules.add(name)\n",
    "        except:\n",
    "            continue\n",
    "    return real_modules"
   ]
  },
  {
   "cell_type": "code",
   "execution_count": 9,
   "metadata": {},
   "outputs": [
    {
     "name": "stdout",
     "output_type": "stream",
     "text": [
      "{'profile', 'fcntl', 'lib2to3', 'tty', 'asyncio', 'shutil', 'mailcap', 'netrc', 'xml', 'heapq', 'shlex', 'socket', 'stringprep', 'plistlib', 'pkgutil', 'pickletools', 'csv', 'wsgiref', 'numbers', 'queue', 'atexit', 'dummy_threading', 'rlcompleter', 'fileinput', 'http', 'sre_parse', 'spwd', 'struct', 'getopt', 'marshal', 'sunau', 'pdb', 'functools', 'pydoc', 'token', 'secrets', 'syslog', 'stat', 'xmlrpc', 're', 'shelve', 'termios', 'imghdr', 'reprlib', 'encodings', 'filecmp', 'ssl', 'compileall', 'threading', 'configparser', 'dis', 'errno', 'weakref', 'ipaddress', 'typing', 'enum', 'platform', 'itertools', 'zlib', 'code', 'socketserver', 'poplib', 'webbrowser', 'imaplib', 'tempfile', 'copy', 'sys', 'tabnanny', 'importlib', 'inspect', 'posix', 'audioop', 'cgi', 'nis', 'zipimport', 'runpy', 'quopri', 'symbol', 'fnmatch', 'calendar', 'parser', 'string', 'random', 'decimal', 'asynchat', 'cProfile', 'smtplib', 'sre_constants', 'contextlib', 'urllib', 'selectors', 'sysconfig', 'modulefinder', 'lzma', 'ntpath', 'difflib', 'contextvars', 'mmap', 'unicodedata', 'xdrlib', 'posixpath', 'uuid', 'bisect', 'types', 'tarfile', 'array', 'concurrent', 'tokenize', 'zipapp', 'getpass', 'curses', 'argparse', 'codeop', 'py_compile', 'select', 'signal', 'telnetlib', 'binhex', 'zipfile', 'dataclasses', 'fractions', 'colorsys', 'faulthandler', 'json', 'sqlite3', 'codecs', 'pipes', 'formatter', 'nntplib', 'builtins', 'gettext', 'os', 'pickle', 'pty', 'linecache', 'distutils', 'mimetypes', 'ossaudiodev', 'timeit', 'hmac', 'crypt', 'grp', 'pprint', 'operator', 'pathlib', 'test', 'pwd', 'glob', 'html', 'logging', 'chunk', 'sre_compile', 'wave', 'aifc', 'hashlib', 'site', 'subprocess', 'cmath', 'bdb', 'dbm', 'io', 'email', 'statistics', 'textwrap', 'gc', 'time', 'collections', 'sched', 'readline', 'sndhdr', 'binascii', 'base64', 'copyreg', 'traceback', 'uu', 'warnings', 'symtable', 'ast', 'ftplib', 'datetime', 'resource', 'gzip', 'locale', 'cmd', 'multiprocessing', 'pstats', 'bz2', 'math', 'abc', 'keyword', 'ctypes', 'asyncore'}\n"
     ]
    }
   ],
   "source": [
    "real_modules = get_real(external_packages)\n",
    "print(real_modules)"
   ]
  },
  {
   "cell_type": "code",
   "execution_count": 10,
   "outputs": [
    {
     "data": {
      "text/plain": "{'__name__': 'locale',\n '__doc__': \"Locale support module.\\n\\nThe module provides low-level access to the C lib's locale APIs and adds high\\nlevel number formatting APIs as well as a locale aliasing engine to complement\\nthese.\\n\\nThe aliasing engine includes support for many commonly used locale names and\\nmaps them to values suitable for passing to the C lib's setlocale() function. It\\nalso includes default encodings for all supported locale names.\\n\\n\",\n '__package__': '',\n '__loader__': <_frozen_importlib_external.SourceFileLoader at 0x7f343431ec40>,\n '__spec__': ModuleSpec(name='locale', loader=<_frozen_importlib_external.SourceFileLoader object at 0x7f343431ec40>, origin='/usr/lib/python3.8/locale.py'),\n '__file__': '/usr/lib/python3.8/locale.py',\n '__cached__': '/usr/lib/python3.8/__pycache__/locale.cpython-38.pyc',\n '__builtins__': {'__name__': 'builtins',\n  '__doc__': \"Built-in functions, exceptions, and other objects.\\n\\nNoteworthy: None is the `nil' object; Ellipsis represents `...' in slices.\",\n  '__package__': '',\n  '__loader__': _frozen_importlib.BuiltinImporter,\n  '__spec__': ModuleSpec(name='builtins', loader=<class '_frozen_importlib.BuiltinImporter'>),\n  '__build_class__': <function __build_class__>,\n  '__import__': <function __import__>,\n  'abs': <function abs(x, /)>,\n  'all': <function all(iterable, /)>,\n  'any': <function any(iterable, /)>,\n  'ascii': <function ascii(obj, /)>,\n  'bin': <function bin(number, /)>,\n  'breakpoint': <function breakpoint>,\n  'callable': <function callable(obj, /)>,\n  'chr': <function chr(i, /)>,\n  'compile': <function compile(source, filename, mode, flags=0, dont_inherit=False, optimize=-1, *, _feature_version=-1)>,\n  'delattr': <function delattr(obj, name, /)>,\n  'dir': <function dir>,\n  'divmod': <function divmod(x, y, /)>,\n  'eval': <function eval(source, globals=None, locals=None, /)>,\n  'exec': <function exec(source, globals=None, locals=None, /)>,\n  'format': <function format(value, format_spec='', /)>,\n  'getattr': <function getattr>,\n  'globals': <function globals()>,\n  'hasattr': <function hasattr(obj, name, /)>,\n  'hash': <function hash(obj, /)>,\n  'hex': <function hex(number, /)>,\n  'id': <function id(obj, /)>,\n  'input': <bound method Kernel.raw_input of <ipykernel.ipkernel.IPythonKernel object at 0x7f34364e9c10>>,\n  'isinstance': <function isinstance(obj, class_or_tuple, /)>,\n  'issubclass': <function issubclass(cls, class_or_tuple, /)>,\n  'iter': <function iter>,\n  'len': <function len(obj, /)>,\n  'locals': <function locals()>,\n  'max': <function max>,\n  'min': <function min>,\n  'next': <function next>,\n  'oct': <function oct(number, /)>,\n  'ord': <function ord(c, /)>,\n  'pow': <function pow(base, exp, mod=None)>,\n  'print': <function print>,\n  'repr': <function repr(obj, /)>,\n  'round': <function round(number, ndigits=None)>,\n  'setattr': <function setattr(obj, name, value, /)>,\n  'sorted': <function sorted(iterable, /, *, key=None, reverse=False)>,\n  'sum': <function sum(iterable, /, start=0)>,\n  'vars': <function vars>,\n  'None': None,\n  'Ellipsis': Ellipsis,\n  'NotImplemented': NotImplemented,\n  'False': False,\n  'True': True,\n  'bool': bool,\n  'memoryview': memoryview,\n  'bytearray': bytearray,\n  'bytes': bytes,\n  'classmethod': classmethod,\n  'complex': complex,\n  'dict': dict,\n  'enumerate': enumerate,\n  'filter': filter,\n  'float': float,\n  'frozenset': frozenset,\n  'property': property,\n  'int': int,\n  'list': list,\n  'map': map,\n  'object': object,\n  'range': range,\n  'reversed': reversed,\n  'set': set,\n  'slice': slice,\n  'staticmethod': staticmethod,\n  'str': str,\n  'super': super,\n  'tuple': tuple,\n  'type': type,\n  'zip': zip,\n  '__debug__': True,\n  'BaseException': BaseException,\n  'Exception': Exception,\n  'TypeError': TypeError,\n  'StopAsyncIteration': StopAsyncIteration,\n  'StopIteration': StopIteration,\n  'GeneratorExit': GeneratorExit,\n  'SystemExit': SystemExit,\n  'KeyboardInterrupt': KeyboardInterrupt,\n  'ImportError': ImportError,\n  'ModuleNotFoundError': ModuleNotFoundError,\n  'OSError': OSError,\n  'EnvironmentError': OSError,\n  'IOError': OSError,\n  'EOFError': EOFError,\n  'RuntimeError': RuntimeError,\n  'RecursionError': RecursionError,\n  'NotImplementedError': NotImplementedError,\n  'NameError': NameError,\n  'UnboundLocalError': UnboundLocalError,\n  'AttributeError': AttributeError,\n  'SyntaxError': SyntaxError,\n  'IndentationError': IndentationError,\n  'TabError': TabError,\n  'LookupError': LookupError,\n  'IndexError': IndexError,\n  'KeyError': KeyError,\n  'ValueError': ValueError,\n  'UnicodeError': UnicodeError,\n  'UnicodeEncodeError': UnicodeEncodeError,\n  'UnicodeDecodeError': UnicodeDecodeError,\n  'UnicodeTranslateError': UnicodeTranslateError,\n  'AssertionError': AssertionError,\n  'ArithmeticError': ArithmeticError,\n  'FloatingPointError': FloatingPointError,\n  'OverflowError': OverflowError,\n  'ZeroDivisionError': ZeroDivisionError,\n  'SystemError': SystemError,\n  'ReferenceError': ReferenceError,\n  'MemoryError': MemoryError,\n  'BufferError': BufferError,\n  'Warning': Warning,\n  'UserWarning': UserWarning,\n  'DeprecationWarning': DeprecationWarning,\n  'PendingDeprecationWarning': PendingDeprecationWarning,\n  'SyntaxWarning': SyntaxWarning,\n  'RuntimeWarning': RuntimeWarning,\n  'FutureWarning': FutureWarning,\n  'ImportWarning': ImportWarning,\n  'UnicodeWarning': UnicodeWarning,\n  'BytesWarning': BytesWarning,\n  'ResourceWarning': ResourceWarning,\n  'ConnectionError': ConnectionError,\n  'BlockingIOError': BlockingIOError,\n  'BrokenPipeError': BrokenPipeError,\n  'ChildProcessError': ChildProcessError,\n  'ConnectionAbortedError': ConnectionAbortedError,\n  'ConnectionRefusedError': ConnectionRefusedError,\n  'ConnectionResetError': ConnectionResetError,\n  'FileExistsError': FileExistsError,\n  'FileNotFoundError': FileNotFoundError,\n  'IsADirectoryError': IsADirectoryError,\n  'NotADirectoryError': NotADirectoryError,\n  'InterruptedError': InterruptedError,\n  'PermissionError': PermissionError,\n  'ProcessLookupError': ProcessLookupError,\n  'TimeoutError': TimeoutError,\n  'open': <function io.open(file, mode='r', buffering=-1, encoding=None, errors=None, newline=None, closefd=True, opener=None)>,\n  'copyright': Copyright (c) 2001-2021 Python Software Foundation.\n  All Rights Reserved.\n  \n  Copyright (c) 2000 BeOpen.com.\n  All Rights Reserved.\n  \n  Copyright (c) 1995-2001 Corporation for National Research Initiatives.\n  All Rights Reserved.\n  \n  Copyright (c) 1991-1995 Stichting Mathematisch Centrum, Amsterdam.\n  All Rights Reserved.,\n  'credits':     Thanks to CWI, CNRI, BeOpen.com, Zope Corporation and a cast of thousands\n      for supporting Python development.  See www.python.org for more information.,\n  'license': Type license() to see the full license text,\n  'help': Type help() for interactive help, or help(object) for help about object.,\n  'execfile': <function _pydev_bundle._pydev_execfile.execfile(file, glob=None, loc=None)>,\n  'runfile': <function _pydev_bundle.pydev_umd.runfile(filename, args=None, wdir=None, namespace=None)>,\n  '__IPYTHON__': True,\n  'display': <function IPython.core.display_functions.display(*objs, include=None, exclude=None, metadata=None, transient=None, display_id=None, raw=False, clear=False, **kwargs)>,\n  'get_ipython': <bound method InteractiveShell.get_ipython of <ipykernel.zmqshell.ZMQInteractiveShell object at 0x7f3436509c10>>},\n 'sys': <module 'sys' (built-in)>,\n 'encodings': <module 'encodings' from '/usr/lib/python3.8/encodings/__init__.py'>,\n 're': <module 're' from '/usr/lib/python3.8/re.py'>,\n '_collections_abc': <module '_collections_abc' from '/usr/lib/python3.8/_collections_abc.py'>,\n '_builtin_str': str,\n 'functools': <module 'functools' from '/usr/lib/python3.8/functools.py'>,\n '__all__': ['getlocale',\n  'getdefaultlocale',\n  'getpreferredencoding',\n  'Error',\n  'setlocale',\n  'resetlocale',\n  'localeconv',\n  'strcoll',\n  'strxfrm',\n  'str',\n  'atof',\n  'atoi',\n  'format',\n  'format_string',\n  'currency',\n  'normalize',\n  'LC_CTYPE',\n  'LC_COLLATE',\n  'LC_TIME',\n  'LC_MONETARY',\n  'LC_NUMERIC',\n  'LC_ALL',\n  'CHAR_MAX',\n  'LC_MESSAGES'],\n '_strcoll': <function locale._strcoll(a, b)>,\n '_strxfrm': <function locale._strxfrm(s)>,\n 'setlocale': <function locale.setlocale(category, locale=None)>,\n 'localeconv': <function _locale.localeconv>,\n 'strcoll': <function _locale.strcoll>,\n 'strxfrm': <function _locale.strxfrm>,\n 'nl_langinfo': <function _locale.nl_langinfo>,\n 'gettext': <function _locale.gettext>,\n 'dgettext': <function _locale.dgettext>,\n 'dcgettext': <function _locale.dcgettext>,\n 'textdomain': <function _locale.textdomain>,\n 'bindtextdomain': <function _locale.bindtextdomain>,\n 'bind_textdomain_codeset': <function _locale.bind_textdomain_codeset>,\n 'LC_CTYPE': 0,\n 'LC_TIME': 2,\n 'LC_COLLATE': 3,\n 'LC_MONETARY': 4,\n 'LC_MESSAGES': 5,\n 'LC_NUMERIC': 1,\n 'LC_ALL': 6,\n 'CHAR_MAX': 127,\n 'Error': locale.Error,\n 'DAY_1': 131079,\n 'DAY_2': 131080,\n 'DAY_3': 131081,\n 'DAY_4': 131082,\n 'DAY_5': 131083,\n 'DAY_6': 131084,\n 'DAY_7': 131085,\n 'ABDAY_1': 131072,\n 'ABDAY_2': 131073,\n 'ABDAY_3': 131074,\n 'ABDAY_4': 131075,\n 'ABDAY_5': 131076,\n 'ABDAY_6': 131077,\n 'ABDAY_7': 131078,\n 'MON_1': 131098,\n 'MON_2': 131099,\n 'MON_3': 131100,\n 'MON_4': 131101,\n 'MON_5': 131102,\n 'MON_6': 131103,\n 'MON_7': 131104,\n 'MON_8': 131105,\n 'MON_9': 131106,\n 'MON_10': 131107,\n 'MON_11': 131108,\n 'MON_12': 131109,\n 'ABMON_1': 131086,\n 'ABMON_2': 131087,\n 'ABMON_3': 131088,\n 'ABMON_4': 131089,\n 'ABMON_5': 131090,\n 'ABMON_6': 131091,\n 'ABMON_7': 131092,\n 'ABMON_8': 131093,\n 'ABMON_9': 131094,\n 'ABMON_10': 131095,\n 'ABMON_11': 131096,\n 'ABMON_12': 131097,\n 'RADIXCHAR': 65536,\n 'THOUSEP': 65537,\n 'CRNCYSTR': 262159,\n 'D_T_FMT': 131112,\n 'D_FMT': 131113,\n 'T_FMT': 131114,\n 'AM_STR': 131110,\n 'PM_STR': 131111,\n 'CODESET': 14,\n 'T_FMT_AMPM': 131115,\n 'ERA': 131116,\n 'ERA_D_FMT': 131118,\n 'ERA_D_T_FMT': 131120,\n 'ERA_T_FMT': 131121,\n 'ALT_DIGITS': 131119,\n 'YESEXPR': 327680,\n 'NOEXPR': 327681,\n '_localeconv': <function _locale.localeconv>,\n '_override_localeconv': {},\n '_grouping_intervals': <function locale._grouping_intervals(grouping)>,\n '_group': <function locale._group(s, monetary=False)>,\n '_strip_padding': <function locale._strip_padding(s, amount)>,\n '_percent_re': re.compile(r'%(?:\\((?P<key>.*?)\\))?(?P<modifiers>[-#0-9 +*.hlL]*?)[eEfFgGdiouxXcrs%]',\n            re.UNICODE),\n '_format': <function locale._format(percent, value, grouping=False, monetary=False, *additional)>,\n 'format_string': <function locale.format_string(f, val, grouping=False, monetary=False)>,\n 'format': <function locale.format(percent, value, grouping=False, monetary=False, *additional)>,\n 'currency': <function locale.currency(val, symbol=True, grouping=False, international=False)>,\n 'str': <function locale.str(val)>,\n 'delocalize': <function locale.delocalize(string)>,\n 'atof': <function locale.atof(string, func=<class 'float'>)>,\n 'atoi': <function locale.atoi(string)>,\n '_test': <function locale._test()>,\n '_setlocale': <function _locale.setlocale>,\n '_replace_encoding': <function locale._replace_encoding(code, encoding)>,\n '_append_modifier': <function locale._append_modifier(code, modifier)>,\n 'normalize': <function locale.normalize(localename)>,\n '_parse_localename': <function locale._parse_localename(localename)>,\n '_build_localename': <function locale._build_localename(localetuple)>,\n 'getdefaultlocale': <function locale.getdefaultlocale(envvars=('LC_ALL', 'LC_CTYPE', 'LANG', 'LANGUAGE'))>,\n 'getlocale': <function locale.getlocale(category=0)>,\n 'resetlocale': <function locale.resetlocale(category=6)>,\n 'getpreferredencoding': <function locale.getpreferredencoding(do_setlocale=True)>,\n 'locale_encoding_alias': {'437': 'C',\n  'c': 'C',\n  'en': 'ISO8859-1',\n  'jis': 'JIS7',\n  'jis7': 'JIS7',\n  'ajec': 'eucJP',\n  'koi8c': 'KOI8-C',\n  'microsoftcp1251': 'CP1251',\n  'microsoftcp1255': 'CP1255',\n  'microsoftcp1256': 'CP1256',\n  '88591': 'ISO8859-1',\n  '88592': 'ISO8859-2',\n  '88595': 'ISO8859-5',\n  '885915': 'ISO8859-15',\n  'ascii': 'ISO8859-1',\n  'latin_1': 'ISO8859-1',\n  'iso8859_1': 'ISO8859-1',\n  'iso8859_10': 'ISO8859-10',\n  'iso8859_11': 'ISO8859-11',\n  'iso8859_13': 'ISO8859-13',\n  'iso8859_14': 'ISO8859-14',\n  'iso8859_15': 'ISO8859-15',\n  'iso8859_16': 'ISO8859-16',\n  'iso8859_2': 'ISO8859-2',\n  'iso8859_3': 'ISO8859-3',\n  'iso8859_4': 'ISO8859-4',\n  'iso8859_5': 'ISO8859-5',\n  'iso8859_6': 'ISO8859-6',\n  'iso8859_7': 'ISO8859-7',\n  'iso8859_8': 'ISO8859-8',\n  'iso8859_9': 'ISO8859-9',\n  'iso2022_jp': 'JIS7',\n  'shift_jis': 'SJIS',\n  'tactis': 'TACTIS',\n  'euc_jp': 'eucJP',\n  'euc_kr': 'eucKR',\n  'utf_8': 'UTF-8',\n  'koi8_r': 'KOI8-R',\n  'koi8_t': 'KOI8-T',\n  'koi8_u': 'KOI8-U',\n  'kz1048': 'RK1048',\n  'cp1251': 'CP1251',\n  'cp1255': 'CP1255',\n  'cp1256': 'CP1256',\n  'eucjp': 'eucJP',\n  'euckr': 'eucKR',\n  'iso2022jp': 'JIS7',\n  'iso88591': 'ISO8859-1',\n  'iso885910': 'ISO8859-10',\n  'iso885911': 'ISO8859-11',\n  'iso885913': 'ISO8859-13',\n  'iso885914': 'ISO8859-14',\n  'iso885915': 'ISO8859-15',\n  'iso885916': 'ISO8859-16',\n  'iso88592': 'ISO8859-2',\n  'iso88593': 'ISO8859-3',\n  'iso88594': 'ISO8859-4',\n  'iso88595': 'ISO8859-5',\n  'iso88596': 'ISO8859-6',\n  'iso88597': 'ISO8859-7',\n  'iso88598': 'ISO8859-8',\n  'iso88599': 'ISO8859-9',\n  'koi8r': 'KOI8-R',\n  'koi8t': 'KOI8-T',\n  'koi8u': 'KOI8-U',\n  'latin1': 'ISO8859-1',\n  'shiftjis': 'SJIS',\n  'utf8': 'UTF-8'},\n 'k': 'utf8',\n 'v': 'UTF-8',\n 'locale_alias': {'a3': 'az_AZ.KOI8-C',\n  'a3_az': 'az_AZ.KOI8-C',\n  'a3_az.koic': 'az_AZ.KOI8-C',\n  'aa_dj': 'aa_DJ.ISO8859-1',\n  'aa_er': 'aa_ER.UTF-8',\n  'aa_et': 'aa_ET.UTF-8',\n  'af': 'af_ZA.ISO8859-1',\n  'af_za': 'af_ZA.ISO8859-1',\n  'agr_pe': 'agr_PE.UTF-8',\n  'ak_gh': 'ak_GH.UTF-8',\n  'am': 'am_ET.UTF-8',\n  'am_et': 'am_ET.UTF-8',\n  'american': 'en_US.ISO8859-1',\n  'an_es': 'an_ES.ISO8859-15',\n  'anp_in': 'anp_IN.UTF-8',\n  'ar': 'ar_AA.ISO8859-6',\n  'ar_aa': 'ar_AA.ISO8859-6',\n  'ar_ae': 'ar_AE.ISO8859-6',\n  'ar_bh': 'ar_BH.ISO8859-6',\n  'ar_dz': 'ar_DZ.ISO8859-6',\n  'ar_eg': 'ar_EG.ISO8859-6',\n  'ar_in': 'ar_IN.UTF-8',\n  'ar_iq': 'ar_IQ.ISO8859-6',\n  'ar_jo': 'ar_JO.ISO8859-6',\n  'ar_kw': 'ar_KW.ISO8859-6',\n  'ar_lb': 'ar_LB.ISO8859-6',\n  'ar_ly': 'ar_LY.ISO8859-6',\n  'ar_ma': 'ar_MA.ISO8859-6',\n  'ar_om': 'ar_OM.ISO8859-6',\n  'ar_qa': 'ar_QA.ISO8859-6',\n  'ar_sa': 'ar_SA.ISO8859-6',\n  'ar_sd': 'ar_SD.ISO8859-6',\n  'ar_ss': 'ar_SS.UTF-8',\n  'ar_sy': 'ar_SY.ISO8859-6',\n  'ar_tn': 'ar_TN.ISO8859-6',\n  'ar_ye': 'ar_YE.ISO8859-6',\n  'arabic': 'ar_AA.ISO8859-6',\n  'as': 'as_IN.UTF-8',\n  'as_in': 'as_IN.UTF-8',\n  'ast_es': 'ast_ES.ISO8859-15',\n  'ayc_pe': 'ayc_PE.UTF-8',\n  'az': 'az_AZ.ISO8859-9E',\n  'az_az': 'az_AZ.ISO8859-9E',\n  'az_az.iso88599e': 'az_AZ.ISO8859-9E',\n  'az_ir': 'az_IR.UTF-8',\n  'be': 'be_BY.CP1251',\n  'be@latin': 'be_BY.UTF-8@latin',\n  'be_bg.utf8': 'bg_BG.UTF-8',\n  'be_by': 'be_BY.CP1251',\n  'be_by@latin': 'be_BY.UTF-8@latin',\n  'bem_zm': 'bem_ZM.UTF-8',\n  'ber_dz': 'ber_DZ.UTF-8',\n  'ber_ma': 'ber_MA.UTF-8',\n  'bg': 'bg_BG.CP1251',\n  'bg_bg': 'bg_BG.CP1251',\n  'bhb_in.utf8': 'bhb_IN.UTF-8',\n  'bho_in': 'bho_IN.UTF-8',\n  'bho_np': 'bho_NP.UTF-8',\n  'bi_vu': 'bi_VU.UTF-8',\n  'bn_bd': 'bn_BD.UTF-8',\n  'bn_in': 'bn_IN.UTF-8',\n  'bo_cn': 'bo_CN.UTF-8',\n  'bo_in': 'bo_IN.UTF-8',\n  'bokmal': 'nb_NO.ISO8859-1',\n  'bokmål': 'nb_NO.ISO8859-1',\n  'br': 'br_FR.ISO8859-1',\n  'br_fr': 'br_FR.ISO8859-1',\n  'brx_in': 'brx_IN.UTF-8',\n  'bs': 'bs_BA.ISO8859-2',\n  'bs_ba': 'bs_BA.ISO8859-2',\n  'bulgarian': 'bg_BG.CP1251',\n  'byn_er': 'byn_ER.UTF-8',\n  'c': 'C',\n  'c-french': 'fr_CA.ISO8859-1',\n  'c.ascii': 'C',\n  'c.en': 'C',\n  'c.iso88591': 'en_US.ISO8859-1',\n  'c.utf8': 'en_US.UTF-8',\n  'c_c': 'C',\n  'c_c.c': 'C',\n  'ca': 'ca_ES.ISO8859-1',\n  'ca_ad': 'ca_AD.ISO8859-1',\n  'ca_es': 'ca_ES.ISO8859-1',\n  'ca_es@valencia': 'ca_ES.UTF-8@valencia',\n  'ca_fr': 'ca_FR.ISO8859-1',\n  'ca_it': 'ca_IT.ISO8859-1',\n  'catalan': 'ca_ES.ISO8859-1',\n  'ce_ru': 'ce_RU.UTF-8',\n  'cextend': 'en_US.ISO8859-1',\n  'chinese-s': 'zh_CN.eucCN',\n  'chinese-t': 'zh_TW.eucTW',\n  'chr_us': 'chr_US.UTF-8',\n  'ckb_iq': 'ckb_IQ.UTF-8',\n  'cmn_tw': 'cmn_TW.UTF-8',\n  'crh_ua': 'crh_UA.UTF-8',\n  'croatian': 'hr_HR.ISO8859-2',\n  'cs': 'cs_CZ.ISO8859-2',\n  'cs_cs': 'cs_CZ.ISO8859-2',\n  'cs_cz': 'cs_CZ.ISO8859-2',\n  'csb_pl': 'csb_PL.UTF-8',\n  'cv_ru': 'cv_RU.UTF-8',\n  'cy': 'cy_GB.ISO8859-1',\n  'cy_gb': 'cy_GB.ISO8859-1',\n  'cz': 'cs_CZ.ISO8859-2',\n  'cz_cz': 'cs_CZ.ISO8859-2',\n  'czech': 'cs_CZ.ISO8859-2',\n  'da': 'da_DK.ISO8859-1',\n  'da_dk': 'da_DK.ISO8859-1',\n  'danish': 'da_DK.ISO8859-1',\n  'dansk': 'da_DK.ISO8859-1',\n  'de': 'de_DE.ISO8859-1',\n  'de_at': 'de_AT.ISO8859-1',\n  'de_be': 'de_BE.ISO8859-1',\n  'de_ch': 'de_CH.ISO8859-1',\n  'de_de': 'de_DE.ISO8859-1',\n  'de_it': 'de_IT.ISO8859-1',\n  'de_li.utf8': 'de_LI.UTF-8',\n  'de_lu': 'de_LU.ISO8859-1',\n  'deutsch': 'de_DE.ISO8859-1',\n  'doi_in': 'doi_IN.UTF-8',\n  'dutch': 'nl_NL.ISO8859-1',\n  'dutch.iso88591': 'nl_BE.ISO8859-1',\n  'dv_mv': 'dv_MV.UTF-8',\n  'dz_bt': 'dz_BT.UTF-8',\n  'ee': 'ee_EE.ISO8859-4',\n  'ee_ee': 'ee_EE.ISO8859-4',\n  'eesti': 'et_EE.ISO8859-1',\n  'el': 'el_GR.ISO8859-7',\n  'el_cy': 'el_CY.ISO8859-7',\n  'el_gr': 'el_GR.ISO8859-7',\n  'el_gr@euro': 'el_GR.ISO8859-15',\n  'en': 'en_US.ISO8859-1',\n  'en_ag': 'en_AG.UTF-8',\n  'en_au': 'en_AU.ISO8859-1',\n  'en_be': 'en_BE.ISO8859-1',\n  'en_bw': 'en_BW.ISO8859-1',\n  'en_ca': 'en_CA.ISO8859-1',\n  'en_dk': 'en_DK.ISO8859-1',\n  'en_dl.utf8': 'en_DL.UTF-8',\n  'en_gb': 'en_GB.ISO8859-1',\n  'en_hk': 'en_HK.ISO8859-1',\n  'en_ie': 'en_IE.ISO8859-1',\n  'en_il': 'en_IL.UTF-8',\n  'en_in': 'en_IN.ISO8859-1',\n  'en_ng': 'en_NG.UTF-8',\n  'en_nz': 'en_NZ.ISO8859-1',\n  'en_ph': 'en_PH.ISO8859-1',\n  'en_sc.utf8': 'en_SC.UTF-8',\n  'en_sg': 'en_SG.ISO8859-1',\n  'en_uk': 'en_GB.ISO8859-1',\n  'en_us': 'en_US.ISO8859-1',\n  'en_us@euro@euro': 'en_US.ISO8859-15',\n  'en_za': 'en_ZA.ISO8859-1',\n  'en_zm': 'en_ZM.UTF-8',\n  'en_zw': 'en_ZW.ISO8859-1',\n  'en_zw.utf8': 'en_ZS.UTF-8',\n  'eng_gb': 'en_GB.ISO8859-1',\n  'english': 'en_EN.ISO8859-1',\n  'english.iso88591': 'en_US.ISO8859-1',\n  'english_uk': 'en_GB.ISO8859-1',\n  'english_united-states': 'en_US.ISO8859-1',\n  'english_united-states.437': 'C',\n  'english_us': 'en_US.ISO8859-1',\n  'eo': 'eo_XX.ISO8859-3',\n  'eo.utf8': 'eo.UTF-8',\n  'eo_eo': 'eo_EO.ISO8859-3',\n  'eo_us.utf8': 'eo_US.UTF-8',\n  'eo_xx': 'eo_XX.ISO8859-3',\n  'es': 'es_ES.ISO8859-1',\n  'es_ar': 'es_AR.ISO8859-1',\n  'es_bo': 'es_BO.ISO8859-1',\n  'es_cl': 'es_CL.ISO8859-1',\n  'es_co': 'es_CO.ISO8859-1',\n  'es_cr': 'es_CR.ISO8859-1',\n  'es_cu': 'es_CU.UTF-8',\n  'es_do': 'es_DO.ISO8859-1',\n  'es_ec': 'es_EC.ISO8859-1',\n  'es_es': 'es_ES.ISO8859-1',\n  'es_gt': 'es_GT.ISO8859-1',\n  'es_hn': 'es_HN.ISO8859-1',\n  'es_mx': 'es_MX.ISO8859-1',\n  'es_ni': 'es_NI.ISO8859-1',\n  'es_pa': 'es_PA.ISO8859-1',\n  'es_pe': 'es_PE.ISO8859-1',\n  'es_pr': 'es_PR.ISO8859-1',\n  'es_py': 'es_PY.ISO8859-1',\n  'es_sv': 'es_SV.ISO8859-1',\n  'es_us': 'es_US.ISO8859-1',\n  'es_uy': 'es_UY.ISO8859-1',\n  'es_ve': 'es_VE.ISO8859-1',\n  'estonian': 'et_EE.ISO8859-1',\n  'et': 'et_EE.ISO8859-15',\n  'et_ee': 'et_EE.ISO8859-15',\n  'eu': 'eu_ES.ISO8859-1',\n  'eu_es': 'eu_ES.ISO8859-1',\n  'eu_fr': 'eu_FR.ISO8859-1',\n  'fa': 'fa_IR.UTF-8',\n  'fa_ir': 'fa_IR.UTF-8',\n  'fa_ir.isiri3342': 'fa_IR.ISIRI-3342',\n  'ff_sn': 'ff_SN.UTF-8',\n  'fi': 'fi_FI.ISO8859-15',\n  'fi_fi': 'fi_FI.ISO8859-15',\n  'fil_ph': 'fil_PH.UTF-8',\n  'finnish': 'fi_FI.ISO8859-1',\n  'fo': 'fo_FO.ISO8859-1',\n  'fo_fo': 'fo_FO.ISO8859-1',\n  'fr': 'fr_FR.ISO8859-1',\n  'fr_be': 'fr_BE.ISO8859-1',\n  'fr_ca': 'fr_CA.ISO8859-1',\n  'fr_ch': 'fr_CH.ISO8859-1',\n  'fr_fr': 'fr_FR.ISO8859-1',\n  'fr_lu': 'fr_LU.ISO8859-1',\n  'français': 'fr_FR.ISO8859-1',\n  'fre_fr': 'fr_FR.ISO8859-1',\n  'french': 'fr_FR.ISO8859-1',\n  'french.iso88591': 'fr_CH.ISO8859-1',\n  'french_france': 'fr_FR.ISO8859-1',\n  'fur_it': 'fur_IT.UTF-8',\n  'fy_de': 'fy_DE.UTF-8',\n  'fy_nl': 'fy_NL.UTF-8',\n  'ga': 'ga_IE.ISO8859-1',\n  'ga_ie': 'ga_IE.ISO8859-1',\n  'galego': 'gl_ES.ISO8859-1',\n  'galician': 'gl_ES.ISO8859-1',\n  'gd': 'gd_GB.ISO8859-1',\n  'gd_gb': 'gd_GB.ISO8859-1',\n  'ger_de': 'de_DE.ISO8859-1',\n  'german': 'de_DE.ISO8859-1',\n  'german.iso88591': 'de_CH.ISO8859-1',\n  'german_germany': 'de_DE.ISO8859-1',\n  'gez_er': 'gez_ER.UTF-8',\n  'gez_et': 'gez_ET.UTF-8',\n  'gl': 'gl_ES.ISO8859-1',\n  'gl_es': 'gl_ES.ISO8859-1',\n  'greek': 'el_GR.ISO8859-7',\n  'gu_in': 'gu_IN.UTF-8',\n  'gv': 'gv_GB.ISO8859-1',\n  'gv_gb': 'gv_GB.ISO8859-1',\n  'ha_ng': 'ha_NG.UTF-8',\n  'hak_tw': 'hak_TW.UTF-8',\n  'he': 'he_IL.ISO8859-8',\n  'he_il': 'he_IL.ISO8859-8',\n  'hebrew': 'he_IL.ISO8859-8',\n  'hi': 'hi_IN.ISCII-DEV',\n  'hi_in': 'hi_IN.ISCII-DEV',\n  'hi_in.isciidev': 'hi_IN.ISCII-DEV',\n  'hif_fj': 'hif_FJ.UTF-8',\n  'hne': 'hne_IN.UTF-8',\n  'hne_in': 'hne_IN.UTF-8',\n  'hr': 'hr_HR.ISO8859-2',\n  'hr_hr': 'hr_HR.ISO8859-2',\n  'hrvatski': 'hr_HR.ISO8859-2',\n  'hsb_de': 'hsb_DE.ISO8859-2',\n  'ht_ht': 'ht_HT.UTF-8',\n  'hu': 'hu_HU.ISO8859-2',\n  'hu_hu': 'hu_HU.ISO8859-2',\n  'hungarian': 'hu_HU.ISO8859-2',\n  'hy_am': 'hy_AM.UTF-8',\n  'hy_am.armscii8': 'hy_AM.ARMSCII_8',\n  'ia': 'ia.UTF-8',\n  'ia_fr': 'ia_FR.UTF-8',\n  'icelandic': 'is_IS.ISO8859-1',\n  'id': 'id_ID.ISO8859-1',\n  'id_id': 'id_ID.ISO8859-1',\n  'ig_ng': 'ig_NG.UTF-8',\n  'ik_ca': 'ik_CA.UTF-8',\n  'in': 'id_ID.ISO8859-1',\n  'in_id': 'id_ID.ISO8859-1',\n  'is': 'is_IS.ISO8859-1',\n  'is_is': 'is_IS.ISO8859-1',\n  'iso-8859-1': 'en_US.ISO8859-1',\n  'iso-8859-15': 'en_US.ISO8859-15',\n  'iso8859-1': 'en_US.ISO8859-1',\n  'iso8859-15': 'en_US.ISO8859-15',\n  'iso_8859_1': 'en_US.ISO8859-1',\n  'iso_8859_15': 'en_US.ISO8859-15',\n  'it': 'it_IT.ISO8859-1',\n  'it_ch': 'it_CH.ISO8859-1',\n  'it_it': 'it_IT.ISO8859-1',\n  'italian': 'it_IT.ISO8859-1',\n  'iu': 'iu_CA.NUNACOM-8',\n  'iu_ca': 'iu_CA.NUNACOM-8',\n  'iu_ca.nunacom8': 'iu_CA.NUNACOM-8',\n  'iw': 'he_IL.ISO8859-8',\n  'iw_il': 'he_IL.ISO8859-8',\n  'iw_il.utf8': 'iw_IL.UTF-8',\n  'ja': 'ja_JP.eucJP',\n  'ja_jp': 'ja_JP.eucJP',\n  'ja_jp.euc': 'ja_JP.eucJP',\n  'ja_jp.mscode': 'ja_JP.SJIS',\n  'ja_jp.pck': 'ja_JP.SJIS',\n  'japan': 'ja_JP.eucJP',\n  'japanese': 'ja_JP.eucJP',\n  'japanese-euc': 'ja_JP.eucJP',\n  'japanese.euc': 'ja_JP.eucJP',\n  'jp_jp': 'ja_JP.eucJP',\n  'ka': 'ka_GE.GEORGIAN-ACADEMY',\n  'ka_ge': 'ka_GE.GEORGIAN-ACADEMY',\n  'ka_ge.georgianacademy': 'ka_GE.GEORGIAN-ACADEMY',\n  'ka_ge.georgianps': 'ka_GE.GEORGIAN-PS',\n  'ka_ge.georgianrs': 'ka_GE.GEORGIAN-ACADEMY',\n  'kab_dz': 'kab_DZ.UTF-8',\n  'kk_kz': 'kk_KZ.ptcp154',\n  'kl': 'kl_GL.ISO8859-1',\n  'kl_gl': 'kl_GL.ISO8859-1',\n  'km_kh': 'km_KH.UTF-8',\n  'kn': 'kn_IN.UTF-8',\n  'kn_in': 'kn_IN.UTF-8',\n  'ko': 'ko_KR.eucKR',\n  'ko_kr': 'ko_KR.eucKR',\n  'ko_kr.euc': 'ko_KR.eucKR',\n  'kok_in': 'kok_IN.UTF-8',\n  'korean': 'ko_KR.eucKR',\n  'korean.euc': 'ko_KR.eucKR',\n  'ks': 'ks_IN.UTF-8',\n  'ks_in': 'ks_IN.UTF-8',\n  'ks_in@devanagari.utf8': 'ks_IN.UTF-8@devanagari',\n  'ku_tr': 'ku_TR.ISO8859-9',\n  'kw': 'kw_GB.ISO8859-1',\n  'kw_gb': 'kw_GB.ISO8859-1',\n  'ky': 'ky_KG.UTF-8',\n  'ky_kg': 'ky_KG.UTF-8',\n  'lb_lu': 'lb_LU.UTF-8',\n  'lg_ug': 'lg_UG.ISO8859-10',\n  'li_be': 'li_BE.UTF-8',\n  'li_nl': 'li_NL.UTF-8',\n  'lij_it': 'lij_IT.UTF-8',\n  'lithuanian': 'lt_LT.ISO8859-13',\n  'ln_cd': 'ln_CD.UTF-8',\n  'lo': 'lo_LA.MULELAO-1',\n  'lo_la': 'lo_LA.MULELAO-1',\n  'lo_la.cp1133': 'lo_LA.IBM-CP1133',\n  'lo_la.ibmcp1133': 'lo_LA.IBM-CP1133',\n  'lo_la.mulelao1': 'lo_LA.MULELAO-1',\n  'lt': 'lt_LT.ISO8859-13',\n  'lt_lt': 'lt_LT.ISO8859-13',\n  'lv': 'lv_LV.ISO8859-13',\n  'lv_lv': 'lv_LV.ISO8859-13',\n  'lzh_tw': 'lzh_TW.UTF-8',\n  'mag_in': 'mag_IN.UTF-8',\n  'mai': 'mai_IN.UTF-8',\n  'mai_in': 'mai_IN.UTF-8',\n  'mai_np': 'mai_NP.UTF-8',\n  'mfe_mu': 'mfe_MU.UTF-8',\n  'mg_mg': 'mg_MG.ISO8859-15',\n  'mhr_ru': 'mhr_RU.UTF-8',\n  'mi': 'mi_NZ.ISO8859-1',\n  'mi_nz': 'mi_NZ.ISO8859-1',\n  'miq_ni': 'miq_NI.UTF-8',\n  'mjw_in': 'mjw_IN.UTF-8',\n  'mk': 'mk_MK.ISO8859-5',\n  'mk_mk': 'mk_MK.ISO8859-5',\n  'ml': 'ml_IN.UTF-8',\n  'ml_in': 'ml_IN.UTF-8',\n  'mn_mn': 'mn_MN.UTF-8',\n  'mni_in': 'mni_IN.UTF-8',\n  'mr': 'mr_IN.UTF-8',\n  'mr_in': 'mr_IN.UTF-8',\n  'ms': 'ms_MY.ISO8859-1',\n  'ms_my': 'ms_MY.ISO8859-1',\n  'mt': 'mt_MT.ISO8859-3',\n  'mt_mt': 'mt_MT.ISO8859-3',\n  'my_mm': 'my_MM.UTF-8',\n  'nan_tw': 'nan_TW.UTF-8',\n  'nb': 'nb_NO.ISO8859-1',\n  'nb_no': 'nb_NO.ISO8859-1',\n  'nds_de': 'nds_DE.UTF-8',\n  'nds_nl': 'nds_NL.UTF-8',\n  'ne_np': 'ne_NP.UTF-8',\n  'nhn_mx': 'nhn_MX.UTF-8',\n  'niu_nu': 'niu_NU.UTF-8',\n  'niu_nz': 'niu_NZ.UTF-8',\n  'nl': 'nl_NL.ISO8859-1',\n  'nl_aw': 'nl_AW.UTF-8',\n  'nl_be': 'nl_BE.ISO8859-1',\n  'nl_nl': 'nl_NL.ISO8859-1',\n  'nn': 'nn_NO.ISO8859-1',\n  'nn_no': 'nn_NO.ISO8859-1',\n  'no': 'no_NO.ISO8859-1',\n  'no@nynorsk': 'ny_NO.ISO8859-1',\n  'no_no': 'no_NO.ISO8859-1',\n  'no_no.iso88591@bokmal': 'no_NO.ISO8859-1',\n  'no_no.iso88591@nynorsk': 'no_NO.ISO8859-1',\n  'norwegian': 'no_NO.ISO8859-1',\n  'nr': 'nr_ZA.ISO8859-1',\n  'nr_za': 'nr_ZA.ISO8859-1',\n  'nso': 'nso_ZA.ISO8859-15',\n  'nso_za': 'nso_ZA.ISO8859-15',\n  'ny': 'ny_NO.ISO8859-1',\n  'ny_no': 'ny_NO.ISO8859-1',\n  'nynorsk': 'nn_NO.ISO8859-1',\n  'oc': 'oc_FR.ISO8859-1',\n  'oc_fr': 'oc_FR.ISO8859-1',\n  'om_et': 'om_ET.UTF-8',\n  'om_ke': 'om_KE.ISO8859-1',\n  'or': 'or_IN.UTF-8',\n  'or_in': 'or_IN.UTF-8',\n  'os_ru': 'os_RU.UTF-8',\n  'pa': 'pa_IN.UTF-8',\n  'pa_in': 'pa_IN.UTF-8',\n  'pa_pk': 'pa_PK.UTF-8',\n  'pap_an': 'pap_AN.UTF-8',\n  'pap_aw': 'pap_AW.UTF-8',\n  'pap_cw': 'pap_CW.UTF-8',\n  'pd': 'pd_US.ISO8859-1',\n  'pd_de': 'pd_DE.ISO8859-1',\n  'pd_us': 'pd_US.ISO8859-1',\n  'ph': 'ph_PH.ISO8859-1',\n  'ph_ph': 'ph_PH.ISO8859-1',\n  'pl': 'pl_PL.ISO8859-2',\n  'pl_pl': 'pl_PL.ISO8859-2',\n  'polish': 'pl_PL.ISO8859-2',\n  'portuguese': 'pt_PT.ISO8859-1',\n  'portuguese_brazil': 'pt_BR.ISO8859-1',\n  'posix': 'C',\n  'posix-utf2': 'C',\n  'pp': 'pp_AN.ISO8859-1',\n  'pp_an': 'pp_AN.ISO8859-1',\n  'ps_af': 'ps_AF.UTF-8',\n  'pt': 'pt_PT.ISO8859-1',\n  'pt_br': 'pt_BR.ISO8859-1',\n  'pt_pt': 'pt_PT.ISO8859-1',\n  'quz_pe': 'quz_PE.UTF-8',\n  'raj_in': 'raj_IN.UTF-8',\n  'ro': 'ro_RO.ISO8859-2',\n  'ro_ro': 'ro_RO.ISO8859-2',\n  'romanian': 'ro_RO.ISO8859-2',\n  'ru': 'ru_RU.UTF-8',\n  'ru_ru': 'ru_RU.UTF-8',\n  'ru_ua': 'ru_UA.KOI8-U',\n  'rumanian': 'ro_RO.ISO8859-2',\n  'russian': 'ru_RU.KOI8-R',\n  'rw': 'rw_RW.ISO8859-1',\n  'rw_rw': 'rw_RW.ISO8859-1',\n  'sa_in': 'sa_IN.UTF-8',\n  'sat_in': 'sat_IN.UTF-8',\n  'sc_it': 'sc_IT.UTF-8',\n  'sd': 'sd_IN.UTF-8',\n  'sd_in': 'sd_IN.UTF-8',\n  'sd_in@devanagari.utf8': 'sd_IN.UTF-8@devanagari',\n  'sd_pk': 'sd_PK.UTF-8',\n  'se_no': 'se_NO.UTF-8',\n  'serbocroatian': 'sr_RS.UTF-8@latin',\n  'sgs_lt': 'sgs_LT.UTF-8',\n  'sh': 'sr_RS.UTF-8@latin',\n  'sh_ba.iso88592@bosnia': 'sr_CS.ISO8859-2',\n  'sh_hr': 'sh_HR.ISO8859-2',\n  'sh_hr.iso88592': 'hr_HR.ISO8859-2',\n  'sh_sp': 'sr_CS.ISO8859-2',\n  'sh_yu': 'sr_RS.UTF-8@latin',\n  'shn_mm': 'shn_MM.UTF-8',\n  'shs_ca': 'shs_CA.UTF-8',\n  'si': 'si_LK.UTF-8',\n  'si_lk': 'si_LK.UTF-8',\n  'sid_et': 'sid_ET.UTF-8',\n  'sinhala': 'si_LK.UTF-8',\n  'sk': 'sk_SK.ISO8859-2',\n  'sk_sk': 'sk_SK.ISO8859-2',\n  'sl': 'sl_SI.ISO8859-2',\n  'sl_cs': 'sl_CS.ISO8859-2',\n  'sl_si': 'sl_SI.ISO8859-2',\n  'slovak': 'sk_SK.ISO8859-2',\n  'slovene': 'sl_SI.ISO8859-2',\n  'slovenian': 'sl_SI.ISO8859-2',\n  'sm_ws': 'sm_WS.UTF-8',\n  'so_dj': 'so_DJ.ISO8859-1',\n  'so_et': 'so_ET.UTF-8',\n  'so_ke': 'so_KE.ISO8859-1',\n  'so_so': 'so_SO.ISO8859-1',\n  'sp': 'sr_CS.ISO8859-5',\n  'sp_yu': 'sr_CS.ISO8859-5',\n  'spanish': 'es_ES.ISO8859-1',\n  'spanish_spain': 'es_ES.ISO8859-1',\n  'sq': 'sq_AL.ISO8859-2',\n  'sq_al': 'sq_AL.ISO8859-2',\n  'sq_mk': 'sq_MK.UTF-8',\n  'sr': 'sr_RS.UTF-8',\n  'sr@cyrillic': 'sr_RS.UTF-8',\n  'sr@latn': 'sr_CS.UTF-8@latin',\n  'sr_cs': 'sr_CS.UTF-8',\n  'sr_cs.iso88592@latn': 'sr_CS.ISO8859-2',\n  'sr_cs@latn': 'sr_CS.UTF-8@latin',\n  'sr_me': 'sr_ME.UTF-8',\n  'sr_rs': 'sr_RS.UTF-8',\n  'sr_rs@latn': 'sr_RS.UTF-8@latin',\n  'sr_sp': 'sr_CS.ISO8859-2',\n  'sr_yu': 'sr_RS.UTF-8@latin',\n  'sr_yu.cp1251@cyrillic': 'sr_CS.CP1251',\n  'sr_yu.iso88592': 'sr_CS.ISO8859-2',\n  'sr_yu.iso88595': 'sr_CS.ISO8859-5',\n  'sr_yu.iso88595@cyrillic': 'sr_CS.ISO8859-5',\n  'sr_yu.microsoftcp1251@cyrillic': 'sr_CS.CP1251',\n  'sr_yu.utf8': 'sr_RS.UTF-8',\n  'sr_yu.utf8@cyrillic': 'sr_RS.UTF-8',\n  'sr_yu@cyrillic': 'sr_RS.UTF-8',\n  'ss': 'ss_ZA.ISO8859-1',\n  'ss_za': 'ss_ZA.ISO8859-1',\n  'st': 'st_ZA.ISO8859-1',\n  'st_za': 'st_ZA.ISO8859-1',\n  'sv': 'sv_SE.ISO8859-1',\n  'sv_fi': 'sv_FI.ISO8859-1',\n  'sv_se': 'sv_SE.ISO8859-1',\n  'sw_ke': 'sw_KE.UTF-8',\n  'sw_tz': 'sw_TZ.UTF-8',\n  'swedish': 'sv_SE.ISO8859-1',\n  'szl_pl': 'szl_PL.UTF-8',\n  'ta': 'ta_IN.TSCII-0',\n  'ta_in': 'ta_IN.TSCII-0',\n  'ta_in.tscii': 'ta_IN.TSCII-0',\n  'ta_in.tscii0': 'ta_IN.TSCII-0',\n  'ta_lk': 'ta_LK.UTF-8',\n  'tcy_in.utf8': 'tcy_IN.UTF-8',\n  'te': 'te_IN.UTF-8',\n  'te_in': 'te_IN.UTF-8',\n  'tg': 'tg_TJ.KOI8-C',\n  'tg_tj': 'tg_TJ.KOI8-C',\n  'th': 'th_TH.ISO8859-11',\n  'th_th': 'th_TH.ISO8859-11',\n  'th_th.tactis': 'th_TH.TIS620',\n  'th_th.tis620': 'th_TH.TIS620',\n  'thai': 'th_TH.ISO8859-11',\n  'the_np': 'the_NP.UTF-8',\n  'ti_er': 'ti_ER.UTF-8',\n  'ti_et': 'ti_ET.UTF-8',\n  'tig_er': 'tig_ER.UTF-8',\n  'tk_tm': 'tk_TM.UTF-8',\n  'tl': 'tl_PH.ISO8859-1',\n  'tl_ph': 'tl_PH.ISO8859-1',\n  'tn': 'tn_ZA.ISO8859-15',\n  'tn_za': 'tn_ZA.ISO8859-15',\n  'to_to': 'to_TO.UTF-8',\n  'tpi_pg': 'tpi_PG.UTF-8',\n  'tr': 'tr_TR.ISO8859-9',\n  'tr_cy': 'tr_CY.ISO8859-9',\n  'tr_tr': 'tr_TR.ISO8859-9',\n  'ts': 'ts_ZA.ISO8859-1',\n  'ts_za': 'ts_ZA.ISO8859-1',\n  'tt': 'tt_RU.TATAR-CYR',\n  'tt_ru': 'tt_RU.TATAR-CYR',\n  'tt_ru.tatarcyr': 'tt_RU.TATAR-CYR',\n  'tt_ru@iqtelif': 'tt_RU.UTF-8@iqtelif',\n  'turkish': 'tr_TR.ISO8859-9',\n  'ug_cn': 'ug_CN.UTF-8',\n  'uk': 'uk_UA.KOI8-U',\n  'uk_ua': 'uk_UA.KOI8-U',\n  'univ': 'en_US.UTF-8',\n  'universal': 'en_US.UTF-8',\n  'universal.utf8@ucs4': 'en_US.UTF-8',\n  'unm_us': 'unm_US.UTF-8',\n  'ur': 'ur_PK.CP1256',\n  'ur_in': 'ur_IN.UTF-8',\n  'ur_pk': 'ur_PK.CP1256',\n  'uz': 'uz_UZ.UTF-8',\n  'uz_uz': 'uz_UZ.UTF-8',\n  'uz_uz@cyrillic': 'uz_UZ.UTF-8',\n  've': 've_ZA.UTF-8',\n  've_za': 've_ZA.UTF-8',\n  'vi': 'vi_VN.TCVN',\n  'vi_vn': 'vi_VN.TCVN',\n  'vi_vn.tcvn': 'vi_VN.TCVN',\n  'vi_vn.tcvn5712': 'vi_VN.TCVN',\n  'vi_vn.viscii': 'vi_VN.VISCII',\n  'vi_vn.viscii111': 'vi_VN.VISCII',\n  'wa': 'wa_BE.ISO8859-1',\n  'wa_be': 'wa_BE.ISO8859-1',\n  'wae_ch': 'wae_CH.UTF-8',\n  'wal_et': 'wal_ET.UTF-8',\n  'wo_sn': 'wo_SN.UTF-8',\n  'xh': 'xh_ZA.ISO8859-1',\n  'xh_za': 'xh_ZA.ISO8859-1',\n  'yi': 'yi_US.CP1255',\n  'yi_us': 'yi_US.CP1255',\n  'yo_ng': 'yo_NG.UTF-8',\n  'yue_hk': 'yue_HK.UTF-8',\n  'yuw_pg': 'yuw_PG.UTF-8',\n  'zh': 'zh_CN.eucCN',\n  'zh_cn': 'zh_CN.gb2312',\n  'zh_cn.big5': 'zh_TW.big5',\n  'zh_cn.euc': 'zh_CN.eucCN',\n  'zh_hk': 'zh_HK.big5hkscs',\n  'zh_hk.big5hk': 'zh_HK.big5hkscs',\n  'zh_sg': 'zh_SG.GB2312',\n  'zh_sg.gbk': 'zh_SG.GBK',\n  'zh_tw': 'zh_TW.big5',\n  'zh_tw.euc': 'zh_TW.eucTW',\n  'zh_tw.euctw': 'zh_TW.eucTW',\n  'zu': 'zu_ZA.ISO8859-1',\n  'zu_za': 'zu_ZA.ISO8859-1'},\n 'windows_locale': {1078: 'af_ZA',\n  1052: 'sq_AL',\n  1156: 'gsw_FR',\n  1118: 'am_ET',\n  1025: 'ar_SA',\n  2049: 'ar_IQ',\n  3073: 'ar_EG',\n  4097: 'ar_LY',\n  5121: 'ar_DZ',\n  6145: 'ar_MA',\n  7169: 'ar_TN',\n  8193: 'ar_OM',\n  9217: 'ar_YE',\n  10241: 'ar_SY',\n  11265: 'ar_JO',\n  12289: 'ar_LB',\n  13313: 'ar_KW',\n  14337: 'ar_AE',\n  15361: 'ar_BH',\n  16385: 'ar_QA',\n  1067: 'hy_AM',\n  1101: 'as_IN',\n  1068: 'az_AZ',\n  2092: 'az_AZ',\n  1133: 'ba_RU',\n  1069: 'eu_ES',\n  1059: 'be_BY',\n  1093: 'bn_IN',\n  8218: 'bs_BA',\n  5146: 'bs_BA',\n  1150: 'br_FR',\n  1026: 'bg_BG',\n  1027: 'ca_ES',\n  4: 'zh_CHS',\n  1028: 'zh_TW',\n  2052: 'zh_CN',\n  3076: 'zh_HK',\n  4100: 'zh_SG',\n  5124: 'zh_MO',\n  31748: 'zh_CHT',\n  1155: 'co_FR',\n  1050: 'hr_HR',\n  4122: 'hr_BA',\n  1029: 'cs_CZ',\n  1030: 'da_DK',\n  1164: 'gbz_AF',\n  1125: 'div_MV',\n  1043: 'nl_NL',\n  2067: 'nl_BE',\n  1033: 'en_US',\n  2057: 'en_GB',\n  3081: 'en_AU',\n  4105: 'en_CA',\n  5129: 'en_NZ',\n  6153: 'en_IE',\n  7177: 'en_ZA',\n  8201: 'en_JA',\n  9225: 'en_CB',\n  10249: 'en_BZ',\n  11273: 'en_TT',\n  12297: 'en_ZW',\n  13321: 'en_PH',\n  16393: 'en_IN',\n  17417: 'en_MY',\n  18441: 'en_IN',\n  1061: 'et_EE',\n  1080: 'fo_FO',\n  1124: 'fil_PH',\n  1035: 'fi_FI',\n  1036: 'fr_FR',\n  2060: 'fr_BE',\n  3084: 'fr_CA',\n  4108: 'fr_CH',\n  5132: 'fr_LU',\n  6156: 'fr_MC',\n  1122: 'fy_NL',\n  1110: 'gl_ES',\n  1079: 'ka_GE',\n  1031: 'de_DE',\n  2055: 'de_CH',\n  3079: 'de_AT',\n  4103: 'de_LU',\n  5127: 'de_LI',\n  1032: 'el_GR',\n  1135: 'kl_GL',\n  1095: 'gu_IN',\n  1128: 'ha_NG',\n  1037: 'he_IL',\n  1081: 'hi_IN',\n  1038: 'hu_HU',\n  1039: 'is_IS',\n  1057: 'id_ID',\n  1117: 'iu_CA',\n  2141: 'iu_CA',\n  2108: 'ga_IE',\n  1040: 'it_IT',\n  2064: 'it_CH',\n  1041: 'ja_JP',\n  1099: 'kn_IN',\n  1087: 'kk_KZ',\n  1107: 'kh_KH',\n  1158: 'qut_GT',\n  1159: 'rw_RW',\n  1111: 'kok_IN',\n  1042: 'ko_KR',\n  1088: 'ky_KG',\n  1108: 'lo_LA',\n  1062: 'lv_LV',\n  1063: 'lt_LT',\n  2094: 'dsb_DE',\n  1134: 'lb_LU',\n  1071: 'mk_MK',\n  1086: 'ms_MY',\n  2110: 'ms_BN',\n  1100: 'ml_IN',\n  1082: 'mt_MT',\n  1153: 'mi_NZ',\n  1146: 'arn_CL',\n  1102: 'mr_IN',\n  1148: 'moh_CA',\n  1104: 'mn_MN',\n  2128: 'mn_CN',\n  1121: 'ne_NP',\n  1044: 'nb_NO',\n  2068: 'nn_NO',\n  1154: 'oc_FR',\n  1096: 'or_IN',\n  1123: 'ps_AF',\n  1065: 'fa_IR',\n  1045: 'pl_PL',\n  1046: 'pt_BR',\n  2070: 'pt_PT',\n  1094: 'pa_IN',\n  1131: 'quz_BO',\n  2155: 'quz_EC',\n  3179: 'quz_PE',\n  1048: 'ro_RO',\n  1047: 'rm_CH',\n  1049: 'ru_RU',\n  9275: 'smn_FI',\n  4155: 'smj_NO',\n  5179: 'smj_SE',\n  1083: 'se_NO',\n  2107: 'se_SE',\n  3131: 'se_FI',\n  8251: 'sms_FI',\n  6203: 'sma_NO',\n  7227: 'sma_SE',\n  1103: 'sa_IN',\n  3098: 'sr_SP',\n  7194: 'sr_BA',\n  2074: 'sr_SP',\n  6170: 'sr_BA',\n  1115: 'si_LK',\n  1132: 'ns_ZA',\n  1074: 'tn_ZA',\n  1051: 'sk_SK',\n  1060: 'sl_SI',\n  1034: 'es_ES',\n  2058: 'es_MX',\n  3082: 'es_ES',\n  4106: 'es_GT',\n  5130: 'es_CR',\n  6154: 'es_PA',\n  7178: 'es_DO',\n  8202: 'es_VE',\n  9226: 'es_CO',\n  10250: 'es_PE',\n  11274: 'es_AR',\n  12298: 'es_EC',\n  13322: 'es_CL',\n  14346: 'es_UR',\n  15370: 'es_PY',\n  16394: 'es_BO',\n  17418: 'es_SV',\n  18442: 'es_HN',\n  19466: 'es_NI',\n  20490: 'es_PR',\n  21514: 'es_US',\n  1089: 'sw_KE',\n  1053: 'sv_SE',\n  2077: 'sv_FI',\n  1114: 'syr_SY',\n  1064: 'tg_TJ',\n  2143: 'tmz_DZ',\n  1097: 'ta_IN',\n  1092: 'tt_RU',\n  1098: 'te_IN',\n  1054: 'th_TH',\n  2129: 'bo_BT',\n  1105: 'bo_CN',\n  1055: 'tr_TR',\n  1090: 'tk_TM',\n  1152: 'ug_CN',\n  1058: 'uk_UA',\n  1070: 'wen_DE',\n  1056: 'ur_PK',\n  2080: 'ur_IN',\n  1091: 'uz_UZ',\n  2115: 'uz_UZ',\n  1066: 'vi_VN',\n  1106: 'cy_GB',\n  1160: 'wo_SN',\n  1076: 'xh_ZA',\n  1157: 'sah_RU',\n  1144: 'ii_CN',\n  1130: 'yo_NG',\n  1077: 'zu_ZA'},\n '_print_locale': <function locale._print_locale()>}"
     },
     "execution_count": 10,
     "metadata": {},
     "output_type": "execute_result"
    }
   ],
   "source": [
    "import locale\n",
    "vars(locale)"
   ],
   "metadata": {
    "collapsed": false
   }
  },
  {
   "cell_type": "code",
   "execution_count": 52,
   "outputs": [],
   "source": [
    "from types import ModuleType\n",
    "def module_dependency(module_names, name):\n",
    "    dp_dict = dict((md, 0) for md in module_names)\n",
    "    # print(dp_dict)\n",
    "    for key, val in vars(sys.modules[name]).items():\n",
    "        if isinstance(val, ModuleType):\n",
    "            md_name = val.__name__\n",
    "            # dp_dict[md_name] = dp_dict[md_name] + 1\n",
    "            print(f'key: {key}, type: {type(val)}, val: {md_name}' )\n",
    "                  # f'index: {str(md_name).index(\".\")}')\n",
    "\n",
    "    # print(f'dp count: {dp_dict}')\n",
    "\n",
    "module_dependency(real_modules, 'locale')"
   ],
   "metadata": {
    "collapsed": false
   }
  },
  {
   "cell_type": "code",
   "execution_count": 53,
   "outputs": [
    {
     "name": "stdout",
     "output_type": "stream",
     "text": [
      "key: sys, type: <class 'module'>, val: sys\n",
      "key: encodings, type: <class 'module'>, val: encodings\n",
      "key: re, type: <class 'module'>, val: re\n",
      "key: _collections_abc, type: <class 'module'>, val: collections.abc\n",
      "key: functools, type: <class 'module'>, val: functools\n"
     ]
    }
   ],
   "source": [
    "module_dependency(real_modules, 'locale')"
   ],
   "metadata": {
    "collapsed": false
   }
  }
 ],
 "metadata": {
  "kernelspec": {
   "display_name": "Python 3.8.13 ('venv')",
   "language": "python",
   "name": "python3"
  },
  "language_info": {
   "codemirror_mode": {
    "name": "ipython",
    "version": 3
   },
   "file_extension": ".py",
   "mimetype": "text/x-python",
   "name": "python",
   "nbconvert_exporter": "python",
   "pygments_lexer": "ipython3",
   "version": "3.8.13"
  },
  "orig_nbformat": 4,
  "vscode": {
   "interpreter": {
    "hash": "a692eec2090f8d9ff12c7b8ed27c4db61644a5a96c3aadb69665291e88da186a"
   }
  }
 },
 "nbformat": 4,
 "nbformat_minor": 2
}
