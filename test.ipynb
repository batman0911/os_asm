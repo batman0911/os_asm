{
 "cells": [
  {
   "cell_type": "code",
   "execution_count": 1,
   "metadata": {},
   "outputs": [],
   "source": [
    "import isort\n",
    "import sys"
   ]
  },
  {
   "cell_type": "code",
   "execution_count": 2,
   "outputs": [
    {
     "name": "stdout",
     "output_type": "stream",
     "text": [
      "8\n"
     ]
    }
   ],
   "source": [
    "print(sys.version_info.minor)"
   ],
   "metadata": {
    "collapsed": false
   }
  },
  {
   "cell_type": "code",
   "execution_count": 3,
   "metadata": {},
   "outputs": [],
   "source": [
    "# module_names = sys.stdlib_module_names\n",
    "module_names = isort.stdlibs.py38.stdlib\n",
    "# print(module_names)"
   ]
  },
  {
   "cell_type": "code",
   "execution_count": 4,
   "metadata": {
    "collapsed": false
   },
   "outputs": [],
   "source": [
    "external_packages = set()\n",
    "for name in module_names:\n",
    "    if name[0] == '_' or name == 'this' or name == 'antigravity':\n",
    "        continue\n",
    "    external_packages.add(name)\n",
    "# print(external_packages)"
   ]
  },
  {
   "cell_type": "code",
   "execution_count": 10,
   "outputs": [
    {
     "name": "stdout",
     "output_type": "stream",
     "text": [
      "Unexpected exception formatting exception. Falling back to standard exception\n"
     ]
    },
    {
     "name": "stderr",
     "output_type": "stream",
     "text": [
      "Traceback (most recent call last):\n",
      "  File \"/home/linhnm/.local/lib/python3.8/site-packages/IPython/core/interactiveshell.py\", line 3398, in run_code\n",
      "    exec(code_obj, self.user_global_ns, self.user_ns)\n",
      "  File \"/tmp/ipykernel_328301/929118138.py\", line 1, in <cell line: 1>\n",
      "    import platform\n",
      "  File \"/usr/lib/python3.8/platform.py\", line 662, in <module>\n",
      "    def architecture(executable=sys.executable, bits='', linkage=''):\n",
      "AttributeError: module 'sys' has no attribute 'executable'\n",
      "\n",
      "During handling of the above exception, another exception occurred:\n",
      "\n",
      "Traceback (most recent call last):\n",
      "  File \"/home/linhnm/.local/lib/python3.8/site-packages/executing/executing.py\", line 312, in executing\n",
      "    args = executing_cache[key]\n",
      "KeyError: (<code object run_code at 0x7f968ec1e500, file \"/home/linhnm/.local/lib/python3.8/site-packages/IPython/core/interactiveshell.py\", line 3362>, 140284616893696, 74)\n",
      "\n",
      "During handling of the above exception, another exception occurred:\n",
      "\n",
      "Traceback (most recent call last):\n",
      "  File \"/home/linhnm/.local/lib/python3.8/site-packages/IPython/core/interactiveshell.py\", line 1993, in showtraceback\n",
      "    stb = self.InteractiveTB.structured_traceback(\n",
      "  File \"/home/linhnm/.local/lib/python3.8/site-packages/IPython/core/ultratb.py\", line 1118, in structured_traceback\n",
      "    return FormattedTB.structured_traceback(\n",
      "  File \"/home/linhnm/.local/lib/python3.8/site-packages/IPython/core/ultratb.py\", line 1012, in structured_traceback\n",
      "    return VerboseTB.structured_traceback(\n",
      "  File \"/home/linhnm/.local/lib/python3.8/site-packages/IPython/core/ultratb.py\", line 865, in structured_traceback\n",
      "    formatted_exception = self.format_exception_as_a_whole(etype, evalue, etb, number_of_lines_of_context,\n",
      "  File \"/home/linhnm/.local/lib/python3.8/site-packages/IPython/core/ultratb.py\", line 799, in format_exception_as_a_whole\n",
      "    self.get_records(etb, number_of_lines_of_context, tb_offset) if etb else []\n",
      "  File \"/home/linhnm/.local/lib/python3.8/site-packages/IPython/core/ultratb.py\", line 854, in get_records\n",
      "    return list(stack_data.FrameInfo.stack_data(etb, options=options))[tb_offset:]\n",
      "  File \"/home/linhnm/.local/lib/python3.8/site-packages/stack_data/core.py\", line 563, in stack_data\n",
      "    yield from collapse_repeated(\n",
      "  File \"/home/linhnm/.local/lib/python3.8/site-packages/stack_data/utils.py\", line 84, in collapse_repeated\n",
      "    yield from map(mapper, original_group)\n",
      "  File \"/home/linhnm/.local/lib/python3.8/site-packages/stack_data/core.py\", line 553, in mapper\n",
      "    return cls(f, options)\n",
      "  File \"/home/linhnm/.local/lib/python3.8/site-packages/stack_data/core.py\", line 518, in __init__\n",
      "    self.executing = Source.executing(frame_or_tb)\n",
      "  File \"/home/linhnm/.local/lib/python3.8/site-packages/executing/executing.py\", line 364, in executing\n",
      "    args = find(source=cls.for_frame(frame), retry_cache=True)\n",
      "  File \"/home/linhnm/.local/lib/python3.8/site-packages/executing/executing.py\", line 247, in for_frame\n",
      "    return cls.for_filename(frame.f_code.co_filename, frame.f_globals or {}, use_cache)\n",
      "  File \"/home/linhnm/.local/lib/python3.8/site-packages/executing/executing.py\", line 265, in for_filename\n",
      "    result = source_cache[filename] = cls._for_filename_and_lines(filename, lines)\n",
      "  File \"/home/linhnm/.local/lib/python3.8/site-packages/executing/executing.py\", line 276, in _for_filename_and_lines\n",
      "    result = source_cache[(filename, lines)] = cls(filename, lines)\n",
      "  File \"/home/linhnm/.local/lib/python3.8/site-packages/stack_data/core.py\", line 81, in __init__\n",
      "    self.asttokens()\n",
      "  File \"/home/linhnm/.local/lib/python3.8/site-packages/executing/executing.py\", line 408, in asttokens\n",
      "    return ASTTokens(\n",
      "  File \"/home/linhnm/.local/lib/python3.8/site-packages/asttokens/asttokens.py\", line 73, in __init__\n",
      "    self.mark_tokens(self._tree)\n",
      "  File \"/home/linhnm/.local/lib/python3.8/site-packages/asttokens/asttokens.py\", line 85, in mark_tokens\n",
      "    from .mark_tokens import MarkTokens # to avoid import loops\n",
      "  File \"/home/linhnm/.local/lib/python3.8/site-packages/asttokens/mark_tokens.py\", line 20, in <module>\n",
      "    from typing import Callable, List, Union, cast, Optional, Tuple, TYPE_CHECKING\n",
      "  File \"/usr/lib/python3.8/typing.py\", line 1438, in <module>\n",
      "    Hashable = _alias(collections.abc.Hashable, ())  # Not generic.\n",
      "  File \"/usr/lib/python3.8/collections/__init__.py\", line 55, in __getattr__\n",
      "    raise AttributeError(f'module {__name__!r} has no attribute {name!r}')\n",
      "AttributeError: module 'collections' has no attribute 'abc'\n"
     ]
    }
   ],
   "source": [
    "import platform\n",
    "print(sys.version_info)\n",
    "v = sys.version_info\n",
    "print(f'Python {v.major}.{v.minor}.{v.micro} on {platform.system()} {platform.release()}')\n",
    "print(f'Stdlib contains {len(external_packages)} external modules and packages: ')\n",
    "print(external_packages)"
   ],
   "metadata": {
    "collapsed": false
   }
  },
  {
   "cell_type": "code",
   "execution_count": 6,
   "metadata": {
    "collapsed": false
   },
   "outputs": [
    {
     "name": "stdout",
     "output_type": "stream",
     "text": [
      "Linux\n",
      "5.15.0-50-generic\n",
      "Linux-5.15.0-50-generic-x86_64-with-glibc2.29\n",
      "#56~20.04.1-Ubuntu SMP Tue Sep 27 15:51:29 UTC 2022\n"
     ]
    }
   ],
   "source": [
    "import platform\n",
    "print(platform.system())\n",
    "print(platform.release())\n",
    "print(platform.platform(terse=True))\n",
    "print(platform.version())"
   ]
  },
  {
   "cell_type": "code",
   "execution_count": 7,
   "metadata": {},
   "outputs": [],
   "source": [
    "import importlib\n",
    "importlib.import_module('array')\n",
    "del sys.modules['array']"
   ]
  },
  {
   "cell_type": "code",
   "execution_count": 8,
   "metadata": {},
   "outputs": [],
   "source": [
    "def get_real(package_names):\n",
    "    real_modules = set()\n",
    "    for name in package_names:\n",
    "        try:\n",
    "            importlib.import_module(name)\n",
    "            del sys.modules[name]\n",
    "            real_modules.add(name)\n",
    "        except:\n",
    "            continue\n",
    "    return real_modules"
   ]
  },
  {
   "cell_type": "code",
   "execution_count": 9,
   "metadata": {},
   "outputs": [
    {
     "name": "stdout",
     "output_type": "stream",
     "text": [
      "{'mmap', 'posix', 'venv', 'socket', 'ctypes', 'io', 'collections', 'uuid', 'codeop', 'timeit', 'compileall', 'dis', 'faulthandler', 'encodings', 'stringprep', 'gzip', 'sqlite3', 'termios', 'gc', 'distutils', 'plistlib', 'colorsys', 'spwd', 'xdrlib', 'atexit', 'mailcap', 'mimetypes', 'cmath', 'unicodedata', 'ipaddress', 'formatter', 'concurrent', 'shlex', 'struct', 'statistics', 'builtins', 'sys', 'decimal', 'optparse', 'wsgiref', 'symbol', 'pstats', 'grp', 'sndhdr', 'sunau', 'functools', 'lib2to3', 'symtable', 'dummy_threading', 'getpass', 'ntpath', 'tracemalloc', 'imp', 'pty', 'cmd', 'asyncio', 'imghdr', 'pyclbr', 'bdb', 'mailbox', 'runpy', 'random', 'modulefinder', 'cgi', 'dbm', 'fnmatch', 'typing', 'aifc', 'zipapp', 'calendar', 'posixpath', 'selectors', 'imaplib', 'contextvars', 'quopri', 'xml', 'codecs', 'smtplib', 'stat', 'csv', 'nntplib', 'pathlib', 'sre_compile', 'types', 'weakref', 'tempfile', 'pickletools', 'zipfile', 'keyword', 'importlib', 'select', 'linecache', 'array', 'inspect', 'chunk', 'signal', 'dataclasses', 'itertools', 'curses', 'abc', 'pwd', 'rlcompleter', 'binascii', 'token', 'tabnanny', 'py_compile', 'ssl', 'contextlib', 'email', 'nis', 'pdb', 'locale', 'uu', 'zlib', 'multiprocessing', 'operator', 're', 'audioop', 'copy', 'threading', 'secrets', 'difflib', 'pydoc', 'syslog', 'sre_parse', 'ftplib', 'platform', 'glob', 'shutil', 'string', 'telnetlib', 'html', 'tty', 'asyncore', 'sched', 'fractions', 'pickle', 'resource', 'datetime', 'json', 'parser', 'test', 'math', 'binhex', 'heapq', 'traceback', 'textwrap', 'filecmp', 'os', 'errno', 'hashlib', 'numbers', 'fileinput', 'copyreg', 'xmlrpc', 'ast', 'configparser', 'sre_constants', 'trace', 'pkgutil', 'getopt', 'profile', 'webbrowser', 'marshal', 'logging', 'readline', 'hmac', 'fcntl', 'ossaudiodev', 'http', 'gettext', 'cProfile', 'pprint', 'socketserver', 'crypt', 'netrc', 'asynchat', 'urllib', 'time', 'warnings', 'queue', 'enum', 'site', 'base64', 'argparse', 'tokenize', 'zipimport', 'subprocess', 'sysconfig', 'bz2', 'poplib', 'bisect', 'code', 'reprlib', 'lzma'}\n"
     ]
    }
   ],
   "source": [
    "real_modules = get_real(external_packages)\n",
    "print(real_modules)"
   ]
  }
 ],
 "metadata": {
  "kernelspec": {
   "display_name": "Python 3.8.13 ('venv')",
   "language": "python",
   "name": "python3"
  },
  "language_info": {
   "codemirror_mode": {
    "name": "ipython",
    "version": 3
   },
   "file_extension": ".py",
   "mimetype": "text/x-python",
   "name": "python",
   "nbconvert_exporter": "python",
   "pygments_lexer": "ipython3",
   "version": "3.8.13"
  },
  "orig_nbformat": 4,
  "vscode": {
   "interpreter": {
    "hash": "a692eec2090f8d9ff12c7b8ed27c4db61644a5a96c3aadb69665291e88da186a"
   }
  }
 },
 "nbformat": 4,
 "nbformat_minor": 2
}
