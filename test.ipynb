{
 "cells": [
  {
   "cell_type": "code",
   "execution_count": 1,
   "metadata": {},
   "outputs": [],
   "source": [
    "import sys"
   ]
  },
  {
   "cell_type": "code",
   "execution_count": 13,
   "metadata": {},
   "outputs": [
    {
     "name": "stdout",
     "output_type": "stream",
     "text": [
      "{'hashlib', 'aifc', 'sndhdr', '_warnings', '_io', 'pickle', 'tempfile', '_opcode', '_weakref', 'bz2', 'copyreg', 'colorsys', '_blake2', 'typing', '_csv', 'json', '_functools', '__future__', '_bootsubprocess', '_py_abc', 'io', '_frozen_importlib_external', 'glob', 'curses', 'asyncore', '_winapi', '_aix_support', '_sitebuiltins', '_codecs_hk', 'keyword', 'msilib', '_threading_local', 'builtins', 'codecs', 'encodings', 'datetime', 'xmlrpc', 'atexit', 'pwd', 'grp', 'zipapp', 'hmac', 're', '_codecs', '_codecs_jp', '_curses_panel', 'modulefinder', 'shutil', 'abc', '_statistics', 'antigravity', 'cgitb', '_abc', 'webbrowser', '_pickle', 'zoneinfo', '_collections_abc', 'marshal', 'weakref', 'configparser', 'mailcap', 'bdb', 'binhex', '_signal', '_pyio', '_string', 'lzma', 'getopt', 'logging', 'heapq', 'pyclbr', '_hashlib', 'inspect', 'os', 'pyexpat', 'gc', '_compat_pickle', 'audioop', '_msi', 'telnetlib', 'multiprocessing', 'token', 'sre_compile', 'wave', '_posixshmem', 'array', 'platform', 'warnings', '_sha512', 'this', 'linecache', 'distutils', 'unittest', 'pkgutil', 'importlib', 'mimetypes', '_strptime', 'ctypes', 'select', 'cProfile', 'codeop', 'faulthandler', '_uuid', 'pprint', '_heapq', 'pty', '_decimal', '_sqlite3', 'pstats', 'pipes', 'socket', 'shlex', '_ssl', '_locale', 'asynchat', '_pydecimal', 'urllib', 'copy', 'time', 'zlib', '_codecs_kr', 'chunk', 'difflib', 'resource', 'selectors', 'dis', 'readline', 'zipimport', 'pdb', 'fcntl', 'smtplib', 'turtledemo', 'smtpd', 'types', '_compression', 'sysconfig', 'symtable', 'mmap', 'venv', 'doctest', 'collections', 'idlelib', '_socket', 'site', '_codecs_cn', '_ast', 'netrc', 'ntpath', '_bisect', 'zipfile', 'sys', '_json', '_stat', 'plistlib', 'graphlib', 'functools', 'getpass', 'tabnanny', 'unicodedata', 'sunau', 'posixpath', 'math', 'msvcrt', 'lib2to3', 'fileinput', 'tarfile', 'cmd', '_contextvars', '_md5', 'secrets', 'argparse', 'winsound', 'pathlib', 'ensurepip', 'sched', '_dbm', '_lzma', 'textwrap', 'gettext', 'contextvars', '_zoneinfo', 'errno', '_bz2', '_queue', '_datetime', 'base64', 'syslog', 'contextlib', '_ctypes', '_weakrefset', '_struct', 'wsgiref', '_sha1', 'decimal', 'ossaudiodev', '_multiprocessing', 'tkinter', '_codecs_iso2022', 'imp', '_multibytecodec', '_sha256', 'winreg', 'pydoc', 'runpy', 'stat', '_crypt', 'csv', '_tracemalloc', 'queue', 'genericpath', '_scproxy', 'shelve', 'numbers', 'fnmatch', 'signal', 'pickletools', 'uu', '_lsprof', 'concurrent', 'mailbox', 'cgi', '_sre', 'ast', 'cmath', 'locale', 'email', 'traceback', 'posix', 'fractions', 'sre_constants', 'trace', '_operator', 'operator', 'socketserver', 'sqlite3', '_thread', 'gzip', 'string', 'ssl', 'threading', 'subprocess', 'statistics', 'turtle', 'nt', 'ipaddress', 'imaplib', 'tracemalloc', 'opcode', 'imghdr', 'sre_parse', 'nturl2path', 'asyncio', 'calendar', 'pydoc_data', '_overlapped', 'xdrlib', 'quopri', 'enum', 'random', 'stringprep', 'code', 'dbm', '_imp', '_symtable', 'poplib', 'py_compile', 'dataclasses', '_gdbm', '_random', 'tokenize', 'nis', '_posixsubprocess', 'struct', 'xml', '_osx_support', 'spwd', 'tty', '_curses', 'binascii', '_frozen_importlib', '_markupbase', '_codecs_tw', '_sha3', 'filecmp', 'nntplib', 'crypt', 'optparse', 'ftplib', 'termios', 'profile', 'rlcompleter', 'http', '_asyncio', '_collections', 'uuid', 'reprlib', 'bisect', '_tkinter', '_elementtree', 'html', 'itertools', 'timeit', 'compileall'}\n"
     ]
    }
   ],
   "source": [
    "# print(sys.stdlib_module_names)\n",
    "module_names = set(sys.stdlib_module_names)\n",
    "print(module_names)"
   ]
  },
  {
   "cell_type": "code",
   "execution_count": 19,
   "outputs": [
    {
     "name": "stdout",
     "output_type": "stream",
     "text": [
      "{'getpass', 'tabnanny', 'unicodedata', 'hashlib', 'sunau', 'posixpath', 'aifc', 'math', 'msvcrt', 'lib2to3', 'fileinput', 'sndhdr', 'tarfile', 'cmd', 'secrets', 'argparse', 'pickle', 'winsound', 'pathlib', 'ensurepip', 'tempfile', 'sched', 'bz2', 'copyreg', 'textwrap', 'gettext', 'contextvars', 'errno', 'colorsys', 'typing', 'json', 'base64', 'syslog', 'contextlib', 'io', 'glob', 'wsgiref', 'curses', 'asyncore', 'decimal', 'ossaudiodev', 'tkinter', 'keyword', 'imp', 'msilib', 'builtins', 'codecs', 'winreg', 'encodings', 'datetime', 'pydoc', 'xmlrpc', 'runpy', 'stat', 'atexit', 'pwd', 'grp', 'zipapp', 'hmac', 're', 'csv', 'shutil', 'queue', 'modulefinder', 'genericpath', 'abc', 'antigravity', 'cgitb', 'shelve', 'numbers', 'fnmatch', 'webbrowser', 'zoneinfo', 'weakref', 'marshal', 'configparser', 'mailcap', 'signal', 'pickletools', 'bdb', 'uu', 'concurrent', 'binhex', 'mailbox', 'lzma', 'cgi', 'getopt', 'logging', 'heapq', 'ast', 'cmath', 'locale', 'pyclbr', 'email', 'traceback', 'inspect', 'posix', 'os', 'fractions', 'sre_constants', 'trace', 'pyexpat', 'gc', 'operator', 'audioop', 'telnetlib', 'socketserver', 'multiprocessing', 'token', 'sre_compile', 'sqlite3', 'gzip', 'string', 'wave', 'ssl', 'array', 'threading', 'subprocess', 'statistics', 'turtle', 'nt', 'ipaddress', 'platform', 'warnings', 'imaplib', 'tracemalloc', 'this', 'linecache', 'distutils', 'opcode', 'imghdr', 'sre_parse', 'unittest', 'nturl2path', 'pkgutil', 'importlib', 'asyncio', 'calendar', 'pydoc_data', 'mimetypes', 'xdrlib', 'quopri', 'enum', 'random', 'stringprep', 'ctypes', 'code', 'dbm', 'select', 'cProfile', 'codeop', 'faulthandler', 'poplib', 'pprint', 'py_compile', 'dataclasses', 'tokenize', 'pty', 'nis', 'struct', 'pstats', 'pipes', 'xml', 'socket', 'shlex', 'asynchat', 'urllib', 'copy', 'spwd', 'time', 'tty', 'zlib', 'chunk', 'difflib', 'resource', 'selectors', 'dis', 'readline', 'zipimport', 'pdb', 'fcntl', 'smtplib', 'binascii', 'turtledemo', 'filecmp', 'smtpd', 'types', 'nntplib', 'sysconfig', 'crypt', 'symtable', 'mmap', 'venv', 'optparse', 'ftplib', 'termios', 'profile', 'doctest', 'rlcompleter', 'collections', 'http', 'idlelib', 'site', 'uuid', 'reprlib', 'bisect', 'netrc', 'ntpath', 'html', 'itertools', 'zipfile', 'timeit', 'compileall', 'sys', 'plistlib', 'graphlib', 'functools'}\n"
     ]
    }
   ],
   "source": [
    "external_packages = set()\n",
    "for name in module_names:\n",
    "    if name[0] == '_':\n",
    "        continue\n",
    "    external_packages.add(name)\n",
    "print(external_packages)"
   ],
   "metadata": {
    "collapsed": false
   }
  },
  {
   "cell_type": "code",
   "execution_count": 7,
   "outputs": [
    {
     "name": "stdout",
     "output_type": "stream",
     "text": [
      "{'b', 'c', 'a'}\n"
     ]
    }
   ],
   "source": [
    "arr = {'a', 'b', 'c'}\n",
    "print(arr)"
   ],
   "metadata": {
    "collapsed": false
   }
  }
 ],
 "metadata": {
  "kernelspec": {
   "display_name": "Python 3.10.8 ('venv': venv)",
   "language": "python",
   "name": "python3"
  },
  "language_info": {
   "codemirror_mode": {
    "name": "ipython",
    "version": 3
   },
   "file_extension": ".py",
   "mimetype": "text/x-python",
   "name": "python",
   "nbconvert_exporter": "python",
   "pygments_lexer": "ipython3",
   "version": "3.10.8"
  },
  "orig_nbformat": 4,
  "vscode": {
   "interpreter": {
    "hash": "e74564eb18e6525c932a88e9c17894d7d0caced99cac9013640f84527ad869c3"
   }
  }
 },
 "nbformat": 4,
 "nbformat_minor": 2
}
