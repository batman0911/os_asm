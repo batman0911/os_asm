{
 "cells": [
  {
   "cell_type": "code",
   "execution_count": 3,
   "metadata": {
    "collapsed": true
   },
   "outputs": [],
   "source": [
    "import main as lib"
   ]
  },
  {
   "cell_type": "code",
   "execution_count": 4,
   "metadata": {
    "collapsed": false
   },
   "outputs": [
    {
     "data": {
      "text/plain": [
       "307"
      ]
     },
     "execution_count": 4,
     "metadata": {},
     "output_type": "execute_result"
    }
   ],
   "source": [
    "lib.count_file_line('cp1252.py')"
   ]
  },
  {
   "cell_type": "code",
   "execution_count": 8,
   "metadata": {},
   "outputs": [
    {
     "data": {
      "text/plain": [
       "5"
      ]
     },
     "execution_count": 8,
     "metadata": {},
     "output_type": "execute_result"
    }
   ],
   "source": [
    "lib.count_file_class('cp1252.py')"
   ]
  },
  {
   "cell_type": "code",
   "execution_count": 56,
   "metadata": {},
   "outputs": [],
   "source": [
    "def inspect_file(file_path):\n",
    "    start_doc = False\n",
    "    end_doc = False\n",
    "    count = 0\n",
    "    for line in open(file_path):\n",
    "        line = line.strip()\n",
    "        if line.startswith(\"#\"):\n",
    "            continue\n",
    "\n",
    "        if line.startswith('\"\"\"') and line.endswith('\"\"\"') and len(line) > 5:\n",
    "            continue\n",
    "\n",
    "        if '\"\"\"' in line:\n",
    "            start_doc = not start_doc\n",
    "            continue\n",
    "\n",
    "        if not start_doc:\n",
    "            if line.startswith('class '):\n",
    "                count += 1\n",
    "\n",
    "    return count\n",
    "        "
   ]
  },
  {
   "cell_type": "code",
   "execution_count": 57,
   "metadata": {},
   "outputs": [
    {
     "name": "stdout",
     "output_type": "stream",
     "text": [
      "5\n"
     ]
    }
   ],
   "source": [
    "count = inspect_file('cp1252.py')\n",
    "print(count)"
   ]
  },
  {
   "cell_type": "code",
   "execution_count": 67,
   "metadata": {},
   "outputs": [],
   "source": [
    "import ast\n",
    "\n",
    "def count_file_class(filename):\n",
    "    \"\"\"Count number of custom classes of a python file\"\"\"\n",
    "    enc_list = ['ascii',\n",
    "        'big5',\n",
    "        'big5hkscs',\n",
    "        'cp037',\n",
    "        'cp273',\n",
    "        'cp424',\n",
    "        'cp437',\n",
    "        'cp500',\n",
    "        'cp720',\n",
    "        'cp737',\n",
    "        'cp775',\n",
    "        'cp850',\n",
    "        'cp852',\n",
    "        'cp855',\n",
    "        'cp856',\n",
    "        'cp857',\n",
    "        'cp858',\n",
    "        'cp860',\n",
    "        'cp861',\n",
    "        'cp862',\n",
    "        'cp863',\n",
    "        'cp864',\n",
    "        'cp865',\n",
    "        'cp866',\n",
    "        'cp869',\n",
    "        'cp874',\n",
    "        'cp875',\n",
    "        'cp932',\n",
    "        'cp949',\n",
    "        'cp950',\n",
    "        'cp1006',\n",
    "        'cp1026',\n",
    "        'cp1125',\n",
    "        'cp1140',\n",
    "        'cp1250',\n",
    "        'cp1251',\n",
    "        'cp1252',\n",
    "        'cp1253',\n",
    "        'cp1254',\n",
    "        'cp1255',\n",
    "        'cp1256',\n",
    "        'cp1257',\n",
    "        'cp1258',\n",
    "        'euc_jp',\n",
    "        'euc_jis_2004',\n",
    "        'euc_jisx0213',\n",
    "        'euc_kr',\n",
    "        'gb2312',\n",
    "        'gbk',\n",
    "        'gb18030',\n",
    "        'hz',\n",
    "        'iso2022_jp',\n",
    "        'iso2022_jp_1',\n",
    "        'iso2022_jp_2',\n",
    "        'iso2022_jp_2004',\n",
    "        'iso2022_jp_3',\n",
    "        'iso2022_jp_ext',\n",
    "        'iso2022_kr',\n",
    "        'latin_1',\n",
    "        'iso8859_2',\n",
    "        'iso8859_3',\n",
    "        'iso8859_4',\n",
    "        'iso8859_5',\n",
    "        'iso8859_6',\n",
    "        'iso8859_7',\n",
    "        'iso8859_8',\n",
    "        'iso8859_9',\n",
    "        'iso8859_10',\n",
    "        'iso8859_11',\n",
    "        'iso8859_13',\n",
    "        'iso8859_14',\n",
    "        'iso8859_15',\n",
    "        'iso8859_16',\n",
    "        'johab',\n",
    "        'koi8_r',\n",
    "        'koi8_t',\n",
    "        'koi8_u',\n",
    "        'kz1048',\n",
    "        'mac_cyrillic',\n",
    "        'mac_greek',\n",
    "        'mac_iceland',\n",
    "        'mac_latin2',\n",
    "        'mac_roman',\n",
    "        'mac_turkish',\n",
    "        'ptcp154',\n",
    "        'shift_jis',\n",
    "        'shift_jis_2004',\n",
    "        'shift_jisx0213',\n",
    "        'utf_32',\n",
    "        'utf_32_be',\n",
    "        'utf_32_le',\n",
    "        'utf_16',\n",
    "        'utf_16_be',\n",
    "        'utf_16_le',\n",
    "        'utf_7',\n",
    "        'utf_8',\n",
    "        'utf_8_sig']\n",
    "    for enc in enc_list:\n",
    "        try:\n",
    "            with open(filename, encoding=enc) as file:\n",
    "                node = ast.parse(file.read())\n",
    "                    # print(f'success enc: {enc}, filename: {filename}')\n",
    "\n",
    "            classes = [n for n in node.body if isinstance(n, ast.ClassDef)]\n",
    "            return len(classes)\n",
    "        except:\n",
    "            print(f'err {enc}')\n",
    "            continue\n",
    "    return 0"
   ]
  },
  {
   "cell_type": "code",
   "execution_count": 68,
   "metadata": {},
   "outputs": [
    {
     "name": "stdout",
     "output_type": "stream",
     "text": [
      "err ascii\n",
      "err big5\n",
      "err big5hkscs\n",
      "err cp037\n",
      "err cp273\n",
      "err cp424\n",
      "err cp437\n",
      "err cp500\n",
      "err cp720\n",
      "err cp737\n",
      "err cp775\n",
      "err cp850\n",
      "err cp852\n",
      "err cp855\n",
      "err cp856\n",
      "err cp857\n",
      "err cp858\n",
      "err cp860\n",
      "err cp861\n",
      "err cp862\n",
      "err cp863\n",
      "err cp864\n",
      "err cp865\n",
      "err cp866\n",
      "err cp869\n",
      "err cp874\n",
      "err cp875\n",
      "err cp932\n",
      "err cp949\n",
      "err cp950\n",
      "err cp1006\n",
      "err cp1026\n",
      "err cp1125\n",
      "err cp1140\n",
      "err cp1250\n",
      "err cp1251\n",
      "err cp1252\n",
      "err cp1253\n",
      "err cp1254\n",
      "err cp1255\n",
      "err cp1256\n",
      "err cp1257\n",
      "err cp1258\n",
      "err euc_jp\n",
      "err euc_jis_2004\n",
      "err euc_jisx0213\n",
      "err euc_kr\n",
      "err gb2312\n",
      "err gbk\n",
      "err gb18030\n",
      "err hz\n",
      "err iso2022_jp\n",
      "err iso2022_jp_1\n",
      "err iso2022_jp_2\n",
      "err iso2022_jp_2004\n",
      "err iso2022_jp_3\n",
      "err iso2022_jp_ext\n",
      "err iso2022_kr\n",
      "err latin_1\n",
      "err iso8859_2\n",
      "err iso8859_3\n",
      "err iso8859_4\n",
      "err iso8859_5\n",
      "err iso8859_6\n",
      "err iso8859_7\n",
      "err iso8859_8\n",
      "err iso8859_9\n",
      "err iso8859_10\n",
      "err iso8859_11\n",
      "err iso8859_13\n",
      "err iso8859_14\n",
      "err iso8859_15\n",
      "err iso8859_16\n",
      "err johab\n",
      "err koi8_r\n",
      "err koi8_t\n",
      "err koi8_u\n",
      "err kz1048\n",
      "err mac_cyrillic\n",
      "err mac_greek\n",
      "err mac_iceland\n",
      "err mac_latin2\n",
      "err mac_roman\n",
      "err mac_turkish\n",
      "err ptcp154\n",
      "err shift_jis\n",
      "err shift_jis_2004\n",
      "err shift_jisx0213\n",
      "err utf_32\n",
      "err utf_32_be\n",
      "err utf_32_le\n",
      "err utf_16\n",
      "err utf_16_be\n",
      "err utf_16_le\n",
      "err utf_7\n",
      "err utf_8\n",
      "err utf_8_sig\n"
     ]
    },
    {
     "data": {
      "text/plain": [
       "0"
      ]
     },
     "execution_count": 68,
     "metadata": {},
     "output_type": "execute_result"
    }
   ],
   "source": [
    "count_file_class('py2_test_grammar.py')"
   ]
  },
  {
   "cell_type": "code",
   "execution_count": 70,
   "metadata": {},
   "outputs": [
    {
     "name": "stdout",
     "output_type": "stream",
     "text": [
      "py2_test_grammar.py\n"
     ]
    }
   ],
   "source": [
    "import os\n",
    "print(os.path.basename('C:\\\\Users\\\\Linh Nguyen\\\\AppData\\\\Local\\\\Programs\\\\Python\\\\Python310\\\\Lib\\\\lib2to3\\\\tests\\\\data\\\\py2_test_grammar.py'))\n"
   ]
  },
  {
   "cell_type": "code",
   "execution_count": 59,
   "metadata": {},
   "outputs": [
    {
     "name": "stdout",
     "output_type": "stream",
     "text": [
      "2\n"
     ]
    }
   ],
   "source": [
    "import sys\n",
    "name = 'test_upload.py'\n",
    "c = count_file_class(name)\n",
    "print(c)"
   ]
  },
  {
   "cell_type": "code",
   "execution_count": 62,
   "metadata": {},
   "outputs": [
    {
     "name": "stdout",
     "output_type": "stream",
     "text": [
      "6\n"
     ]
    }
   ],
   "source": [
    "count = inspect_file('process.py')\n",
    "print(count)"
   ]
  },
  {
   "cell_type": "code",
   "execution_count": null,
   "metadata": {},
   "outputs": [],
   "source": [
    "count"
   ]
  }
 ],
 "metadata": {
  "kernelspec": {
   "display_name": "Python 3.10.8 ('venv': venv)",
   "language": "python",
   "name": "python3"
  },
  "language_info": {
   "codemirror_mode": {
    "name": "ipython",
    "version": 3
   },
   "file_extension": ".py",
   "mimetype": "text/x-python",
   "name": "python",
   "nbconvert_exporter": "python",
   "pygments_lexer": "ipython3",
   "version": "3.10.8"
  },
  "vscode": {
   "interpreter": {
    "hash": "cce0c712459e4e27bd96413ec0f4a67cc09fc35622e8065a4ee28a35617a8aa0"
   }
  }
 },
 "nbformat": 4,
 "nbformat_minor": 0
}
