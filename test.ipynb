{
 "cells": [
  {
   "cell_type": "code",
   "execution_count": 16,
   "metadata": {},
   "outputs": [],
   "source": [
    "import isort\n",
    "import sys"
   ]
  },
  {
   "cell_type": "code",
   "execution_count": 17,
   "metadata": {},
   "outputs": [
    {
     "name": "stdout",
     "output_type": "stream",
     "text": [
      "{'code', 'pprint', 'http', 'fractions', 'doctest', '_thread', 'uu', 'spwd', 'ipaddress', 'winsound', 'contextlib', 'keyword', 'dbm', 'readline', 'symbol', 'argparse', 'curses', 'asyncore', 'unicodedata', 'io', 'quopri', 'msilib', 'cProfile', 'shelve', 'struct', 'concurrent', 'sunau', 'telnetlib', 'fcntl', 'pty', 'zipfile', 'pipes', 'zipimport', 'gettext', 'gc', 'tokenize', 'heapq', 'string', 'queue', 'linecache', 'optparse', 'binhex', 'traceback', 'getopt', 'stat', 'warnings', 'netrc', 'hashlib', 'ast', 'shutil', 'random', 'time', 'webbrowser', 'distutils', 'profile', 'cmd', 'posix', 'textwrap', 'csv', 'tracemalloc', 'socket', 'types', 'datetime', 'pickletools', 'ntpath', 'filecmp', '_dummy_thread', 'chunk', 'abc', 'bdb', 'errno', 'crypt', 'html', 'rlcompleter', 'symtable', 'mailbox', 'fnmatch', 'cmath', 'marshal', 'imp', 'audioop', 'itertools', 'lib2to3', 'ossaudiodev', 'mmap', 'smtpd', 'selectors', 'tkinter', 'uuid', 'fileinput', 'calendar', 'sre', 'syslog', 'cgi', 'getpass', 'turtledemo', 'unittest', 'tempfile', 'xml', 'smtplib', 'signal', 'subprocess', 'formatter', 'nntplib', 'secrets', 'cgitb', 'pyclbr', 'shlex', 'xmlrpc', 'pathlib', 'copy', 'locale', 'threading', 'collections', 'timeit', 'base64', 'sqlite3', 'bz2', 'ctypes', 'tty', 'difflib', 'tarfile', 'pickle', 'wave', 'sre_compile', 'pkgutil', 'codeop', 'decimal', 'copyreg', 'atexit', 'nis', 'zipapp', 'asynchat', 'msvcrt', 'token', 'aifc', 'lzma', 'pdb', 'hmac', 'gzip', 'asyncio', 'xdrlib', 'ssl', 'operator', 'binascii', 'os', 'json', 'urllib', 'compileall', 'poplib', 'winreg', 'plistlib', 'platform', 'ftplib', 'enum', 'socketserver', 'parser', 'modulefinder', 'numbers', 'dataclasses', 'site', 'sysconfig', 'imghdr', 'wsgiref', 'contextvars', 'runpy', 'pwd', 'reprlib', 'sre_constants', 'dummy_threading', 'typing', 'weakref', 'sys', 'builtins', 'multiprocessing', 'mailcap', 'statistics', 'codecs', 'tabnanny', 'py_compile', 'functools', 'glob', 'imaplib', 'zlib', 'importlib', 'colorsys', 'pydoc', 'email', 'math', 'termios', 'logging', 'venv', 'sndhdr', 'bisect', 'configparser', 'ensurepip', 'test', 'dis', 'encodings', 'select', 'grp', 'resource', 'turtle', 'faulthandler', 'stringprep', 're', 'array', 'sched', 'posixpath', 'pstats', 'inspect', 'sre_parse', 'mimetypes', 'trace'}\n"
     ]
    }
   ],
   "source": [
    "# module_names = sys.stdlib_module_names\n",
    "module_names = isort.stdlibs.py38.stdlib\n",
    "print(module_names)"
   ]
  },
  {
   "cell_type": "code",
   "execution_count": 18,
   "metadata": {
    "collapsed": false
   },
   "outputs": [
    {
     "name": "stdout",
     "output_type": "stream",
     "text": [
      "{'code', 'pprint', 'http', 'fractions', 'doctest', 'uu', 'spwd', 'ipaddress', 'winsound', 'keyword', 'contextlib', 'dbm', 'readline', 'symbol', 'argparse', 'curses', 'asyncore', 'unicodedata', 'io', 'quopri', 'msilib', 'cProfile', 'shelve', 'struct', 'concurrent', 'sunau', 'telnetlib', 'fcntl', 'pty', 'zipfile', 'pipes', 'zipimport', 'gettext', 'gc', 'tokenize', 'heapq', 'string', 'queue', 'linecache', 'optparse', 'binhex', 'traceback', 'getopt', 'warnings', 'stat', 'netrc', 'hashlib', 'ast', 'shutil', 'random', 'time', 'webbrowser', 'distutils', 'profile', 'cmd', 'posix', 'textwrap', 'csv', 'tracemalloc', 'socket', 'types', 'datetime', 'pickletools', 'ntpath', 'filecmp', 'chunk', 'abc', 'bdb', 'errno', 'crypt', 'html', 'rlcompleter', 'symtable', 'mailbox', 'fnmatch', 'cmath', 'marshal', 'imp', 'audioop', 'itertools', 'lib2to3', 'ossaudiodev', 'mmap', 'smtpd', 'selectors', 'tkinter', 'uuid', 'fileinput', 'calendar', 'sre', 'syslog', 'cgi', 'getpass', 'turtledemo', 'unittest', 'tempfile', 'xml', 'smtplib', 'signal', 'subprocess', 'formatter', 'nntplib', 'secrets', 'cgitb', 'pyclbr', 'shlex', 'xmlrpc', 'pathlib', 'copy', 'locale', 'threading', 'collections', 'timeit', 'base64', 'sqlite3', 'bz2', 'ctypes', 'tty', 'difflib', 'tarfile', 'pickle', 'wave', 'sre_compile', 'pkgutil', 'codeop', 'decimal', 'copyreg', 'atexit', 'nis', 'zipapp', 'asynchat', 'msvcrt', 'token', 'aifc', 'lzma', 'pdb', 'hmac', 'gzip', 'asyncio', 'xdrlib', 'ssl', 'operator', 'binascii', 'os', 'json', 'urllib', 'compileall', 'poplib', 'winreg', 'plistlib', 'platform', 'ftplib', 'enum', 'socketserver', 'parser', 'modulefinder', 'numbers', 'dataclasses', 'site', 'sysconfig', 'imghdr', 'wsgiref', 'contextvars', 'runpy', 'pwd', 'reprlib', 'sre_constants', 'dummy_threading', 'typing', 'weakref', 'sys', 'builtins', 'multiprocessing', 'mailcap', 'statistics', 'codecs', 'tabnanny', 'py_compile', 'functools', 'glob', 'imaplib', 'zlib', 'importlib', 'colorsys', 'pydoc', 'email', 'math', 'termios', 'logging', 'venv', 'sndhdr', 'bisect', 'configparser', 'ensurepip', 'test', 'dis', 'encodings', 'select', 'grp', 'resource', 'turtle', 'faulthandler', 'stringprep', 're', 'array', 'sched', 'posixpath', 'pstats', 'inspect', 'sre_parse', 'mimetypes', 'trace'}\n"
     ]
    }
   ],
   "source": [
    "external_packages = set()\n",
    "for name in module_names:\n",
    "    if name[0] == '_' or name == 'this' or name == 'antigravity':\n",
    "        continue\n",
    "    external_packages.add(name)\n",
    "print(external_packages)"
   ]
  },
  {
   "cell_type": "code",
   "execution_count": null,
   "metadata": {
    "collapsed": false
   },
   "outputs": [],
   "source": []
  },
  {
   "cell_type": "code",
   "execution_count": 19,
   "metadata": {},
   "outputs": [],
   "source": [
    "import importlib\n",
    "importlib.import_module('array')\n",
    "del sys.modules['array']"
   ]
  },
  {
   "cell_type": "code",
   "execution_count": 20,
   "metadata": {},
   "outputs": [],
   "source": [
    "def get_real(package_names):\n",
    "    real_modules = set()\n",
    "    for name in package_names:\n",
    "        try:\n",
    "            importlib.import_module(name)\n",
    "            del sys.modules[name]\n",
    "            real_modules.add(name)\n",
    "        except:\n",
    "            continue\n",
    "    return real_modules"
   ]
  },
  {
   "cell_type": "code",
   "execution_count": 22,
   "metadata": {},
   "outputs": [
    {
     "name": "stdout",
     "output_type": "stream",
     "text": [
      "{'code', 'pprint', 'http', 'fractions', 'doctest', 'uu', 'spwd', 'ipaddress', 'contextlib', 'keyword', 'dbm', 'readline', 'symbol', 'argparse', 'curses', 'asyncore', 'unicodedata', 'io', 'quopri', 'struct', 'cProfile', 'sunau', 'concurrent', 'telnetlib', 'fcntl', 'pty', 'zipfile', 'pipes', 'zipimport', 'gettext', 'gc', 'tokenize', 'heapq', 'string', 'queue', 'linecache', 'binhex', 'traceback', 'getopt', 'stat', 'warnings', 'netrc', 'hashlib', 'ast', 'shutil', 'random', 'time', 'webbrowser', 'profile', 'cmd', 'posix', 'textwrap', 'csv', 'socket', 'types', 'datetime', 'pickletools', 'ntpath', 'filecmp', 'chunk', 'abc', 'bdb', 'errno', 'html', 'rlcompleter', 'symtable', 'fnmatch', 'cmath', 'marshal', 'audioop', 'itertools', 'lib2to3', 'ossaudiodev', 'mmap', 'selectors', 'tkinter', 'fileinput', 'calendar', 'syslog', 'cgi', 'turtledemo', 'unittest', 'tempfile', 'xml', 'signal', 'subprocess', 'xmlrpc', 'shlex', 'pathlib', 'copy', 'locale', 'threading', 'collections', 'timeit', 'base64', 'sqlite3', 'bz2', 'ctypes', 'tty', 'difflib', 'pickle', 'sre_compile', 'codeop', 'decimal', 'copyreg', 'atexit', 'nis', 'zipapp', 'token', 'lzma', 'pdb', 'gzip', 'xdrlib', 'ssl', 'operator', 'binascii', 'os', 'json', 'urllib', 'enum', 'socketserver', 'parser', 'numbers', 'dataclasses', 'imghdr', 'wsgiref', 'contextvars', 'pwd', 'reprlib', 'sre_constants', 'weakref', 'sys', 'builtins', 'multiprocessing', 'codecs', 'functools', 'glob', 'zlib', 'importlib', 'colorsys', 'email', 'math', 'termios', 'logging', 'sndhdr', 'bisect', 'test', 'dis', 'encodings', 'select', 'grp', 'resource', 'turtle', 'faulthandler', 'stringprep', 're', 'array', 'sched', 'posixpath', 'pstats', 'inspect', 'sre_parse', 'mimetypes'}\n"
     ]
    }
   ],
   "source": [
    "real_modules = get_real(external_packages)\n",
    "print(real_modules)"
   ]
  }
 ],
 "metadata": {
  "kernelspec": {
   "display_name": "Python 3.8.13 ('venv')",
   "language": "python",
   "name": "python3"
  },
  "language_info": {
   "codemirror_mode": {
    "name": "ipython",
    "version": 3
   },
   "file_extension": ".py",
   "mimetype": "text/x-python",
   "name": "python",
   "nbconvert_exporter": "python",
   "pygments_lexer": "ipython3",
   "version": "3.8.13"
  },
  "orig_nbformat": 4,
  "vscode": {
   "interpreter": {
    "hash": "a692eec2090f8d9ff12c7b8ed27c4db61644a5a96c3aadb69665291e88da186a"
   }
  }
 },
 "nbformat": 4,
 "nbformat_minor": 2
}
