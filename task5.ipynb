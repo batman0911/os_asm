{
 "cells": [
  {
   "cell_type": "code",
   "execution_count": 156,
   "metadata": {
    "collapsed": true
   },
   "outputs": [],
   "source": [
    "import enum\n",
    "\n",
    "import isort\n",
    "import sys\n",
    "import platform\n",
    "import importlib\n",
    "from types import ModuleType\n",
    "import inspect"
   ]
  },
  {
   "cell_type": "code",
   "execution_count": 157,
   "metadata": {
    "collapsed": false
   },
   "outputs": [],
   "source": [
    "def get_stdlib_packages():\n",
    "    if sys.version_info.minor == 10:\n",
    "        module_names = sys.stdlib_module_names\n",
    "    else:\n",
    "        module_names = isort.stdlibs.py38.stdlib\n",
    "\n",
    "    external_packages = list()\n",
    "    for name in module_names:\n",
    "        if name[0] == '_' or name == 'this' or name == 'antigravity':\n",
    "            continue\n",
    "        external_packages.append(name)\n",
    "    return external_packages\n",
    "\n",
    "def get_real_packages(package_names):\n",
    "    real_modules = list()\n",
    "    not_importable_modules = list()\n",
    "    for name in package_names:\n",
    "        try:\n",
    "            importlib.import_module(name)\n",
    "            real_modules.append(name)\n",
    "        except:\n",
    "            not_importable_modules.append(name)\n",
    "    return real_modules, not_importable_modules\n",
    "\n",
    "\n",
    "def get_real():\n",
    "    external_packages = get_stdlib_packages()\n",
    "    return get_real_packages(external_packages)"
   ]
  },
  {
   "cell_type": "code",
   "execution_count": 158,
   "metadata": {
    "collapsed": false
   },
   "outputs": [],
   "source": [
    "def module_dependency(module_names, name):\n",
    "    if name not in module_names:\n",
    "        raise Exception(f'{name} is not importable module')\n",
    "    dp_names = list()\n",
    "\n",
    "    # try:\n",
    "    #     importlib.import_module(name)\n",
    "    # except:\n",
    "    #     print(f'err name: {name}')\n",
    "    for key, val in vars(sys.modules[name]).items():\n",
    "        if isinstance(val, ModuleType):\n",
    "            md_name = val.__name__\n",
    "\n",
    "            try:\n",
    "                index = md_name.index(\".\")\n",
    "                md_name = md_name[0:index]\n",
    "            except:\n",
    "                pass\n",
    "\n",
    "            dp_names.append(md_name)\n",
    "            # print(f'key: {key}, type: {type(val)}, val: {md_name}, module: {md_name}')\n",
    "\n",
    "    return dp_names"
   ]
  },
  {
   "cell_type": "code",
   "execution_count": 159,
   "metadata": {
    "collapsed": false
   },
   "outputs": [],
   "source": [
    "real_modules, _ = get_real()\n",
    "# print(real_modules)"
   ]
  },
  {
   "cell_type": "code",
   "execution_count": 160,
   "metadata": {
    "collapsed": false
   },
   "outputs": [
    {
     "name": "stdout",
     "output_type": "stream",
     "text": [
      "['fnmatch', 'functools', 'io', 'ntpath', 'os', 'posixpath', 're', 'sys']\n"
     ]
    }
   ],
   "source": [
    "import pathlib\n",
    "\n",
    "dp_names = module_dependency(real_modules, 'pathlib')\n",
    "print(dp_names)"
   ]
  },
  {
   "cell_type": "code",
   "execution_count": 161,
   "metadata": {
    "collapsed": false
   },
   "outputs": [],
   "source": [
    "# import sys\n",
    "# sys.setrecursionlimit(50000)\n",
    "#\n",
    "# def dependency_graph(modules, ad_mtrx, original_modules, count):\n",
    "#     count = count + 1\n",
    "#     if count % 10 == 0:\n",
    "#         print(f'count: {count}')\n",
    "#     for md in modules:\n",
    "#         try:\n",
    "#             dp_names = module_dependency(original_modules, md)\n",
    "#         except:\n",
    "#             print(f'{md} is not in stdlib')\n",
    "#             continue\n",
    "#\n",
    "#         for name in dp_names:\n",
    "#             try:\n",
    "#                 i = original_modules.index(md)\n",
    "#                 j = original_modules.index(name)\n",
    "#                 ad_mtrx[i][j] = 1\n",
    "#             except:\n",
    "#                 print(f'md: {md}, name: {name} is not in stdlib')\n",
    "#                 continue\n",
    "#\n",
    "#         dependency_graph(dp_names, ad_mtrx, original_modules, count)\n",
    "#\n",
    "# n = len(real_modules)\n",
    "# ad_mtrx = [[0 for x in range(n)] for y in range(n)]\n",
    "# dependency_graph(real_modules, ad_mtrx, real_modules, 0)\n",
    "# print(ad_mtrx)"
   ]
  },
  {
   "cell_type": "code",
   "execution_count": 162,
   "metadata": {
    "collapsed": false
   },
   "outputs": [
    {
     "name": "stdout",
     "output_type": "stream",
     "text": [
      "['abc', 'sys', 'stat', 'posixpath']\n"
     ]
    }
   ],
   "source": [
    "dp = module_dependency(real_modules, 'os')\n",
    "print(dp)"
   ]
  },
  {
   "cell_type": "code",
   "execution_count": 163,
   "metadata": {
    "collapsed": false
   },
   "outputs": [
    {
     "name": "stdout",
     "output_type": "stream",
     "text": [
      "{'asyncio': ['sys', 'asyncio', 'asyncio', 'asyncio', 'asyncio', 'asyncio', 'asyncio', 'asyncio', 'asyncio', 'asyncio', 'asyncio', 'asyncio', 'asyncio', 'asyncio', 'asyncio', 'asyncio', 'asyncio', 'asyncio', 'asyncio', 'asyncio', 'asyncio', 'asyncio', 'asyncio', 'asyncio', 'asyncio'], 'ipaddress': ['functools'], 'zipimport': ['importlib', 'importlib', '_imp', 'io', 'marshal', 'sys', 'time'], 'copy': [], 'functools': [], 'importlib': ['_imp', 'sys', 'importlib', 'importlib', 'types', 'warnings', 'importlib', 'importlib', 'importlib'], 'mailbox': ['os', 'time', 'calendar', 'socket', 'errno', 'copy', 'warnings', 'email', 'io', 'contextlib', 'fcntl'], 'nis': [], 'asynchat': ['asyncore'], 'base64': ['re', 'struct', 'binascii'], 'io': ['io', 'abc'], 'binascii': [], 'xmlrpc': ['xmlrpc', 'xmlrpc'], 'tempfile': ['functools', 'warnings', 'io', 'os', 'shutil', 'errno', 'sys', 'weakref', '_thread'], 'socketserver': ['socket', 'selectors', 'os', 'sys', 'threading'], 'subprocess': ['builtins', 'errno', 'io', 'os', 'time', 'signal', 'sys', 'threading', 'warnings', 'contextlib', '_posixsubprocess', 'select', 'selectors'], 'concurrent': ['concurrent'], 'pickletools': ['codecs', 'io', 'pickle', 're', 'sys'], 'lzma': ['builtins', 'io', 'os', '_compression'], 'readline': [], 'binhex': ['io', 'os', 'struct', 'binascii'], 'uu': ['binascii', 'os', 'sys'], 'secrets': ['base64', 'binascii', 'os'], 'hashlib': ['_hashlib'], 'cgi': ['sys', 'os', 'urllib', 'html', 'locale', 'tempfile'], 're': ['enum', 'sre_compile', 'sre_parse', 'functools', '_locale', 'copyreg'], 'lib2to3': [], 'bz2': ['io', 'os', 'warnings', '_compression'], 'tracemalloc': ['fnmatch', 'linecache', 'os', 'pickle'], 'codecs': ['builtins', 'sys'], 'rlcompleter': ['atexit', 'builtins', '__main__', 'readline'], 'telnetlib': ['sys', 'socket', 'selectors'], 'array': [], 'enum': ['sys'], 'glob': ['os', 're', 'fnmatch', 'sys'], 'traceback': ['collections', 'itertools', 'linecache', 'sys'], 'wsgiref': [], 'dbm': ['io', 'os', 'struct', 'sys', 'dbm'], 'random': ['os', '_random'], 'tty': [], 'errno': [], 'optparse': ['sys', 'os', 'textwrap'], 'pathlib': ['fnmatch', 'functools', 'io', 'ntpath', 'os', 'posixpath', 're', 'sys'], 'posix': [], 'platform': ['collections', 'os', 're', 'sys'], 'cmd': ['string', 'sys'], 'dis': ['sys', 'types', 'collections', 'io'], 'plistlib': ['binascii', 'codecs', 'contextlib', 'datetime', 'enum', 'itertools', 'os', 're', 'struct'], 'types': [], 'encodings': ['codecs', 'sys', 'encodings', 'encodings', 'encodings', 'encodings', 'encodings', 'encodings'], 'timeit': ['gc', 'sys', 'time', 'itertools'], 'imp': ['importlib', 'importlib', 'importlib', 'os', 'sys', 'tokenize', 'types', 'warnings'], 'site': ['sys', 'os', 'builtins', '_sitebuiltins', 'io'], 'posixpath': ['os', 'sys', 'stat', 'genericpath'], 'hmac': ['warnings', '_hashlib', 'hashlib'], 'ftplib': ['sys', 'socket', 'ssl'], 'pickle': ['sys', 're', 'io', 'codecs', '_compat_pickle'], 'gettext': ['locale', 'os', 're', 'sys'], 'fcntl': [], 'contextlib': ['abc', 'sys', 'collections'], 'crypt': ['sys', '_crypt', 'string'], 'token': [], 'pydoc': ['builtins', 'importlib', 'inspect', 'io', 'os', 'pkgutil', 'platform', 're', 'sys', 'sysconfig', 'time', 'tokenize', 'urllib', 'warnings'], 'pyclbr': ['io', 'sys', 'importlib', 'tokenize'], 'time': [], 'bdb': ['fnmatch', 'sys', 'os'], 'socket': ['_socket', 'os', 'sys', 'io', 'selectors', 'errno'], 'heapq': [], 'multiprocessing': ['sys', 'multiprocessing', 'multiprocessing', 'multiprocessing', 'multiprocessing'], 'datetime': ['sys'], 'curses': ['os', 'sys'], 'logging': ['sys', 'os', 'time', 'io', 're', 'traceback', 'warnings', 'weakref', 'collections', 'threading', 'atexit', 'logging', 'logging'], 'unicodedata': [], 'zlib': [], 'symtable': ['_symtable', 'weakref'], 'collections': ['collections', 'sys', 'heapq', 'collections'], 'pkgutil': ['importlib', 'os', 'sys', 'warnings', 'zipimport'], 'poplib': ['errno', 're', 'socket', 'sys', 'ssl'], 'pstats': ['sys', 'os', 'time', 'marshal', 're'], 'smtpd': ['sys', 'os', 'errno', 'getopt', 'time', 'socket', 'asyncore', 'asynchat', 'collections'], 'selectors': ['math', 'select', 'sys'], 'spwd': [], 'aifc': ['struct', 'builtins', 'warnings'], 'sunau': ['warnings'], 'inspect': ['abc', 'dis', 'collections', 'enum', 'importlib', 'itertools', 'linecache', 'os', 're', 'sys', 'tokenize', 'token', 'types', 'warnings', 'functools', 'builtins'], 'unittest': ['unittest', 'unittest', 'unittest', 'unittest', 'unittest', 'unittest', 'unittest', 'unittest'], 'ast': [], 'sqlite3': ['sqlite3', 'datetime', 'time', 'collections'], 'filecmp': ['os', 'stat'], 'email': ['email', 'email', 'email', 'email', 'email', 'email', 'email', 'email', 'email', 'email', 'email', 'email', 'email', 'email', 'email', 'email'], 'reprlib': ['builtins'], 'parser': [], 'stringprep': [], 'copyreg': [], 'queue': ['threading'], 'struct': [], 'mimetypes': ['os', 'sys', 'posixpath', 'urllib'], 'ctypes': ['os', 'sys', 'ctypes'], 'syslog': [], 'keyword': [], 'signal': ['_signal'], 'tabnanny': ['os', 'sys', 'tokenize'], 'csv': ['re'], 'resource': [], 'shlex': ['os', 're', 'sys'], 'difflib': [], 'uuid': ['os', 'sys', 'platform', '_uuid'], 'py_compile': ['enum', 'importlib', 'os', 'sys', 'traceback'], 'json': ['json', 'json', 'json', 'codecs'], 'mailcap': ['os', 'warnings', 're'], 'runpy': ['sys', 'importlib', 'io', 'types', 'os'], 'termios': [], 'argparse': ['os', 're', 'sys'], 'http': ['http', 'http'], 'builtins': [], 'test': [], 'fnmatch': ['os', 'posixpath', 're', 'functools'], 'math': [], 'fileinput': ['sys', 'os'], 'sched': ['time', 'heapq', 'threading'], 'string': ['_string', 're'], 'imghdr': [], 'cProfile': ['_lsprof', 'profile'], 'contextvars': [], 'netrc': ['os', 'shlex', 'stat'], 'numbers': [], 'sre_compile': ['_sre', 'sre_parse'], 'weakref': ['collections', 'sys', 'itertools'], 'shutil': ['os', 'sys', 'stat', 'fnmatch', 'collections', 'errno', 'posix'], 'ossaudiodev': [], 'venv': ['logging', 'os', 'shutil', 'subprocess', 'sys', 'sysconfig', 'types'], 'code': ['sys', 'traceback'], 'linecache': ['functools', 'sys', 'os', 'tokenize'], 'compileall': ['os', 'sys', 'importlib', 'py_compile', 'struct'], 'decimal': [], 'getopt': ['os'], 'pdb': ['os', 'io', 're', 'sys', 'cmd', 'bdb', 'dis', 'code', 'glob', 'pprint', 'signal', 'inspect', 'tokenize', 'traceback', 'linecache'], 'nntplib': ['re', 'socket', 'collections', 'datetime', 'warnings', 'sys', 'ssl'], 'operator': [], 'threading': ['os', 'sys'], 'statistics': ['math', 'numbers', 'random'], 'fractions': ['math', 'numbers', 'operator', 're', 'sys'], 'pipes': ['re', 'os', 'tempfile'], 'sndhdr': [], 'sre_parse': [], 'warnings': ['sys'], 'tokenize': ['collections', 'itertools', 're', 'sys'], 'imaplib': ['binascii', 'errno', 'random', 're', 'socket', 'subprocess', 'sys', 'time', 'calendar', 'ssl'], 'configparser': ['functools', 'io', 'itertools', 'os', 're', 'sys', 'warnings'], 'html': ['re', 'html'], 'xml': ['xml', 'xml'], 'colorsys': [], 'modulefinder': ['dis', 'importlib', 'marshal', 'os', 'io', 'sys', 'types', 'warnings'], 'cgitb': ['inspect', 'keyword', 'linecache', 'os', 'pydoc', 'sys', 'tempfile', 'time', 'tokenize', 'traceback'], 'ensurepip': ['glob', 'os', 'pkgutil', 'sys', 'runpy', 'tempfile', 'subprocess'], 'typing': ['collections', 'contextlib', 'functools', 'operator', 're', 'sys', 'types'], 'doctest': ['__future__', 'difflib', 'inspect', 'linecache', 'os', 'pdb', 're', 'sys', 'traceback', 'unittest'], 'sys': [], 'urllib': ['urllib', 'urllib', 'urllib', 'urllib'], 'asyncore': ['select', 'socket', 'sys', 'time', 'warnings', 'os'], 'smtplib': ['socket', 'io', 're', 'email', 'base64', 'hmac', 'copy', 'datetime', 'sys', 'ssl'], 'marshal': [], 'tarfile': ['sys', 'os', 'io', 'shutil', 'stat', 'time', 'struct', 'copy', 're', 'pwd', 'grp'], 'ssl': ['sys', 'os', '_ssl', 'socket', 'base64', 'errno', 'warnings'], 'trace': ['linecache', 'os', 'sys', 'sysconfig', 'token', 'tokenize', 'inspect', 'gc', 'dis', 'pickle', 'threading'], 'os': ['abc', 'sys', 'stat', 'posixpath'], 'itertools': [], 'webbrowser': ['os', 'shlex', 'shutil', 'sys', 'subprocess', 'threading'], 'shelve': ['collections'], 'chunk': [], 'sre_constants': [], 'stat': [], 'zipfile': ['binascii', 'functools', 'importlib', 'io', 'itertools', 'os', 'posixpath', 'shutil', 'stat', 'struct', 'sys', 'threading', 'time', 'contextlib', 'zlib', 'bz2', 'lzma'], 'cmath': [], 'pwd': [], 'atexit': [], 'distutils': ['sys'], 'locale': ['sys', 'encodings', 're', 'collections', 'functools'], 'pty': ['os', 'sys', 'tty'], 'sysconfig': ['os', 'sys'], 'quopri': [], 'textwrap': ['re'], 'formatter': ['sys', 'warnings'], 'gzip': ['struct', 'sys', 'time', 'os', 'zlib', 'builtins', 'io', '_compression'], 'gc': [], 'bisect': [], 'xdrlib': ['struct'], 'zipapp': ['contextlib', 'os', 'pathlib', 'shutil', 'stat', 'sys', 'zipfile'], 'calendar': ['sys', 'datetime', 'locale'], 'codeop': ['__future__', 'warnings'], 'ntpath': ['os', 'sys', 'stat', 'genericpath'], 'faulthandler': [], 'pprint': ['collections', 're', 'sys', 'types'], 'wave': ['builtins', 'audioop', 'struct', 'sys', 'warnings'], 'dummy_threading': ['threading'], 'select': [], 'symbol': [], 'grp': [], 'profile': ['sys', 'time', 'marshal'], 'abc': [], 'audioop': [], 'dataclasses': ['re', 'sys', 'copy', 'types', 'inspect', 'keyword', 'builtins', 'functools', '_thread'], 'getpass': ['contextlib', 'io', 'os', 'sys', 'warnings', 'termios'], 'mmap': []}\n"
     ]
    }
   ],
   "source": [
    "def module_dependency_map(modules):\n",
    "    md_map = dict()\n",
    "    for md in modules:\n",
    "        md_map[md] = module_dependency(modules, md)\n",
    "    return md_map\n",
    "\n",
    "md_map = module_dependency_map(real_modules)\n",
    "print(md_map)"
   ]
  },
  {
   "cell_type": "code",
   "execution_count": 164,
   "metadata": {
    "collapsed": false
   },
   "outputs": [],
   "source": [
    "def build_adj_edge_graph(md_map):\n",
    "    index_list = list()\n",
    "\n",
    "    for k, v in md_map.items():\n",
    "        index_list.append(k)\n",
    "\n",
    "    n = len(index_list)\n",
    "    adj_list = list()\n",
    "    for i in range(n):\n",
    "        adj_list.append([])\n",
    "\n",
    "    for md in index_list:\n",
    "        for name in md_map[md]:\n",
    "            try:\n",
    "                i = index_list.index(md)\n",
    "                j = index_list.index(name)\n",
    "                if j not in adj_list[i]:\n",
    "                    adj_list[i].append(j)\n",
    "            except:\n",
    "                continue\n",
    "\n",
    "    return adj_list, index_list"
   ]
  },
  {
   "cell_type": "code",
   "execution_count": 165,
   "metadata": {
    "collapsed": false
   },
   "outputs": [
    {
     "name": "stdout",
     "output_type": "stream",
     "text": [
      "[[157, 0], [4], [5, 10, 161, 157, 64], [], [], [157, 5, 48, 145], [165, 64, 188, 66, 40, 3, 145, 89, 10, 59, 58], [], [159], [25, 95, 11], [10, 199], [], [12], [4, 145, 10, 165, 128, 40, 157, 127], [66, 80, 165, 157, 139], [114, 40, 10, 165, 64, 100, 157, 139, 145, 59, 195, 80], [16], [29, 10, 56, 25, 157], [114, 10, 165], [], [10, 165, 95, 11], [11, 165, 157], [9, 11, 165], [], [157, 165, 158, 149, 177, 13], [33, 126, 144, 4, 93], [], [10, 165, 145], [116, 132, 165, 56], [114, 157], [175, 114, 19], [157, 66, 80], [], [157], [165, 25, 116, 157], [75, 166, 132, 157], [], [10, 165, 95, 157, 37], [165], [], [], [157, 165, 181], [116, 4, 10, 190, 165, 53, 25, 157], [], [75, 165, 25, 157], [120, 157], [157, 48, 75, 10], [11, 29, 59, 69, 33, 166, 165, 25, 95], [], [29, 157, 49], [184, 157, 64, 166], [5, 165, 157, 146, 48, 145], [157, 165, 114, 10], [165, 157, 171], [145, 23], [157, 66, 163], [157, 25, 10, 29], [177, 165, 25, 157], [], [199, 157, 75], [157, 120], [], [114, 5, 84, 10, 165, 76, 44, 25, 157, 179, 64, 146, 158, 145], [10, 157, 5, 146], [], [116, 157, 165], [165, 157, 10, 80, 40], [], [157, 68], [157], [165, 157], [157, 165, 64, 10, 25, 35, 145, 127, 75, 139, 175, 71], [], [], [127], [75, 157, 67], [5, 165, 157, 145, 2], [40, 25, 66, 157, 163], [157, 165, 64, 161, 25], [157, 165, 40, 135, 64, 66, 159, 8, 75], [117, 195, 157], [], [95, 114, 145], [145], [199, 46, 75, 33, 5, 166, 132, 165, 25, 157, 146, 61, 48, 145, 4, 114], [85], [], [87, 69, 64, 75], [165, 171], [89], [114], [], [], [], [139], [], [165, 157, 53, 158], [165, 157, 97], [], [], [], [165, 157, 146], [25], [], [165, 25, 157], [], [165, 157, 44], [33, 5, 165, 157, 35], [108, 29], [165, 145, 25], [157, 5, 10, 48, 165], [], [165, 25, 157], [113], [], [], [165, 53, 25, 4], [], [157, 165], [64, 67, 139], [25], [], [198], [], [165, 104, 171], [], [144], [75, 157, 166], [165, 157, 171, 116, 75, 40, 43], [], [71, 165, 128, 15, 157, 179, 48], [157, 35], [4, 157, 165, 146], [165, 157, 5, 107, 95], [], [165], [165, 10, 25, 157, 45, 65, 46, 131, 34, 192, 100, 84, 146, 35, 132], [25, 66, 75, 69, 145, 157, 163], [], [165, 157], [117, 125, 38], [117, 125, 138, 25, 157], [25, 165, 13], [], [], [157], [75, 166, 25, 157], [11, 40, 38, 25, 66, 15, 157, 64, 188, 163], [4, 10, 166, 165, 25, 157, 145], [25, 149], [150], [], [46, 5, 161, 165, 10, 157, 48, 145], [84, 99, 132, 165, 62, 157, 13, 64, 146, 35], [34, 165, 76, 157, 110, 13, 15], [75, 59, 4, 138, 25, 157, 48], [105, 84, 132, 165, 136, 25, 157, 35, 85], [], [158], [195, 66, 157, 64, 145, 165], [66, 10, 25, 89, 9, 54, 3, 69, 157, 163], [], [157, 165, 10, 128, 171, 64, 95, 3, 25, 174, 197], [157, 165, 66, 9, 40, 145], [132, 165, 157, 179, 61, 146, 84, 184, 46, 56, 139], [199, 157, 171, 53], [], [165, 104, 128, 157, 15, 139], [75], [], [], [], [11, 4, 5, 10, 166, 165, 53, 128, 171, 95, 157, 139, 64, 59, 73, 27, 18], [], [], [], [157], [157, 49, 25, 75, 4], [165, 157, 39], [165, 157], [], [25], [157, 145], [95, 157, 64, 165, 73, 114, 10], [], [], [95], [59, 165, 42, 128, 171, 157, 172], [157, 69, 177], [145], [165, 157, 171], [], [75, 25, 157, 48], [114, 200, 95, 157, 145], [139], [], [], [], [157, 64, 161], [], [], [25, 157, 3, 48, 84, 99, 114, 4], [59, 10, 165, 157, 145, 111], []]\n"
     ]
    }
   ],
   "source": [
    "adj_list, index_list = build_adj_edge_graph(md_map)\n",
    "print(adj_list)\n",
    "# print(index_list)"
   ]
  },
  {
   "cell_type": "code",
   "execution_count": 166,
   "metadata": {
    "collapsed": false
   },
   "outputs": [],
   "source": [
    "# def build_dependency_graph(md_map):\n",
    "#     index_list = list()\n",
    "#\n",
    "#     for k, v in md_map.items():\n",
    "#         index_list.append(k)\n",
    "#\n",
    "#     n = len(index_list)\n",
    "#     ad_mtrx = [[0 for x in range(n)] for y in range(n)]\n",
    "#\n",
    "#     for md in index_list:\n",
    "#         for name in md_map[md]:\n",
    "#             try:\n",
    "#                 i = index_list.index(md)\n",
    "#                 j = index_list.index(name)\n",
    "#                 ad_mtrx[i][j] = 1\n",
    "#             except:\n",
    "#                 continue\n",
    "#\n",
    "#     return index_list, ad_mtrx\n",
    "#\n",
    "#\n",
    "# index_list, ad_mtrx = build_dependency_graph(md_map)\n",
    "# # print(f'index list: {index_list}')\n",
    "# # print(f'ad_mtrx: {ad_mtrx}')\n",
    "#\n",
    "# i = index_list.index('locale')\n",
    "# print(f'dp of locale ---------')\n",
    "# dp_list = list()\n",
    "# for j in range(len(index_list)):\n",
    "#     if ad_mtrx[i][j] == 1:\n",
    "#         dp_list.append(index_list[j])\n",
    "# print(dp_list)"
   ]
  },
  {
   "cell_type": "code",
   "execution_count": 167,
   "metadata": {
    "collapsed": false
   },
   "outputs": [
    {
     "name": "stdout",
     "output_type": "stream",
     "text": [
      "['builtins', 'io', 'os', '_compression']\n"
     ]
    }
   ],
   "source": [
    "dp = module_dependency(real_modules, 'lzma')\n",
    "print(dp)\n",
    "\n",
    "# print(index_list.index('builtins')"
   ]
  },
  {
   "cell_type": "code",
   "execution_count": 168,
   "metadata": {
    "collapsed": false
   },
   "outputs": [],
   "source": [
    "def print_cycle(stack, v):\n",
    "    print(f'stack: {stack}')\n",
    "    st2 = [stack.pop()]\n",
    "    while st2[-1] != v:\n",
    "        st2.append(stack.pop())\n",
    "\n",
    "    rs = [v]\n",
    "    while len(st2) > 0:\n",
    "        # print(st2[-1])\n",
    "        rs.append(st2[-1])\n",
    "        stack.append(st2[-1])\n",
    "        st2.pop()\n",
    "\n",
    "    print(f'cycle: {rs}')\n"
   ]
  },
  {
   "cell_type": "code",
   "execution_count": 169,
   "metadata": {
    "collapsed": false
   },
   "outputs": [],
   "source": [
    "def process_DFS_tree(graph, stack, visited_vertices):\n",
    "    for v in graph[stack[-1]]:\n",
    "        if visited_vertices[v] == 'in_stack':\n",
    "            print_cycle(stack, v)\n",
    "        elif visited_vertices[v] == 'not_visited':\n",
    "            stack.append(v)\n",
    "            visited_vertices[v] = 'in_stack'\n",
    "            process_DFS_tree(graph, stack, visited_vertices)\n",
    "\n",
    "    visited_vertices[stack[-1]] = 'done'\n",
    "    stack.pop()"
   ]
  },
  {
   "cell_type": "code",
   "execution_count": 170,
   "metadata": {
    "collapsed": false
   },
   "outputs": [],
   "source": [
    "def find_cycles(graph):\n",
    "    n = len(graph)\n",
    "    visited = list()\n",
    "    for i in range(n):\n",
    "        visited.append('not_visited')\n",
    "\n",
    "    for v in range(n):\n",
    "        if visited[v] == 'not_visited':\n",
    "            stack = [v]\n",
    "            visited[v] = 'in_stack'\n",
    "            process_DFS_tree(graph, stack, visited)\n"
   ]
  },
  {
   "cell_type": "code",
   "execution_count": 171,
   "metadata": {
    "collapsed": false
   },
   "outputs": [
    {
     "name": "stdout",
     "output_type": "stream",
     "text": [
      "stack: [0]\n",
      "cycle: [0, 0]\n",
      "stack: [2, 5]\n",
      "cycle: [5, 5]\n",
      "stack: [2, 10]\n",
      "cycle: [10, 10]\n",
      "stack: [6, 165, 53]\n",
      "cycle: [165, 165, 53]\n",
      "stack: [6, 188, 177, 49]\n",
      "cycle: [49, 49]\n",
      "stack: [6, 188, 177, 75]\n",
      "cycle: [75, 75]\n",
      "stack: [6, 89]\n",
      "cycle: [89, 89]\n",
      "stack: [12]\n",
      "cycle: [12, 12]\n",
      "stack: [16]\n",
      "cycle: [16, 16]\n",
      "stack: [24, 158]\n",
      "cycle: [158, 158]\n",
      "stack: [24, 149]\n",
      "cycle: [149, 149]\n",
      "stack: [37]\n",
      "cycle: [37, 37]\n",
      "stack: [68]\n",
      "cycle: [68, 68]\n",
      "stack: [71]\n",
      "cycle: [71, 71]\n",
      "stack: [85]\n",
      "cycle: [85, 85]\n",
      "stack: [87]\n",
      "cycle: [87, 87]\n",
      "stack: [97]\n",
      "cycle: [97, 97]\n",
      "stack: [108]\n",
      "cycle: [108, 108]\n",
      "stack: [113]\n",
      "cycle: [113, 113]\n",
      "stack: [150]\n",
      "cycle: [150, 150]\n"
     ]
    }
   ],
   "source": [
    "adj_list, index_list = build_adj_edge_graph(md_map)\n",
    "find_cycles(adj_list)"
   ]
  },
  {
   "cell_type": "code",
   "execution_count": 172,
   "metadata": {},
   "outputs": [
    {
     "name": "stdout",
     "output_type": "stream",
     "text": [
      "zipimport importlib\n",
      "mailbox\n",
      "os\n",
      "posixpath\n",
      "xmlrpc\n"
     ]
    }
   ],
   "source": [
    "# print(index_list[2], index_list[5])\n",
    "\n",
    "print(index_list[6])\n",
    "print(index_list[165])\n",
    "print(index_list[53])\n",
    "print(index_list[12])\n",
    "# print(index_list[6])"
   ]
  },
  {
   "cell_type": "code",
   "execution_count": 173,
   "metadata": {},
   "outputs": [],
   "source": [
    "import mailbox\n",
    "import os\n",
    "import posixpath\n",
    "import xmlrpc\n",
    "\n",
    "import zipimport\n",
    "import importlib"
   ]
  }
 ],
 "metadata": {
  "kernelspec": {
   "display_name": "Python 3.10.8 ('venv': venv)",
   "language": "python",
   "name": "python3"
  },
  "language_info": {
   "codemirror_mode": {
    "name": "ipython",
    "version": 3
   },
   "file_extension": ".py",
   "mimetype": "text/x-python",
   "name": "python",
   "nbconvert_exporter": "python",
   "pygments_lexer": "ipython3",
   "version": "3.8.10"
  },
  "vscode": {
   "interpreter": {
    "hash": "a985f189663a134de94bb9d0f615e24b14bf04b454e80b359d55a2d15f13cc23"
   }
  }
 },
 "nbformat": 4,
 "nbformat_minor": 0
}
