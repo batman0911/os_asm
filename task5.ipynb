{
 "cells": [
  {
   "cell_type": "code",
   "execution_count": 1,
   "metadata": {
    "collapsed": true
   },
   "outputs": [],
   "source": [
    "import enum\n",
    "\n",
    "import isort\n",
    "import sys\n",
    "import platform\n",
    "import importlib\n",
    "from types import ModuleType\n",
    "import inspect"
   ]
  },
  {
   "cell_type": "code",
   "execution_count": 2,
   "metadata": {
    "collapsed": false
   },
   "outputs": [],
   "source": [
    "def get_stdlib_packages():\n",
    "    if sys.version_info.minor == 10:\n",
    "        module_names = sys.stdlib_module_names\n",
    "    else:\n",
    "        module_names = isort.stdlibs.py38.stdlib\n",
    "\n",
    "    external_packages = list()\n",
    "    for name in module_names:\n",
    "        if name[0] == '_' or name == 'this' or name == 'antigravity':\n",
    "            continue\n",
    "        external_packages.append(name)\n",
    "    return external_packages\n",
    "\n",
    "def get_real_packages(package_names):\n",
    "    real_modules = list()\n",
    "    not_importable_modules = list()\n",
    "    for name in package_names:\n",
    "        try:\n",
    "            importlib.import_module(name)\n",
    "            real_modules.append(name)\n",
    "        except:\n",
    "            not_importable_modules.append(name)\n",
    "    return real_modules, not_importable_modules\n",
    "\n",
    "\n",
    "def get_real():\n",
    "    external_packages = get_stdlib_packages()\n",
    "    return get_real_packages(external_packages)"
   ]
  },
  {
   "cell_type": "code",
   "execution_count": 3,
   "metadata": {
    "collapsed": false
   },
   "outputs": [],
   "source": [
    "def module_dependency(module_names, name):\n",
    "    if name not in module_names:\n",
    "        raise Exception(f'{name} is not importable module')\n",
    "    dp_names = list()\n",
    "\n",
    "    # try:\n",
    "    #     importlib.import_module(name)\n",
    "    # except:\n",
    "    #     print(f'err name: {name}')\n",
    "    for key, val in vars(sys.modules[name]).items():\n",
    "        if isinstance(val, ModuleType):\n",
    "            md_name = val.__name__\n",
    "\n",
    "            try:\n",
    "                index = md_name.index(\".\")\n",
    "                md_name = md_name[0:index]\n",
    "            except:\n",
    "                pass\n",
    "\n",
    "            if md_name != name:\n",
    "                dp_names.append(md_name)\n",
    "            # print(f'key: {key}, type: {type(val)}, val: {md_name}, module: {md_name}')\n",
    "\n",
    "    return dp_names"
   ]
  },
  {
   "cell_type": "code",
   "execution_count": 4,
   "metadata": {
    "collapsed": false
   },
   "outputs": [],
   "source": [
    "real_modules, _ = get_real()\n",
    "# print(real_modules)"
   ]
  },
  {
   "cell_type": "code",
   "execution_count": 5,
   "metadata": {
    "collapsed": false
   },
   "outputs": [
    {
     "name": "stdout",
     "output_type": "stream",
     "text": [
      "['fnmatch', 'functools', 'io', 'ntpath', 'os', 'posixpath', 're', 'sys']\n"
     ]
    }
   ],
   "source": [
    "import pathlib\n",
    "\n",
    "dp_names = module_dependency(real_modules, 'pathlib')\n",
    "print(dp_names)"
   ]
  },
  {
   "cell_type": "code",
   "execution_count": 6,
   "metadata": {
    "collapsed": false
   },
   "outputs": [],
   "source": [
    "# import sys\n",
    "# sys.setrecursionlimit(50000)\n",
    "#\n",
    "# def dependency_graph(modules, ad_mtrx, original_modules, count):\n",
    "#     count = count + 1\n",
    "#     if count % 10 == 0:\n",
    "#         print(f'count: {count}')\n",
    "#     for md in modules:\n",
    "#         try:\n",
    "#             dp_names = module_dependency(original_modules, md)\n",
    "#         except:\n",
    "#             print(f'{md} is not in stdlib')\n",
    "#             continue\n",
    "#\n",
    "#         for name in dp_names:\n",
    "#             try:\n",
    "#                 i = original_modules.index(md)\n",
    "#                 j = original_modules.index(name)\n",
    "#                 ad_mtrx[i][j] = 1\n",
    "#             except:\n",
    "#                 print(f'md: {md}, name: {name} is not in stdlib')\n",
    "#                 continue\n",
    "#\n",
    "#         dependency_graph(dp_names, ad_mtrx, original_modules, count)\n",
    "#\n",
    "# n = len(real_modules)\n",
    "# ad_mtrx = [[0 for x in range(n)] for y in range(n)]\n",
    "# dependency_graph(real_modules, ad_mtrx, real_modules, 0)\n",
    "# print(ad_mtrx)"
   ]
  },
  {
   "cell_type": "code",
   "execution_count": 7,
   "metadata": {
    "collapsed": false
   },
   "outputs": [
    {
     "name": "stdout",
     "output_type": "stream",
     "text": [
      "['abc', 'sys', 'stat', 'posixpath']\n"
     ]
    }
   ],
   "source": [
    "dp = module_dependency(real_modules, 'os')\n",
    "print(dp)"
   ]
  },
  {
   "cell_type": "code",
   "execution_count": 8,
   "metadata": {
    "collapsed": false
   },
   "outputs": [
    {
     "name": "stdout",
     "output_type": "stream",
     "text": [
      "{'pyclbr': ['io', 'sys', 'importlib', 'tokenize'], 'grp': [], 'site': ['sys', 'os', 'builtins', '_sitebuiltins', 'io'], 'asyncore': ['select', 'socket', 'sys', 'time', 'warnings', 'os'], 'copyreg': [], 'cmath': [], 'pydoc': ['builtins', 'importlib', 'inspect', 'io', 'os', 'pkgutil', 'platform', 're', 'sys', 'sysconfig', 'time', 'tokenize', 'urllib', 'warnings'], 'calendar': ['sys', 'datetime', 'locale'], 'gc': [], 'uu': ['binascii', 'os', 'sys'], 'atexit': [], 'mailbox': ['os', 'time', 'calendar', 'socket', 'errno', 'copy', 'warnings', 'email', 'io', 'contextlib', 'fcntl'], 'readline': [], 'runpy': ['sys', 'importlib', 'io', 'types', 'os'], 'unicodedata': [], 'cProfile': ['_lsprof', 'profile'], 'netrc': ['os', 'shlex', 'stat'], 'mmap': [], 'distutils': ['sys'], 'tabnanny': ['os', 'sys', 'tokenize'], 'contextvars': [], 'zipimport': ['importlib', 'importlib', '_imp', 'io', 'marshal', 'sys', 'time'], 'posix': [], 'plistlib': ['binascii', 'codecs', 'contextlib', 'datetime', 'enum', 'itertools', 'os', 're', 'struct'], 'dbm': ['io', 'os', 'struct', 'sys'], 'smtpd': ['sys', 'os', 'errno', 'getopt', 'time', 'socket', 'asyncore', 'asynchat', 'collections'], 'tokenize': ['collections', 'itertools', 're', 'sys'], 'shelve': ['collections'], 'cgitb': ['inspect', 'keyword', 'linecache', 'os', 'pydoc', 'sys', 'tempfile', 'time', 'tokenize', 'traceback'], 'bz2': ['io', 'os', 'warnings', '_compression'], 'rlcompleter': ['atexit', 'builtins', '__main__', 'readline'], 'select': [], 'ntpath': ['os', 'sys', 'stat', 'genericpath'], 'logging': ['sys', 'os', 'time', 'io', 're', 'traceback', 'warnings', 'weakref', 'collections', 'threading', 'atexit'], 'ctypes': ['os', 'sys'], 'warnings': ['sys'], 'marshal': [], 'py_compile': ['enum', 'importlib', 'os', 'sys', 'traceback'], 'tempfile': ['functools', 'warnings', 'io', 'os', 'shutil', 'errno', 'sys', 'weakref', '_thread'], 'pstats': ['sys', 'os', 'time', 'marshal', 're'], 'shlex': ['os', 're', 'sys'], 'statistics': ['math', 'numbers', 'random'], 'datetime': ['sys'], 'encodings': ['codecs', 'sys'], 'glob': ['os', 're', 'fnmatch', 'sys'], 'http': [], 'ensurepip': ['glob', 'os', 'pkgutil', 'sys', 'runpy', 'tempfile', 'subprocess'], 'pathlib': ['fnmatch', 'functools', 'io', 'ntpath', 'os', 'posixpath', 're', 'sys'], 'tracemalloc': ['fnmatch', 'linecache', 'os', 'pickle'], 'zlib': [], 'concurrent': [], 'array': [], 'mailcap': ['os', 'warnings', 're'], 'bisect': [], 'mimetypes': ['os', 'sys', 'posixpath', 'urllib'], 'itertools': [], 'hmac': ['warnings', '_hashlib', 'hashlib'], 'pkgutil': ['importlib', 'os', 'sys', 'warnings', 'zipimport'], 'poplib': ['errno', 're', 'socket', 'sys', 'ssl'], 'posixpath': ['os', 'sys', 'stat', 'genericpath'], 'asynchat': ['asyncore'], 'gettext': ['locale', 'os', 're', 'sys'], 'spwd': [], 'lib2to3': [], 'sysconfig': ['os', 'sys'], 'functools': [], 'optparse': ['sys', 'os', 'textwrap'], 'secrets': ['base64', 'binascii', 'os'], 'codeop': ['__future__', 'warnings'], 'enum': ['sys'], 'symtable': ['_symtable', 'weakref'], 'weakref': ['collections', 'sys', 'itertools'], 'xml': [], 'dataclasses': ['re', 'sys', 'copy', 'types', 'inspect', 'keyword', 'builtins', 'functools', '_thread'], 'subprocess': ['builtins', 'errno', 'io', 'os', 'time', 'signal', 'sys', 'threading', 'warnings', 'contextlib', '_posixsubprocess', 'select', 'selectors'], 'lzma': ['builtins', 'io', 'os', '_compression'], 'math': [], 'webbrowser': ['os', 'shlex', 'shutil', 'sys', 'subprocess', 'threading'], 'code': ['sys', 'traceback'], 'json': ['codecs'], 'parser': [], 'queue': ['threading'], 'multiprocessing': ['sys'], 'keyword': [], 'unittest': [], 'threading': ['os', 'sys'], 'abc': [], 'quopri': [], 'collections': ['sys', 'heapq'], 'aifc': ['struct', 'builtins', 'warnings'], 'stringprep': [], 'textwrap': ['re'], 'xdrlib': ['struct'], 'dis': ['sys', 'types', 'collections', 'io'], 'ast': [], 'compileall': ['os', 'sys', 'importlib', 'py_compile', 'struct'], 'chunk': [], 'importlib': ['_imp', 'sys', 'types', 'warnings'], 'bdb': ['fnmatch', 'sys', 'os'], 'getopt': ['os'], 'imp': ['importlib', 'importlib', 'importlib', 'os', 'sys', 'tokenize', 'types', 'warnings'], 'imaplib': ['binascii', 'errno', 'random', 're', 'socket', 'subprocess', 'sys', 'time', 'calendar', 'ssl'], 'inspect': ['abc', 'dis', 'collections', 'enum', 'importlib', 'itertools', 'linecache', 'os', 're', 'sys', 'tokenize', 'token', 'types', 'warnings', 'functools', 'builtins'], 'linecache': ['functools', 'sys', 'os', 'tokenize'], 'nntplib': ['re', 'socket', 'collections', 'datetime', 'warnings', 'sys', 'ssl'], 'types': [], 'ssl': ['sys', 'os', '_ssl', 'socket', 'base64', 'errno', 'warnings'], 'typing': ['collections', 'contextlib', 'functools', 'operator', 're', 'sys', 'types'], 'urllib': [], 'struct': [], 'smtplib': ['socket', 'io', 're', 'email', 'base64', 'hmac', 'copy', 'datetime', 'sys', 'ssl'], 'sre_compile': ['_sre', 'sre_parse'], 'shutil': ['os', 'sys', 'stat', 'fnmatch', 'collections', 'errno', 'posix'], 'selectors': ['math', 'select', 'sys'], 'profile': ['sys', 'time', 'marshal'], 'cmd': ['string', 'sys'], 'pickle': ['sys', 're', 'io', 'codecs', '_compat_pickle'], 'sys': [], 'binhex': ['io', 'os', 'struct', 'binascii'], 'ossaudiodev': [], 'sndhdr': [], 'crypt': ['sys', '_crypt', 'string'], 'binascii': [], 'decimal': [], 'traceback': ['collections', 'itertools', 'linecache', 'sys'], 'copy': [], 'tty': [], 'ipaddress': ['functools'], 'argparse': ['os', 're', 'sys'], 'io': ['abc'], 'pipes': ['re', 'os', 'tempfile'], 'heapq': [], 'wave': ['builtins', 'audioop', 'struct', 'sys', 'warnings'], 'random': ['os', '_random'], 'sre_constants': [], 'pty': ['os', 'sys', 'tty'], 'venv': ['logging', 'os', 'shutil', 'subprocess', 'sys', 'sysconfig', 'types'], 'wsgiref': [], 'stat': [], 'socket': ['_socket', 'os', 'sys', 'io', 'selectors', 'errno'], 'zipfile': ['binascii', 'functools', 'importlib', 'io', 'itertools', 'os', 'posixpath', 'shutil', 'stat', 'struct', 'sys', 'threading', 'time', 'contextlib', 'zlib', 'bz2', 'lzma'], 'getpass': ['contextlib', 'io', 'os', 'sys', 'warnings', 'termios'], 'socketserver': ['socket', 'selectors', 'os', 'sys', 'threading'], 'filecmp': ['os', 'stat'], 'builtins': [], 'modulefinder': ['dis', 'importlib', 'marshal', 'os', 'io', 'sys', 'types', 'warnings'], 'locale': ['sys', 'encodings', 're', 'collections', 'functools'], 'sched': ['time', 'heapq', 'threading'], 'numbers': [], 'email': [], 'fcntl': [], 'configparser': ['functools', 'io', 'itertools', 'os', 're', 'sys', 'warnings'], 'operator': [], 'base64': ['re', 'struct', 'binascii'], 'gzip': ['struct', 'sys', 'time', 'os', 'zlib', 'builtins', 'io', '_compression'], 'pprint': ['collections', 're', 'sys', 'types'], 'fileinput': ['sys', 'os'], 'imghdr': [], 'dummy_threading': ['threading'], 'reprlib': ['builtins'], 'difflib': [], 'formatter': ['sys', 'warnings'], 'string': ['_string', 're'], 'ftplib': ['sys', 'socket', 'ssl'], 'faulthandler': [], 'trace': ['linecache', 'os', 'sys', 'sysconfig', 'token', 'tokenize', 'inspect', 'gc', 'dis', 'pickle', 'threading'], 'signal': ['_signal'], 'pwd': [], 'sunau': ['warnings'], 'codecs': ['builtins', 'sys'], 'hashlib': ['_hashlib'], 'fnmatch': ['os', 'posixpath', 're', 'functools'], 'zipapp': ['contextlib', 'os', 'pathlib', 'shutil', 'stat', 'sys', 'zipfile'], 're': ['enum', 'sre_compile', 'sre_parse', 'functools', '_locale', 'copyreg'], 'fractions': ['math', 'numbers', 'operator', 're', 'sys'], 'sre_parse': [], 'xmlrpc': [], 'audioop': [], 'doctest': ['__future__', 'difflib', 'inspect', 'linecache', 'os', 'pdb', 're', 'sys', 'traceback', 'unittest'], 'test': [], 'os': ['abc', 'sys', 'stat', 'posixpath'], 'pdb': ['os', 'io', 're', 'sys', 'cmd', 'bdb', 'dis', 'code', 'glob', 'pprint', 'signal', 'inspect', 'tokenize', 'traceback', 'linecache'], 'csv': ['re'], 'html': ['re'], 'termios': [], 'pickletools': ['codecs', 'io', 'pickle', 're', 'sys'], 'tarfile': ['sys', 'os', 'io', 'shutil', 'stat', 'time', 'struct', 'copy', 're', 'pwd', 'grp'], 'cgi': ['sys', 'os', 'urllib', 'html', 'locale', 'tempfile'], 'timeit': ['gc', 'sys', 'time', 'itertools'], 'curses': ['os', 'sys'], 'uuid': ['os', 'sys', 'platform', '_uuid'], 'telnetlib': ['sys', 'socket', 'selectors'], 'time': [], 'syslog': [], 'colorsys': [], 'resource': [], 'token': [], 'nis': [], 'asyncio': ['sys'], 'platform': ['collections', 'os', 're', 'sys'], 'sqlite3': ['datetime', 'time', 'collections'], 'errno': [], 'symbol': [], 'contextlib': ['abc', 'sys', 'collections']}\n"
     ]
    }
   ],
   "source": [
    "def module_dependency_map(modules):\n",
    "    md_map = dict()\n",
    "    for md in modules:\n",
    "        md_map[md] = module_dependency(modules, md)\n",
    "    return md_map\n",
    "\n",
    "md_map = module_dependency_map(real_modules)\n",
    "print(md_map)"
   ]
  },
  {
   "cell_type": "code",
   "execution_count": 9,
   "metadata": {
    "collapsed": false
   },
   "outputs": [],
   "source": [
    "def build_adj_edge_graph(md_map):\n",
    "    index_list = list()\n",
    "\n",
    "    for k, v in md_map.items():\n",
    "        index_list.append(k)\n",
    "\n",
    "    n = len(index_list)\n",
    "    adj_list = list()\n",
    "    for i in range(n):\n",
    "        adj_list.append([])\n",
    "\n",
    "    for md in index_list:\n",
    "        for name in md_map[md]:\n",
    "            try:\n",
    "                i = index_list.index(md)\n",
    "                j = index_list.index(name)\n",
    "                if j not in adj_list[i]:\n",
    "                    adj_list[i].append(j)\n",
    "            except:\n",
    "                continue\n",
    "\n",
    "    return adj_list, index_list"
   ]
  },
  {
   "cell_type": "code",
   "execution_count": 10,
   "metadata": {
    "collapsed": false
   },
   "outputs": [
    {
     "name": "stdout",
     "output_type": "stream",
     "text": [
      "[[129, 117, 97, 26], [], [117, 180, 144, 129], [31, 139, 117, 192, 35, 180], [], [], [144, 97, 102, 129, 180, 57, 199, 173, 117, 64, 192, 26, 108, 35], [117, 42, 146], [], [122, 180, 117], [], [180, 192, 7, 139, 201, 125, 35, 149, 129, 203, 150], [], [117, 97, 129, 105, 180], [], [114], [180, 40, 138], [], [117], [180, 117, 26], [], [97, 129, 36, 117, 192], [], [122, 169, 203, 42, 69, 55, 180, 173, 109], [129, 180, 109, 117], [117, 180, 201, 99, 192, 139, 3, 60, 88], [88, 55, 173, 117], [88], [102, 83, 103, 180, 6, 117, 38, 192, 26, 124], [129, 180, 35], [10, 144, 12], [], [180, 117, 138], [117, 180, 192, 129, 173, 124, 35, 71, 88, 85, 10], [180, 117], [117], [], [69, 97, 180, 117, 124], [65, 35, 129, 180, 112, 201, 117, 71], [117, 180, 192, 36, 173], [180, 173, 117], [76, 148, 133], [117], [169, 117], [180, 173, 171, 117], [], [44, 180, 57, 117, 13, 38, 74], [171, 65, 129, 32, 180, 59, 173, 117], [171, 103, 180, 116], [], [], [], [180, 35, 173], [], [180, 117, 59, 108], [], [35, 170], [97, 180, 117, 35, 21], [201, 173, 139, 117, 106], [180, 117, 138], [3], [146, 180, 173, 117], [], [], [180, 117], [], [117, 180, 91], [153, 122, 180], [35], [117], [71], [88, 117, 55], [], [173, 117, 125, 105, 102, 83, 144, 65], [144, 201, 129, 180, 192, 166, 117, 85, 35, 203, 31, 113], [144, 129, 180], [], [180, 40, 112, 117, 74, 85], [117, 124], [169], [], [85], [117], [], [], [180, 117], [], [], [117, 131], [109, 144, 35], [], [173], [109], [117, 105, 88, 129], [], [180, 117, 97, 37, 109], [], [117, 105, 35], [171, 117, 180], [180], [97, 180, 117, 26, 105, 35], [122, 201, 133, 173, 139, 74, 117, 192, 7, 106], [86, 93, 88, 69, 97, 55, 103, 180, 173, 117, 26, 196, 105, 35, 65, 144], [65, 117, 180, 26], [173, 139, 88, 42, 35, 117, 106], [], [117, 180, 139, 153, 201, 35], [88, 203, 65, 152, 173, 117, 105], [], [], [139, 129, 173, 149, 153, 56, 125, 42, 117, 106], [175], [180, 117, 138, 171, 88, 201, 22], [76, 31, 117], [117, 192, 36], [162, 117], [117, 173, 129, 169], [], [129, 180, 109, 122], [], [], [117, 162], [], [], [88, 55, 103, 117], [], [], [65], [180, 173, 117], [86], [173, 180, 38], [], [144, 177, 109, 117, 35], [180], [], [180, 117, 126], [33, 180, 112, 74, 117, 64, 105], [], [], [180, 117, 129, 113, 201], [122, 65, 97, 129, 55, 180, 59, 112, 138, 109, 117, 85, 192, 203, 49, 29, 75], [203, 129, 180, 117, 35, 184], [139, 113, 180, 117, 85], [180, 138], [], [93, 97, 36, 180, 129, 117, 105, 35], [117, 43, 173, 88, 65], [192, 131, 85], [], [], [], [65, 129, 55, 180, 173, 117, 35], [], [173, 109, 122], [109, 117, 192, 180, 49, 144, 129], [88, 173, 117, 105], [117, 180], [], [85], [144], [], [117, 35], [173], [117, 139, 106], [], [103, 180, 117, 64, 196, 26, 102, 8, 93, 116, 85], [], [], [35], [144, 117], [], [180, 59, 173, 65], [203, 180, 47, 112, 138, 117, 140], [69, 111, 175, 65, 4], [76, 148, 152, 173, 117], [], [], [], [160, 102, 103, 180, 181, 173, 117, 124, 84], [], [86, 117, 138, 59], [180, 129, 173, 117, 115, 98, 93, 78, 44, 155, 166, 102, 26, 124, 103], [173], [173], [], [169, 129, 116, 173, 117], [117, 180, 129, 112, 138, 192, 109, 125, 173, 167, 1], [117, 180, 108, 183, 146, 38], [8, 117, 192, 55], [180, 117], [180, 117, 199], [117, 139, 113], [], [], [], [], [], [], [117], [88, 180, 173, 117], [42, 192, 88], [], [], [86, 117, 88]]\n"
     ]
    }
   ],
   "source": [
    "adj_list, index_list = build_adj_edge_graph(md_map)\n",
    "print(adj_list)\n",
    "# print(index_list)"
   ]
  },
  {
   "cell_type": "code",
   "execution_count": 11,
   "metadata": {
    "collapsed": false
   },
   "outputs": [],
   "source": [
    "# def build_dependency_graph(md_map):\n",
    "#     index_list = list()\n",
    "#\n",
    "#     for k, v in md_map.items():\n",
    "#         index_list.append(k)\n",
    "#\n",
    "#     n = len(index_list)\n",
    "#     ad_mtrx = [[0 for x in range(n)] for y in range(n)]\n",
    "#\n",
    "#     for md in index_list:\n",
    "#         for name in md_map[md]:\n",
    "#             try:\n",
    "#                 i = index_list.index(md)\n",
    "#                 j = index_list.index(name)\n",
    "#                 ad_mtrx[i][j] = 1\n",
    "#             except:\n",
    "#                 continue\n",
    "#\n",
    "#     return index_list, ad_mtrx\n",
    "#\n",
    "#\n",
    "# index_list, ad_mtrx = build_dependency_graph(md_map)\n",
    "# # print(f'index list: {index_list}')\n",
    "# # print(f'ad_mtrx: {ad_mtrx}')\n",
    "#\n",
    "# i = index_list.index('locale')\n",
    "# print(f'dp of locale ---------')\n",
    "# dp_list = list()\n",
    "# for j in range(len(index_list)):\n",
    "#     if ad_mtrx[i][j] == 1:\n",
    "#         dp_list.append(index_list[j])\n",
    "# print(dp_list)"
   ]
  },
  {
   "cell_type": "code",
   "execution_count": 12,
   "metadata": {
    "collapsed": false
   },
   "outputs": [
    {
     "name": "stdout",
     "output_type": "stream",
     "text": [
      "['builtins', 'io', 'os', '_compression']\n"
     ]
    }
   ],
   "source": [
    "dp = module_dependency(real_modules, 'lzma')\n",
    "print(dp)\n",
    "\n",
    "# print(index_list.index('builtins')"
   ]
  },
  {
   "cell_type": "code",
   "execution_count": 13,
   "metadata": {
    "collapsed": false
   },
   "outputs": [],
   "source": [
    "def print_cycle(stack, v):\n",
    "    print(f'stack: {stack}')\n",
    "    st2 = [stack.pop()]\n",
    "    while st2[-1] != v:\n",
    "        st2.append(stack.pop())\n",
    "\n",
    "    rs = [v]\n",
    "    while len(st2) > 0:\n",
    "        # print(st2[-1])\n",
    "        rs.append(st2[-1])\n",
    "        stack.append(st2[-1])\n",
    "        st2.pop()\n",
    "\n",
    "    print(f'cycle: {rs}')\n"
   ]
  },
  {
   "cell_type": "code",
   "execution_count": 14,
   "metadata": {
    "collapsed": false
   },
   "outputs": [],
   "source": [
    "def process_DFS_tree(graph, stack, visited_vertices):\n",
    "    for v in graph[stack[-1]]:\n",
    "        if visited_vertices[v] == 'in_stack':\n",
    "            print_cycle(stack, v)\n",
    "        elif visited_vertices[v] == 'not_visited':\n",
    "            stack.append(v)\n",
    "            visited_vertices[v] = 'in_stack'\n",
    "            process_DFS_tree(graph, stack, visited_vertices)\n",
    "\n",
    "    visited_vertices[stack[-1]] = 'done'\n",
    "    stack.pop()"
   ]
  },
  {
   "cell_type": "code",
   "execution_count": 15,
   "metadata": {
    "collapsed": false
   },
   "outputs": [],
   "source": [
    "def find_cycles(graph):\n",
    "    n = len(graph)\n",
    "    visited = list()\n",
    "    for i in range(n):\n",
    "        visited.append('not_visited')\n",
    "\n",
    "    for v in range(n):\n",
    "        if visited[v] == 'not_visited':\n",
    "            stack = [v]\n",
    "            visited[v] = 'in_stack'\n",
    "            process_DFS_tree(graph, stack, visited)\n"
   ]
  },
  {
   "cell_type": "code",
   "execution_count": 16,
   "metadata": {
    "collapsed": false
   },
   "outputs": [
    {
     "name": "stdout",
     "output_type": "stream",
     "text": [
      "stack: [2, 180, 59]\n",
      "cycle: [180, 180, 59]\n"
     ]
    }
   ],
   "source": [
    "adj_list, index_list = build_adj_edge_graph(md_map)\n",
    "find_cycles(adj_list)"
   ]
  },
  {
   "cell_type": "code",
   "execution_count": 19,
   "metadata": {},
   "outputs": [
    {
     "name": "stdout",
     "output_type": "stream",
     "text": [
      "os posixpath\n"
     ]
    }
   ],
   "source": [
    "print(index_list[180], index_list[59])\n",
    "\n",
    "# print(index_list[6])\n",
    "# print(index_list[165])\n",
    "# print(index_list[53])\n",
    "# print(index_list[12])\n",
    "# print(index_list[6])"
   ]
  },
  {
   "cell_type": "code",
   "execution_count": 18,
   "metadata": {},
   "outputs": [],
   "source": [
    "import mailbox\n",
    "import os\n",
    "import posixpath\n",
    "import xmlrpc\n",
    "\n",
    "import zipimport\n",
    "import importlib"
   ]
  }
 ],
 "metadata": {
  "kernelspec": {
   "display_name": "Python 3.10.8 ('venv': venv)",
   "language": "python",
   "name": "python3"
  },
  "language_info": {
   "codemirror_mode": {
    "name": "ipython",
    "version": 3
   },
   "file_extension": ".py",
   "mimetype": "text/x-python",
   "name": "python",
   "nbconvert_exporter": "python",
   "pygments_lexer": "ipython3",
   "version": "3.8.10"
  },
  "vscode": {
   "interpreter": {
    "hash": "a985f189663a134de94bb9d0f615e24b14bf04b454e80b359d55a2d15f13cc23"
   }
  }
 },
 "nbformat": 4,
 "nbformat_minor": 0
}
