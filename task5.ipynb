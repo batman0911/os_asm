{
 "cells": [
  {
   "cell_type": "code",
   "execution_count": 16,
   "metadata": {
    "collapsed": true
   },
   "outputs": [],
   "source": [
    "import enum\n",
    "\n",
    "import isort\n",
    "import sys\n",
    "import platform\n",
    "import importlib\n",
    "from types import ModuleType\n",
    "import inspect"
   ]
  },
  {
   "cell_type": "code",
   "execution_count": 17,
   "outputs": [],
   "source": [
    "def get_stdlib_packages():\n",
    "    if sys.version_info.minor == 10:\n",
    "        module_names = sys.stdlib_module_names\n",
    "    else:\n",
    "        module_names = isort.stdlibs.py38.stdlib\n",
    "\n",
    "    external_packages = list()\n",
    "    for name in module_names:\n",
    "        if name[0] == '_' or name == 'this' or name == 'antigravity':\n",
    "            continue\n",
    "        external_packages.append(name)\n",
    "    return external_packages\n",
    "\n",
    "def get_real_packages(package_names):\n",
    "    real_modules = list()\n",
    "    not_importable_modules = list()\n",
    "    for name in package_names:\n",
    "        try:\n",
    "            importlib.import_module(name)\n",
    "            real_modules.append(name)\n",
    "        except:\n",
    "            not_importable_modules.append(name)\n",
    "    return real_modules, not_importable_modules\n",
    "\n",
    "\n",
    "def get_real():\n",
    "    external_packages = get_stdlib_packages()\n",
    "    return get_real_packages(external_packages)"
   ],
   "metadata": {
    "collapsed": false
   }
  },
  {
   "cell_type": "code",
   "execution_count": 18,
   "outputs": [],
   "source": [
    "def module_dependency(module_names, name):\n",
    "    if name not in module_names:\n",
    "        raise Exception(f'{name} is not importable module')\n",
    "    dp_names = list()\n",
    "\n",
    "    # try:\n",
    "    #     importlib.import_module(name)\n",
    "    # except:\n",
    "    #     print(f'err name: {name}')\n",
    "    for key, val in vars(sys.modules[name]).items():\n",
    "        if isinstance(val, ModuleType):\n",
    "            md_name = val.__name__\n",
    "\n",
    "            try:\n",
    "                index = md_name.index(\".\")\n",
    "                md_name = md_name[0:index]\n",
    "            except:\n",
    "                pass\n",
    "\n",
    "            dp_names.append(md_name)\n",
    "            # print(f'key: {key}, type: {type(val)}, val: {md_name}, module: {md_name}')\n",
    "\n",
    "    return dp_names"
   ],
   "metadata": {
    "collapsed": false
   }
  },
  {
   "cell_type": "code",
   "execution_count": 19,
   "outputs": [
    {
     "name": "stdout",
     "output_type": "stream",
     "text": [
      "['subprocess', 'sqlite3', 'smtplib', 'xdrlib', 'code', 'copyreg', 'wave', 'ast', 'calendar', 'nntplib', 'uuid', 'mimetypes', 'string', 'abc', 'pathlib', 'zipimport', 'cgitb', 'shutil', 'cmath', 'getpass', 'grp', 'shelve', 'platform', 'http', 'venv', 'formatter', 'random', 'cProfile', 'sched', 'pydoc', 'builtins', 'py_compile', 'fnmatch', 'hashlib', 'bisect', 'colorsys', 'imaplib', 'numbers', 'urllib', 'webbrowser', 'token', 'typing', 'array', 'fcntl', 'sys', 'io', 'stat', 'hmac', 'xmlrpc', 'xml', 'pickle', 'datetime', 'distutils', 'bdb', 'posix', 'posixpath', 'dbm', 'cmd', 'os', 'smtpd', 'mailcap', 'profile', 'reprlib', 'asyncore', 'base64', 'types', 'ipaddress', 'email', 'trace', 'collections', 'site', 'tty', 'importlib', 'concurrent', 'linecache', 'pyclbr', 'zlib', 'resource', 'compileall', 'contextvars', 'logging', 'mmap', 'pkgutil', 'socketserver', 'aifc', 'codeop', 'chunk', 'wsgiref', 'runpy', 'pty', 'faulthandler', 'ctypes', 'heapq', 'dummy_threading', 'imghdr', 'imp', 'inspect', 'stringprep', 'poplib', 'locale', 'pstats', 'copy', 'mailbox', 'asyncio', 'queue', 'unicodedata', 'json', 'fileinput', 'functools', 'optparse', 'selectors', 'asynchat', 'atexit', 'quopri', 'pprint', 'select', 'modulefinder', 'unittest', 'telnetlib', 'warnings', 'weakref', 'test', 'nis', 'pwd', 'difflib', 'ssl', 'marshal', 'syslog', 'uu', 'signal', 'ftplib', 'gzip', 're', 'dis', 'traceback', 'plistlib', 'tabnanny', 'sre_parse', 'gc', 'time', 'lib2to3', 'getopt', 'codecs', 'audioop', 'decimal', 'dataclasses', 'gettext', 'pdb', 'sre_constants', 'bz2', 'doctest', 'tracemalloc', 'contextlib', 'parser', 'pickletools', 'filecmp', 'csv', 'math', 'lzma', 'sndhdr', 'struct', 'tokenize', 'configparser', 'threading', 'curses', 'multiprocessing', 'spwd', 'pipes', 'rlcompleter', 'glob', 'statistics', 'encodings', 'fractions', 'netrc', 'ossaudiodev', 'zipfile', 'symbol', 'binascii', 'errno', 'itertools', 'binhex', 'sre_compile', 'sysconfig', 'cgi', 'argparse', 'keyword', 'html', 'ntpath', 'tempfile', 'timeit', 'crypt', 'socket', 'readline', 'symtable', 'tarfile', 'textwrap', 'secrets', 'operator', 'enum', 'termios', 'zipapp', 'shlex', 'sunau']\n"
     ]
    }
   ],
   "source": [
    "real_modules, _ = get_real()\n",
    "print(real_modules)"
   ],
   "metadata": {
    "collapsed": false
   }
  },
  {
   "cell_type": "code",
   "execution_count": 20,
   "outputs": [
    {
     "name": "stdout",
     "output_type": "stream",
     "text": [
      "['fnmatch', 'functools', 'io', 'ntpath', 'os', 'posixpath', 're', 'sys']\n"
     ]
    }
   ],
   "source": [
    "import pathlib\n",
    "\n",
    "dp_names = module_dependency(real_modules, 'pathlib')\n",
    "print(dp_names)"
   ],
   "metadata": {
    "collapsed": false
   }
  },
  {
   "cell_type": "code",
   "execution_count": 21,
   "outputs": [],
   "source": [
    "# import sys\n",
    "# sys.setrecursionlimit(50000)\n",
    "#\n",
    "# def dependency_graph(modules, ad_mtrx, original_modules, count):\n",
    "#     count = count + 1\n",
    "#     if count % 10 == 0:\n",
    "#         print(f'count: {count}')\n",
    "#     for md in modules:\n",
    "#         try:\n",
    "#             dp_names = module_dependency(original_modules, md)\n",
    "#         except:\n",
    "#             print(f'{md} is not in stdlib')\n",
    "#             continue\n",
    "#\n",
    "#         for name in dp_names:\n",
    "#             try:\n",
    "#                 i = original_modules.index(md)\n",
    "#                 j = original_modules.index(name)\n",
    "#                 ad_mtrx[i][j] = 1\n",
    "#             except:\n",
    "#                 print(f'md: {md}, name: {name} is not in stdlib')\n",
    "#                 continue\n",
    "#\n",
    "#         dependency_graph(dp_names, ad_mtrx, original_modules, count)\n",
    "#\n",
    "# n = len(real_modules)\n",
    "# ad_mtrx = [[0 for x in range(n)] for y in range(n)]\n",
    "# dependency_graph(real_modules, ad_mtrx, real_modules, 0)\n",
    "# print(ad_mtrx)"
   ],
   "metadata": {
    "collapsed": false
   }
  },
  {
   "cell_type": "code",
   "execution_count": 22,
   "outputs": [
    {
     "name": "stdout",
     "output_type": "stream",
     "text": [
      "['abc', 'sys', 'stat', 'posixpath']\n"
     ]
    }
   ],
   "source": [
    "dp = module_dependency(real_modules, 'os')\n",
    "print(dp)"
   ],
   "metadata": {
    "collapsed": false
   }
  },
  {
   "cell_type": "code",
   "execution_count": 23,
   "outputs": [
    {
     "name": "stdout",
     "output_type": "stream",
     "text": [
      "{'subprocess': ['builtins', 'errno', 'io', 'os', 'time', 'signal', 'sys', 'threading', 'warnings', 'contextlib', '_posixsubprocess', 'select', 'selectors'], 'sqlite3': ['sqlite3', 'datetime', 'time', 'collections'], 'smtplib': ['socket', 'io', 're', 'email', 'base64', 'hmac', 'copy', 'datetime', 'sys', 'ssl'], 'xdrlib': ['struct'], 'code': ['sys', 'traceback'], 'copyreg': [], 'wave': ['builtins', 'audioop', 'struct', 'sys', 'warnings'], 'ast': [], 'calendar': ['sys', 'datetime', 'locale'], 'nntplib': ['re', 'socket', 'collections', 'datetime', 'warnings', 'sys', 'ssl'], 'uuid': ['os', 'sys', 'platform', '_uuid'], 'mimetypes': ['os', 'sys', 'posixpath', 'urllib'], 'string': ['_string', 're'], 'abc': [], 'pathlib': ['fnmatch', 'functools', 'io', 'ntpath', 'os', 'posixpath', 're', 'sys'], 'zipimport': ['importlib', 'importlib', '_imp', 'io', 'marshal', 'sys', 'time'], 'cgitb': ['inspect', 'keyword', 'linecache', 'os', 'pydoc', 'sys', 'tempfile', 'time', 'tokenize', 'traceback'], 'shutil': ['os', 'sys', 'stat', 'fnmatch', 'collections', 'errno', 'posix'], 'cmath': [], 'getpass': ['contextlib', 'io', 'os', 'sys', 'warnings', 'termios'], 'grp': [], 'shelve': ['collections'], 'platform': ['collections', 'os', 're', 'sys'], 'http': ['http', 'http'], 'venv': ['logging', 'os', 'shutil', 'subprocess', 'sys', 'sysconfig', 'types'], 'formatter': ['sys', 'warnings'], 'random': ['os', '_random'], 'cProfile': ['_lsprof', 'profile'], 'sched': ['time', 'heapq', 'threading'], 'pydoc': ['builtins', 'importlib', 'inspect', 'io', 'os', 'pkgutil', 'platform', 're', 'sys', 'sysconfig', 'time', 'tokenize', 'urllib', 'warnings'], 'builtins': [], 'py_compile': ['enum', 'importlib', 'os', 'sys', 'traceback'], 'fnmatch': ['os', 'posixpath', 're', 'functools'], 'hashlib': ['_hashlib'], 'bisect': [], 'colorsys': [], 'imaplib': ['binascii', 'errno', 'random', 're', 'socket', 'subprocess', 'sys', 'time', 'calendar', 'ssl'], 'numbers': [], 'urllib': ['urllib', 'urllib', 'urllib', 'urllib'], 'webbrowser': ['os', 'shlex', 'shutil', 'sys', 'subprocess', 'threading'], 'token': [], 'typing': ['collections', 'contextlib', 'functools', 'operator', 're', 'sys', 'types'], 'array': [], 'fcntl': [], 'sys': [], 'io': ['io', 'abc'], 'stat': [], 'hmac': ['warnings', '_hashlib', 'hashlib'], 'xmlrpc': ['xmlrpc', 'xmlrpc'], 'xml': ['xml', 'xml'], 'pickle': ['sys', 're', 'io', 'codecs', '_compat_pickle'], 'datetime': ['sys'], 'distutils': ['sys'], 'bdb': ['fnmatch', 'sys', 'os'], 'posix': [], 'posixpath': ['os', 'sys', 'stat', 'genericpath'], 'dbm': ['io', 'os', 'struct', 'sys', 'dbm'], 'cmd': ['string', 'sys'], 'os': ['abc', 'sys', 'stat', 'posixpath'], 'smtpd': ['sys', 'os', 'errno', 'getopt', 'time', 'socket', 'asyncore', 'asynchat', 'collections'], 'mailcap': ['os', 'warnings', 're'], 'profile': ['sys', 'time', 'marshal'], 'reprlib': ['builtins'], 'asyncore': ['select', 'socket', 'sys', 'time', 'warnings', 'os'], 'base64': ['re', 'struct', 'binascii'], 'types': [], 'ipaddress': ['functools'], 'email': ['email', 'email', 'email', 'email', 'email', 'email', 'email', 'email', 'email', 'email', 'email', 'email', 'email', 'email', 'email', 'email'], 'trace': ['linecache', 'os', 'sys', 'sysconfig', 'token', 'tokenize', 'inspect', 'gc', 'dis', 'pickle', 'threading'], 'collections': ['collections', 'sys', 'heapq', 'collections'], 'site': ['sys', 'os', 'builtins', '_sitebuiltins', 'io'], 'tty': [], 'importlib': ['_imp', 'sys', 'importlib', 'importlib', 'types', 'warnings', 'importlib', 'importlib', 'importlib'], 'concurrent': ['concurrent'], 'linecache': ['functools', 'sys', 'os', 'tokenize'], 'pyclbr': ['io', 'sys', 'importlib', 'tokenize'], 'zlib': [], 'resource': [], 'compileall': ['os', 'sys', 'importlib', 'py_compile', 'struct'], 'contextvars': [], 'logging': ['sys', 'os', 'time', 'io', 're', 'traceback', 'warnings', 'weakref', 'collections', 'threading', 'atexit', 'logging', 'logging'], 'mmap': [], 'pkgutil': ['importlib', 'os', 'sys', 'warnings', 'zipimport'], 'socketserver': ['socket', 'selectors', 'os', 'sys', 'threading'], 'aifc': ['struct', 'builtins', 'warnings'], 'codeop': ['__future__', 'warnings'], 'chunk': [], 'wsgiref': [], 'runpy': ['sys', 'importlib', 'io', 'types', 'os'], 'pty': ['os', 'sys', 'tty'], 'faulthandler': [], 'ctypes': ['os', 'sys', 'ctypes'], 'heapq': [], 'dummy_threading': ['threading'], 'imghdr': [], 'imp': ['importlib', 'importlib', 'importlib', 'os', 'sys', 'tokenize', 'types', 'warnings'], 'inspect': ['abc', 'dis', 'collections', 'enum', 'importlib', 'itertools', 'linecache', 'os', 're', 'sys', 'tokenize', 'token', 'types', 'warnings', 'functools', 'builtins'], 'stringprep': [], 'poplib': ['errno', 're', 'socket', 'sys', 'ssl'], 'locale': ['sys', 'encodings', 're', 'collections', 'functools'], 'pstats': ['sys', 'os', 'time', 'marshal', 're'], 'copy': [], 'mailbox': ['os', 'time', 'calendar', 'socket', 'errno', 'copy', 'warnings', 'email', 'io', 'contextlib', 'fcntl'], 'asyncio': ['sys', 'asyncio', 'asyncio', 'asyncio', 'asyncio', 'asyncio', 'asyncio', 'asyncio', 'asyncio', 'asyncio', 'asyncio', 'asyncio', 'asyncio', 'asyncio', 'asyncio', 'asyncio', 'asyncio', 'asyncio', 'asyncio', 'asyncio', 'asyncio', 'asyncio', 'asyncio', 'asyncio', 'asyncio'], 'queue': ['threading'], 'unicodedata': [], 'json': ['json', 'json', 'json', 'codecs'], 'fileinput': ['sys', 'os'], 'functools': [], 'optparse': ['sys', 'os', 'textwrap'], 'selectors': ['math', 'select', 'sys'], 'asynchat': ['asyncore'], 'atexit': [], 'quopri': [], 'pprint': ['collections', 're', 'sys', 'types'], 'select': [], 'modulefinder': ['dis', 'importlib', 'marshal', 'os', 'io', 'sys', 'types', 'warnings'], 'unittest': ['unittest', 'unittest', 'unittest', 'unittest', 'unittest', 'unittest', 'unittest', 'unittest'], 'telnetlib': ['sys', 'socket', 'selectors'], 'warnings': ['sys'], 'weakref': ['collections', 'sys', 'itertools'], 'test': [], 'nis': [], 'pwd': [], 'difflib': [], 'ssl': ['sys', 'os', '_ssl', 'socket', 'base64', 'errno', 'warnings'], 'marshal': [], 'syslog': [], 'uu': ['binascii', 'os', 'sys'], 'signal': ['_signal'], 'ftplib': ['sys', 'socket', 'ssl'], 'gzip': ['struct', 'sys', 'time', 'os', 'zlib', 'builtins', 'io', '_compression'], 're': ['enum', 'sre_compile', 'sre_parse', 'functools', '_locale', 'copyreg'], 'dis': ['sys', 'types', 'collections', 'io'], 'traceback': ['collections', 'itertools', 'linecache', 'sys'], 'plistlib': ['binascii', 'codecs', 'contextlib', 'datetime', 'enum', 'itertools', 'os', 're', 'struct'], 'tabnanny': ['os', 'sys', 'tokenize'], 'sre_parse': [], 'gc': [], 'time': [], 'lib2to3': [], 'getopt': ['os'], 'codecs': ['builtins', 'sys'], 'audioop': [], 'decimal': [], 'dataclasses': ['re', 'sys', 'copy', 'types', 'inspect', 'keyword', 'builtins', 'functools', '_thread'], 'gettext': ['locale', 'os', 're', 'sys'], 'pdb': ['os', 'io', 're', 'sys', 'cmd', 'bdb', 'dis', 'code', 'glob', 'pprint', 'signal', 'inspect', 'tokenize', 'traceback', 'linecache'], 'sre_constants': [], 'bz2': ['io', 'os', 'warnings', '_compression'], 'doctest': ['__future__', 'difflib', 'inspect', 'linecache', 'os', 'pdb', 're', 'sys', 'traceback', 'unittest'], 'tracemalloc': ['fnmatch', 'linecache', 'os', 'pickle'], 'contextlib': ['abc', 'sys', 'collections'], 'parser': [], 'pickletools': ['codecs', 'io', 'pickle', 're', 'sys'], 'filecmp': ['os', 'stat'], 'csv': ['re'], 'math': [], 'lzma': ['builtins', 'io', 'os', '_compression'], 'sndhdr': [], 'struct': [], 'tokenize': ['collections', 'itertools', 're', 'sys'], 'configparser': ['functools', 'io', 'itertools', 'os', 're', 'sys', 'warnings'], 'threading': ['os', 'sys'], 'curses': ['os', 'sys'], 'multiprocessing': ['sys', 'multiprocessing', 'multiprocessing', 'multiprocessing', 'multiprocessing'], 'spwd': [], 'pipes': ['re', 'os', 'tempfile'], 'rlcompleter': ['atexit', 'builtins', '__main__', 'readline'], 'glob': ['os', 're', 'fnmatch', 'sys'], 'statistics': ['math', 'numbers', 'random'], 'encodings': ['codecs', 'sys', 'encodings', 'encodings', 'encodings', 'encodings', 'encodings'], 'fractions': ['math', 'numbers', 'operator', 're', 'sys'], 'netrc': ['os', 'shlex', 'stat'], 'ossaudiodev': [], 'zipfile': ['binascii', 'functools', 'importlib', 'io', 'itertools', 'os', 'posixpath', 'shutil', 'stat', 'struct', 'sys', 'threading', 'time', 'contextlib', 'zlib', 'bz2', 'lzma'], 'symbol': [], 'binascii': [], 'errno': [], 'itertools': [], 'binhex': ['io', 'os', 'struct', 'binascii'], 'sre_compile': ['_sre', 'sre_parse'], 'sysconfig': ['os', 'sys'], 'cgi': ['sys', 'os', 'urllib', 'html', 'locale', 'tempfile'], 'argparse': ['os', 're', 'sys'], 'keyword': [], 'html': ['re', 'html'], 'ntpath': ['os', 'sys', 'stat', 'genericpath'], 'tempfile': ['functools', 'warnings', 'io', 'os', 'shutil', 'errno', 'sys', 'weakref', '_thread'], 'timeit': ['gc', 'sys', 'time', 'itertools'], 'crypt': ['sys', '_crypt', 'string'], 'socket': ['_socket', 'os', 'sys', 'io', 'selectors', 'errno'], 'readline': [], 'symtable': ['_symtable', 'weakref'], 'tarfile': ['sys', 'os', 'io', 'shutil', 'stat', 'time', 'struct', 'copy', 're', 'pwd', 'grp'], 'textwrap': ['re'], 'secrets': ['base64', 'binascii', 'os'], 'operator': [], 'enum': ['sys'], 'termios': [], 'zipapp': ['contextlib', 'os', 'pathlib', 'shutil', 'stat', 'sys', 'zipfile'], 'shlex': ['os', 're', 'sys'], 'sunau': ['warnings']}\n"
     ]
    }
   ],
   "source": [
    "def module_dependency_map(modules):\n",
    "    md_map = dict()\n",
    "    for md in modules:\n",
    "        md_map[md] = module_dependency(modules, md)\n",
    "    return md_map\n",
    "\n",
    "md_map = module_dependency_map(real_modules)\n",
    "print(md_map)"
   ],
   "metadata": {
    "collapsed": false
   }
  },
  {
   "cell_type": "code",
   "execution_count": 29,
   "outputs": [
    {
     "name": "stdout",
     "output_type": "stream",
     "text": [
      "dp of locale ---------\n",
      "['sys', 'collections', 'functools', 're', 'encodings']\n"
     ]
    }
   ],
   "source": [
    "def build_dependency_graph(md_map):\n",
    "    index_list = list()\n",
    "\n",
    "    for k, v in md_map.items():\n",
    "        index_list.append(k)\n",
    "\n",
    "    n = len(index_list)\n",
    "    ad_mtrx = [[0 for x in range(n)] for y in range(n)]\n",
    "\n",
    "    for md in index_list:\n",
    "        for name in md_map[md]:\n",
    "            try:\n",
    "                i = index_list.index(md)\n",
    "                j = index_list.index(name)\n",
    "                ad_mtrx[i][j] = 1\n",
    "            except:\n",
    "                continue\n",
    "\n",
    "    return index_list, ad_mtrx\n",
    "\n",
    "\n",
    "index_list, ad_mtrx = build_dependency_graph(md_map)\n",
    "# print(f'index list: {index_list}')\n",
    "# print(f'ad_mtrx: {ad_mtrx}')\n",
    "\n",
    "i = index_list.index('locale')\n",
    "print(f'dp of locale ---------')\n",
    "dp_list = list()\n",
    "for j in range(len(index_list)):\n",
    "    if ad_mtrx[i][j] == 1:\n",
    "        dp_list.append(index_list[j])\n",
    "print(dp_list)"
   ],
   "metadata": {
    "collapsed": false
   }
  },
  {
   "cell_type": "code",
   "execution_count": 30,
   "outputs": [
    {
     "name": "stdout",
     "output_type": "stream",
     "text": [
      "['sys', 'encodings', 're', 'collections', 'functools']\n"
     ]
    }
   ],
   "source": [
    "dp = module_dependency(real_modules, 'locale')\n",
    "print(dp)"
   ],
   "metadata": {
    "collapsed": false
   }
  }
 ],
 "metadata": {
  "kernelspec": {
   "display_name": "Python 3",
   "language": "python",
   "name": "python3"
  },
  "language_info": {
   "codemirror_mode": {
    "name": "ipython",
    "version": 2
   },
   "file_extension": ".py",
   "mimetype": "text/x-python",
   "name": "python",
   "nbconvert_exporter": "python",
   "pygments_lexer": "ipython2",
   "version": "2.7.6"
  }
 },
 "nbformat": 4,
 "nbformat_minor": 0
}
