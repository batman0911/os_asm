{
 "cells": [
  {
   "cell_type": "code",
   "execution_count": 1,
   "metadata": {},
   "outputs": [],
   "source": [
    "import main as lib\n",
    "import readline\n",
    "import os"
   ]
  },
  {
   "cell_type": "code",
   "execution_count": 3,
   "metadata": {},
   "outputs": [
    {
     "name": "stdout",
     "output_type": "stream",
     "text": [
      "(4397, 49, True)\n"
     ]
    }
   ],
   "source": [
    "real_modules, _ = lib.get_real()\n",
    "\n",
    "r = lib.explore_package('urllib')\n",
    "\n",
    "print(r)\n",
    "\n",
    "# print(real_modules)\n",
    "\n",
    "# print(real_modules.index('ast'))"
   ]
  },
  {
   "cell_type": "code",
   "execution_count": 4,
   "metadata": {},
   "outputs": [],
   "source": [
    "real_modules, _ = lib.get_real()"
   ]
  },
  {
   "cell_type": "code",
   "execution_count": null,
   "metadata": {},
   "outputs": [],
   "source": [
    "def build_module_info_dict(module_names):\n",
    "    md_dict = dict()\n",
    "    for md in module_names:\n",
    "        md_lines, md_classes, is_python_code = lib.explore_package(md)\n",
    "        md_dict[md] = lib.explore_package(md)\n",
    "    \n",
    "    return md_dict\n",
    "\n",
    "md_dict = build_module_info_dict(real_modules)\n",
    "print(md_dict)"
   ]
  },
  {
   "cell_type": "code",
   "execution_count": null,
   "metadata": {},
   "outputs": [],
   "source": [
    "import concurrent\n",
    "lib.explore_package('concurrent')"
   ]
  },
  {
   "cell_type": "code",
   "execution_count": null,
   "metadata": {},
   "outputs": [],
   "source": [
    "def modules_info_python_only(md_dict):\n",
    "    pmd = dict()\n",
    "    for k, v in md_dict.items():\n",
    "        if v[2]:\n",
    "            pmd[k] = (v[0], v[1])\n",
    "    return pmd\n",
    "\n",
    "pmd = modules_info_python_only(md_dict)\n",
    "print(pmd)"
   ]
  },
  {
   "cell_type": "code",
   "execution_count": 12,
   "metadata": {},
   "outputs": [
    {
     "name": "stdout",
     "output_type": "stream",
     "text": [
      "{'encodings': (32644, 597), 'email': (9680, 120), 'asyncio': (13025, 96), 'multiprocessing': (8187, 80), 'urllib': (4397, 49), 'unittest': (6480, 49)}\n"
     ]
    }
   ],
   "source": [
    "def get_custom_sorted_dict_by_value(m_dict, num, is_reverse):\n",
    "    sorted_dict = dict(sorted(m_dict.items(), key=lambda item: item[1][1], reverse=is_reverse))\n",
    "    i = 0\n",
    "    rd = dict()\n",
    "    for k, v in sorted_dict.items():\n",
    "        if i > num:\n",
    "            break\n",
    "        rd[k] = v\n",
    "        i = i + 1\n",
    "    return rd\n",
    "\n",
    "s = get_custom_sorted_dict_by_value(pmd, 5, True)\n",
    "print(s)"
   ]
  },
  {
   "cell_type": "code",
   "execution_count": 18,
   "metadata": {},
   "outputs": [
    {
     "name": "stdout",
     "output_type": "stream",
     "text": [
      "/usr/lib/python3.8/concurrent\n",
      "['__pycache__', 'futures']\n",
      "['__init__.py']\n",
      "--------------------------------\n",
      "/usr/lib/python3.8/concurrent/__pycache__\n",
      "[]\n",
      "['__init__.cpython-38.pyc']\n",
      "--------------------------------\n",
      "/usr/lib/python3.8/concurrent/futures\n",
      "['__pycache__']\n",
      "['__init__.py', 'process.py', '_base.py', 'thread.py']\n",
      "--------------------------------\n",
      "/usr/lib/python3.8/concurrent/futures/__pycache__\n",
      "[]\n",
      "['_base.cpython-38.pyc', '__init__.cpython-38.pyc', 'thread.cpython-38.pyc', 'process.cpython-38.pyc']\n",
      "--------------------------------\n"
     ]
    }
   ],
   "source": [
    "for (root, dirs, files) in os.walk('/usr/lib/python3.8/concurrent', topdown=True):\n",
    "    print (root)\n",
    "    print (dirs)\n",
    "    print (files)\n",
    "    print ('--------------------------------')"
   ]
  },
  {
   "cell_type": "code",
   "execution_count": 20,
   "metadata": {},
   "outputs": [
    {
     "data": {
      "text/plain": [
       "'concurrent'"
      ]
     },
     "execution_count": 20,
     "metadata": {},
     "output_type": "execute_result"
    }
   ],
   "source": [
    "os.path.basename('/usr/lib/python3.8/concurrent')"
   ]
  },
  {
   "cell_type": "code",
   "execution_count": null,
   "metadata": {},
   "outputs": [],
   "source": [
    "import ast\n",
    "\n",
    "def show_info(functionNode):\n",
    "    print(\"Function name:\", functionNode.name)\n",
    "    print(\"Args:\")\n",
    "    for arg in functionNode.args.args:\n",
    "        #import pdb; pdb.set_trace()\n",
    "        print(\"\\tParameter name:\", arg.arg)\n",
    "\n",
    "\n",
    "filename = \"/usr/lib/python3.8/urllib/error.py\"\n",
    "with open(filename) as file:\n",
    "    node = ast.parse(file.read())\n",
    "\n",
    "functions = [n for n in node.body if isinstance(n, ast.FunctionDef)]\n",
    "classes = [n for n in node.body if isinstance(n, ast.ClassDef)]\n",
    "\n",
    "for function in functions:\n",
    "    show_info(function)\n",
    "\n",
    "for class_ in classes:\n",
    "    print(\"Class name:\", class_.name)\n",
    "    methods = [n for n in class_.body if isinstance(n, ast.FunctionDef)]\n",
    "    for method in methods:\n",
    "        show_info(method)"
   ]
  },
  {
   "cell_type": "code",
   "execution_count": 87,
   "metadata": {},
   "outputs": [
    {
     "name": "stdout",
     "output_type": "stream",
     "text": [
      "urllib\n",
      "/usr/lib/python3.8/urllib/__init__.py\n",
      "0\n"
     ]
    }
   ],
   "source": [
    "p, f, t = lib.explore_package('urllib')\n",
    "print(p)\n",
    "print(f)\n",
    "print(t)"
   ]
  },
  {
   "cell_type": "code",
   "execution_count": null,
   "metadata": {},
   "outputs": [],
   "source": [
    "def module_class_count(module_names):\n",
    "    md_class_dict = dict()\n",
    "    for md in module_names:\n",
    "        p, f, t = lib.explore_package(md)\n",
    "        if t != 0:\n",
    "            continue\n",
    "\n",
    "        module_dir, md_type, file_list = list_file_in_module(md)\n",
    "        count = 0\n",
    "\n",
    "        if md_type == 0:\n",
    "            count = count + file_class_count(module_dir)\n",
    "        else:\n",
    "            for file_name in file_list:\n",
    "                file_path = os.path.join(module_dir, file_name + '.py')\n",
    "                count = count + file_class_count(file_path)\n",
    "\n",
    "        # print(f'module {md} has {count} classes')\n",
    "        md_class_dict[md] = count\n",
    "        \n",
    "    return md_class_dict\n",
    "\n",
    "\n",
    "md_dict = module_class_count(real_modules)\n",
    "print(md_dict)\n",
    "            "
   ]
  },
  {
   "cell_type": "code",
   "execution_count": null,
   "metadata": {},
   "outputs": [],
   "source": [
    "import contextvars"
   ]
  }
 ],
 "metadata": {
  "kernelspec": {
   "display_name": "Python 3.8.10 ('venv': venv)",
   "language": "python",
   "name": "python3"
  },
  "language_info": {
   "codemirror_mode": {
    "name": "ipython",
    "version": 3
   },
   "file_extension": ".py",
   "mimetype": "text/x-python",
   "name": "python",
   "nbconvert_exporter": "python",
   "pygments_lexer": "ipython3",
   "version": "3.8.10"
  },
  "orig_nbformat": 4,
  "vscode": {
   "interpreter": {
    "hash": "a985f189663a134de94bb9d0f615e24b14bf04b454e80b359d55a2d15f13cc23"
   }
  }
 },
 "nbformat": 4,
 "nbformat_minor": 2
}
