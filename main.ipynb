{
 "cells": [
  {
   "cell_type": "code",
   "execution_count": 1,
   "metadata": {
    "collapsed": true
   },
   "outputs": [],
   "source": [
    "import isort\n",
    "import sys\n",
    "import platform\n",
    "import importlib\n",
    "from types import ModuleType"
   ]
  },
  {
   "cell_type": "code",
   "execution_count": 2,
   "outputs": [],
   "source": [
    "# module_names = isort.stdlibs.py38.stdlib"
   ],
   "metadata": {
    "collapsed": false
   }
  },
  {
   "cell_type": "code",
   "execution_count": 3,
   "outputs": [],
   "source": [
    "def get_stdlib_packages():\n",
    "    if sys.version_info.minor == 10:\n",
    "        module_names = sys.stdlib_module_names\n",
    "    else:\n",
    "        module_names = isort.stdlibs.py38.stdlib\n",
    "\n",
    "    external_packages = set()\n",
    "    for name in module_names:\n",
    "        if name[0] == '_' or name == 'this' or name == 'antigravity':\n",
    "            continue\n",
    "        external_packages.add(name)\n",
    "    return external_packages"
   ],
   "metadata": {
    "collapsed": false
   }
  },
  {
   "cell_type": "code",
   "execution_count": 4,
   "outputs": [],
   "source": [
    "def task1():\n",
    "    external_packages = get_stdlib_packages()\n",
    "    v = sys.version_info\n",
    "    print(f'Python {v.major}.{v.minor}.{v.micro} on {platform.system()} {platform.release()}')\n",
    "    print(f'Stdlib contains {len(external_packages)} external modules and packages: ')\n",
    "    print(external_packages)"
   ],
   "metadata": {
    "collapsed": false
   }
  },
  {
   "cell_type": "code",
   "execution_count": 5,
   "outputs": [
    {
     "name": "stdout",
     "output_type": "stream",
     "text": [
      "Python 3.8.10 on Linux 5.15.0-50-generic\n",
      "Stdlib contains 212 external modules and packages: \n",
      "{'stat', 'inspect', 'pyclbr', 'pickle', 'dummy_threading', 'queue', 'timeit', 'pipes', 'turtle', 'smtplib', 'textwrap', 'time', 'sndhdr', 'runpy', 'sunau', 'crypt', 'cmath', 'sqlite3', 'turtledemo', 'csv', 'functools', 'weakref', 'unicodedata', 'wave', 'zipimport', 'curses', 'ftplib', 'msilib', 'resource', 'encodings', 'io', 'tempfile', 'tokenize', 'quopri', 'types', 'bisect', 'imp', 'subprocess', 'urllib', 'winreg', 'xml', 'gc', 'enum', 'chunk', 'zipfile', 'pickletools', 'datetime', 'filecmp', 'ast', 'zipapp', 'dataclasses', 'statistics', 'errno', 'pstats', 'netrc', 'webbrowser', 'posixpath', 'tty', 'plistlib', 'tabnanny', 'contextlib', 'sre', 'bdb', 'dbm', 'argparse', 'select', 'site', 'copy', 'math', 'hmac', 'sys', 'uu', 'codeop', 'posix', 'copyreg', 'modulefinder', 'mailcap', 'nis', 'glob', 'signal', 'readline', 'fractions', 'multiprocessing', 'mimetypes', 'spwd', 'tkinter', 'contextvars', 'difflib', 'mmap', 'aifc', 'gettext', 'msvcrt', 'abc', 'itertools', 'sre_constants', 'asynchat', 'heapq', 'symbol', 'venv', 'profile', 'cmd', 'getopt', 'pydoc', 'cgitb', 'nntplib', 'struct', 'operator', 'grp', 'smtpd', 'ctypes', 'getpass', 'gzip', 'ipaddress', 'json', 'codecs', 'secrets', 'test', 'importlib', 'lib2to3', 'linecache', 'shlex', 'xmlrpc', 'reprlib', 'configparser', 'faulthandler', 'ssl', 'warnings', 'cProfile', 'compileall', 'dis', 'lzma', 'sched', 'xdrlib', 'symtable', 'stringprep', 'trace', 'syslog', 'fnmatch', 'sysconfig', 'cgi', 'marshal', 'sre_compile', 'string', 'pdb', 'bz2', 'ensurepip', 'concurrent', 'asyncio', 'ntpath', 'imghdr', 'telnetlib', 'pkgutil', 'formatter', 'poplib', 'numbers', 'binascii', 'locale', 'http', 're', 'optparse', 'fileinput', 'ossaudiodev', 'pathlib', 'binhex', 'audioop', 'py_compile', 'pwd', 'sre_parse', 'html', 'asyncore', 'termios', 'os', 'platform', 'builtins', 'wsgiref', 'hashlib', 'decimal', 'threading', 'unittest', 'array', 'email', 'zlib', 'logging', 'traceback', 'token', 'uuid', 'imaplib', 'rlcompleter', 'pty', 'shutil', 'pprint', 'tarfile', 'collections', 'random', 'socketserver', 'distutils', 'atexit', 'doctest', 'parser', 'code', 'calendar', 'winsound', 'tracemalloc', 'base64', 'fcntl', 'typing', 'shelve', 'socket', 'mailbox', 'selectors', 'colorsys', 'keyword'}\n"
     ]
    }
   ],
   "source": [
    "task1()"
   ],
   "metadata": {
    "collapsed": false
   }
  },
  {
   "cell_type": "code",
   "execution_count": 6,
   "outputs": [],
   "source": [
    "def get_real_packages(package_names):\n",
    "    real_modules = set()\n",
    "    not_importable_modules = set()\n",
    "    for name in package_names:\n",
    "        try:\n",
    "            importlib.import_module(name)\n",
    "            real_modules.add(name)\n",
    "            if name != 'importlib':\n",
    "                del sys.modules[name]\n",
    "        except:\n",
    "            not_importable_modules.add(name)\n",
    "    return real_modules, not_importable_modules"
   ],
   "metadata": {
    "collapsed": false
   }
  },
  {
   "cell_type": "code",
   "execution_count": 7,
   "outputs": [],
   "source": [
    "def get_real():\n",
    "    external_packages = get_stdlib_packages()\n",
    "    return get_real_packages(external_packages)"
   ],
   "metadata": {
    "collapsed": false
   }
  },
  {
   "cell_type": "code",
   "execution_count": 8,
   "outputs": [],
   "source": [
    "def task2():\n",
    "    v = sys.version_info\n",
    "    real_modules, not_importable_modules = get_real()\n",
    "    print(f'These StdLib packages on Python-{v.major}.{v.minor}.{v.micro}/{platform.system()} {platform.release()} '\n",
    "          f'are not importable:')\n",
    "    print(not_importable_modules)\n",
    "\n",
    "    # for name in real_modules:\n",
    "    #     del sys.modules[name]"
   ],
   "metadata": {
    "collapsed": false
   }
  },
  {
   "cell_type": "code",
   "execution_count": 9,
   "outputs": [
    {
     "name": "stdout",
     "output_type": "stream",
     "text": [
      "These StdLib packages on Python-3.8.10/Linux 5.15.0-50-generic are not importable:\n",
      "{'cgitb', 'smtpd', 'turtle', 'sre', 'unittest', 'turtledemo', 'imaplib', 'msilib', 'tarfile', 'ensurepip', 'winreg', 'doctest', 'winsound', 'tkinter', 'formatter', 'poplib', 'msvcrt', 'shelve', 'mailbox', 'optparse'}\n"
     ]
    }
   ],
   "source": [
    "task2()"
   ],
   "metadata": {
    "collapsed": false
   }
  },
  {
   "cell_type": "code",
   "execution_count": 10,
   "outputs": [],
   "source": [
    "def module_dependency(module_names, name):\n",
    "    if name not in module_names:\n",
    "        raise Exception(f'{name} is not importable module')\n",
    "    dp_names = set()\n",
    "\n",
    "    try:\n",
    "        importlib.import_module(name)\n",
    "    except:\n",
    "        print(f'err name: {name}')\n",
    "    for key, val in vars(sys.modules[name]).items():\n",
    "        if isinstance(val, ModuleType):\n",
    "            md_name = val.__name__\n",
    "\n",
    "            try:\n",
    "                index = md_name.index(\".\")\n",
    "                md_name = md_name[0:index]\n",
    "            except:\n",
    "                pass\n",
    "\n",
    "            dp_names.add(md_name)\n",
    "            # print(f'key: {key}, type: {type(val)}, val: {md_name}, module: {md_name}')\n",
    "\n",
    "    # del sys.modules[name]\n",
    "\n",
    "    return dp_names"
   ],
   "metadata": {
    "collapsed": false
   }
  },
  {
   "cell_type": "code",
   "execution_count": 11,
   "outputs": [],
   "source": [
    "def core_modules(real_modules):\n",
    "    # real_modules, _ = get_real()\n",
    "    core_module_names = set()\n",
    "    for r_name in real_modules:\n",
    "        dp_names = module_dependency(real_modules, r_name)\n",
    "        if len(dp_names) == 0:\n",
    "            core_module_names.add(r_name)\n",
    "\n",
    "    return core_module_names\n"
   ],
   "metadata": {
    "collapsed": false
   }
  },
  {
   "cell_type": "code",
   "execution_count": 12,
   "outputs": [],
   "source": [
    "def most_dependent_modules(real_modules):\n",
    "    dp_dict = dict((name, 0) for name in real_modules)\n",
    "    for md_name in real_modules:\n",
    "        count = len(module_dependency(real_modules, md_name))\n",
    "        dp_dict[md_name] = count\n",
    "\n",
    "    sorted_dp_dict = dict(sorted(dp_dict.items(), key=lambda item: item[1], reverse=True))\n",
    "    i = 0\n",
    "    most_dependent_module_names = dict()\n",
    "    for k, v in sorted_dp_dict.items():\n",
    "        if i > 5:\n",
    "            break\n",
    "        most_dependent_module_names[k] = v\n",
    "        i = i + 1\n",
    "\n",
    "    return most_dependent_module_names\n",
    "\n"
   ],
   "metadata": {
    "collapsed": false
   }
  },
  {
   "cell_type": "code",
   "execution_count": 13,
   "outputs": [],
   "source": [
    "def task3():\n",
    "    real_modules, not_importable_modules = get_real()\n",
    "\n",
    "    # re-import libs:\n",
    "    for r in real_modules:\n",
    "        pass\n",
    "\n",
    "    # print(f'real modules: {real_modules}')\n",
    "    core_module_names = core_modules(real_modules)\n",
    "\n",
    "    dp_dict = most_dependent_modules(real_modules)\n",
    "\n",
    "    print(f'The following StdLib packages are most dependent:')\n",
    "    for k, v in dp_dict.items():\n",
    "        print(f'{k}: {v}')\n",
    "    print(f'The {len(core_module_names)} core packages are:')\n",
    "    print(core_module_names)\n",
    "\n",
    "    # for name in real_modules:\n",
    "    #     del sys.modules[name]"
   ],
   "metadata": {
    "collapsed": false
   }
  },
  {
   "cell_type": "code",
   "execution_count": 14,
   "outputs": [
    {
     "name": "stdout",
     "output_type": "stream",
     "text": [
      "err name: inspect\n",
      "Unexpected exception formatting exception. Falling back to standard exception\n"
     ]
    },
    {
     "name": "stderr",
     "output_type": "stream",
     "text": [
      "Traceback (most recent call last):\n",
      "  File \"/home/linhnm/.local/lib/python3.8/site-packages/IPython/core/interactiveshell.py\", line 3398, in run_code\n",
      "    exec(code_obj, self.user_global_ns, self.user_ns)\n",
      "  File \"/tmp/ipykernel_202597/309355583.py\", line 1, in <cell line: 1>\n",
      "    task3()\n",
      "  File \"/tmp/ipykernel_202597/830394055.py\", line 4, in task3\n",
      "    core_module_names = core_modules(real_modules)\n",
      "  File \"/tmp/ipykernel_202597/3138469120.py\", line 5, in core_modules\n",
      "    dp_names = module_dependency(real_modules, r_name)\n",
      "  File \"/tmp/ipykernel_202597/758718900.py\", line 10, in module_dependency\n",
      "    for key, val in vars(sys.modules[name]).items():\n",
      "KeyError: 'inspect'\n",
      "\n",
      "During handling of the above exception, another exception occurred:\n",
      "\n",
      "Traceback (most recent call last):\n",
      "  File \"/home/linhnm/.local/lib/python3.8/site-packages/executing/executing.py\", line 312, in executing\n",
      "    args = executing_cache[key]\n",
      "KeyError: (<code object run_code at 0x7f663be71500, file \"/home/linhnm/.local/lib/python3.8/site-packages/IPython/core/interactiveshell.py\", line 3362>, 140077068391680, 74)\n",
      "\n",
      "During handling of the above exception, another exception occurred:\n",
      "\n",
      "Traceback (most recent call last):\n",
      "  File \"/home/linhnm/.local/lib/python3.8/site-packages/IPython/core/interactiveshell.py\", line 1993, in showtraceback\n",
      "    stb = self.InteractiveTB.structured_traceback(\n",
      "  File \"/home/linhnm/.local/lib/python3.8/site-packages/IPython/core/ultratb.py\", line 1118, in structured_traceback\n",
      "    return FormattedTB.structured_traceback(\n",
      "  File \"/home/linhnm/.local/lib/python3.8/site-packages/IPython/core/ultratb.py\", line 1012, in structured_traceback\n",
      "    return VerboseTB.structured_traceback(\n",
      "  File \"/home/linhnm/.local/lib/python3.8/site-packages/IPython/core/ultratb.py\", line 865, in structured_traceback\n",
      "    formatted_exception = self.format_exception_as_a_whole(etype, evalue, etb, number_of_lines_of_context,\n",
      "  File \"/home/linhnm/.local/lib/python3.8/site-packages/IPython/core/ultratb.py\", line 799, in format_exception_as_a_whole\n",
      "    self.get_records(etb, number_of_lines_of_context, tb_offset) if etb else []\n",
      "  File \"/home/linhnm/.local/lib/python3.8/site-packages/IPython/core/ultratb.py\", line 854, in get_records\n",
      "    return list(stack_data.FrameInfo.stack_data(etb, options=options))[tb_offset:]\n",
      "  File \"/home/linhnm/.local/lib/python3.8/site-packages/stack_data/core.py\", line 563, in stack_data\n",
      "    yield from collapse_repeated(\n",
      "  File \"/home/linhnm/.local/lib/python3.8/site-packages/stack_data/utils.py\", line 84, in collapse_repeated\n",
      "    yield from map(mapper, original_group)\n",
      "  File \"/home/linhnm/.local/lib/python3.8/site-packages/stack_data/core.py\", line 553, in mapper\n",
      "    return cls(f, options)\n",
      "  File \"/home/linhnm/.local/lib/python3.8/site-packages/stack_data/core.py\", line 518, in __init__\n",
      "    self.executing = Source.executing(frame_or_tb)\n",
      "  File \"/home/linhnm/.local/lib/python3.8/site-packages/executing/executing.py\", line 364, in executing\n",
      "    args = find(source=cls.for_frame(frame), retry_cache=True)\n",
      "  File \"/home/linhnm/.local/lib/python3.8/site-packages/executing/executing.py\", line 247, in for_frame\n",
      "    return cls.for_filename(frame.f_code.co_filename, frame.f_globals or {}, use_cache)\n",
      "  File \"/home/linhnm/.local/lib/python3.8/site-packages/executing/executing.py\", line 265, in for_filename\n",
      "    result = source_cache[filename] = cls._for_filename_and_lines(filename, lines)\n",
      "  File \"/home/linhnm/.local/lib/python3.8/site-packages/executing/executing.py\", line 276, in _for_filename_and_lines\n",
      "    result = source_cache[(filename, lines)] = cls(filename, lines)\n",
      "  File \"/home/linhnm/.local/lib/python3.8/site-packages/stack_data/core.py\", line 81, in __init__\n",
      "    self.asttokens()\n",
      "  File \"/home/linhnm/.local/lib/python3.8/site-packages/executing/executing.py\", line 408, in asttokens\n",
      "    return ASTTokens(\n",
      "  File \"/home/linhnm/.local/lib/python3.8/site-packages/asttokens/asttokens.py\", line 73, in __init__\n",
      "    self.mark_tokens(self._tree)\n",
      "  File \"/home/linhnm/.local/lib/python3.8/site-packages/asttokens/asttokens.py\", line 85, in mark_tokens\n",
      "    from .mark_tokens import MarkTokens # to avoid import loops\n",
      "  File \"/home/linhnm/.local/lib/python3.8/site-packages/asttokens/mark_tokens.py\", line 20, in <module>\n",
      "    from typing import Callable, List, Union, cast, Optional, Tuple, TYPE_CHECKING\n",
      "  File \"/usr/lib/python3.8/typing.py\", line 1438, in <module>\n",
      "    Hashable = _alias(collections.abc.Hashable, ())  # Not generic.\n",
      "  File \"/usr/lib/python3.8/collections/__init__.py\", line 55, in __getattr__\n",
      "    raise AttributeError(f'module {__name__!r} has no attribute {name!r}')\n",
      "AttributeError: module 'collections' has no attribute 'abc'\n"
     ]
    }
   ],
   "source": [
    "task3()"
   ],
   "metadata": {
    "collapsed": false
   }
  },
  {
   "cell_type": "code",
   "execution_count": null,
   "outputs": [],
   "source": [
    "def explore_package(package_name):\n",
    "    importlib.import_module(package_name)\n",
    "    pack = sys.modules[package_name]\n",
    "    file_name = 'builtin_binary'\n",
    "    try:\n",
    "        file_name = pack.__file__\n",
    "        n = len(file_name)\n",
    "        # print(file_name[n-3:n])\n",
    "        if file_name[n-3:n] == '.py':\n",
    "            # print(file_name)\n",
    "            return package_name, file_name, 0\n",
    "        elif file_name[n-3:n] == '.so':\n",
    "            # print(file_name)\n",
    "            return package_name, file_name, 1\n",
    "        else:\n",
    "            raise Exception(f'unsupported file: {file_name}')\n",
    "    except:\n",
    "        return package_name, file_name, 2\n",
    "\n",
    "p, f, r = explore_package('locale')\n",
    "print(r)"
   ],
   "metadata": {
    "collapsed": false
   }
  },
  {
   "cell_type": "code",
   "execution_count": null,
   "outputs": [],
   "source": [
    "real_modules, _ = get_real()\n",
    "\n",
    "for md in real_modules:\n",
    "    p, f, r = explore_package(md)\n",
    "    print(f'package name: {p}, file: {f}, type: {r}')"
   ],
   "metadata": {
    "collapsed": false
   }
  },
  {
   "cell_type": "code",
   "execution_count": null,
   "outputs": [],
   "source": [
    "import inspect\n",
    "import fileinput\n",
    "\n",
    "import sys\n",
    "\n",
    "real_modules, _ = get_real()\n",
    "\n",
    "print(real_modules)\n",
    "\n",
    "# for r in real_modules:\n",
    "#     importlib.import_module(r)\n",
    "#\n",
    "# # importlib.import_module('fileinput')\n",
    "# for name, obj in inspect.getmembers(fileinput):\n",
    "#         if inspect.isclass(obj):\n",
    "#             print(obj)"
   ],
   "metadata": {
    "collapsed": false
   }
  }
 ],
 "metadata": {
  "kernelspec": {
   "display_name": "Python 3",
   "language": "python",
   "name": "python3"
  },
  "language_info": {
   "codemirror_mode": {
    "name": "ipython",
    "version": 2
   },
   "file_extension": ".py",
   "mimetype": "text/x-python",
   "name": "python",
   "nbconvert_exporter": "python",
   "pygments_lexer": "ipython2",
   "version": "2.7.6"
  }
 },
 "nbformat": 4,
 "nbformat_minor": 0
}
