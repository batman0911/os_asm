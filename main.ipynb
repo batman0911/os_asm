{
 "cells": [
  {
   "cell_type": "code",
   "execution_count": 19,
   "metadata": {
    "collapsed": true
   },
   "outputs": [],
   "source": [
    "import enum\n",
    "\n",
    "import isort\n",
    "import sys\n",
    "import platform\n",
    "import importlib\n",
    "from types import ModuleType"
   ]
  },
  {
   "cell_type": "code",
   "execution_count": 20,
   "metadata": {
    "collapsed": false
   },
   "outputs": [],
   "source": [
    "# module_names = isort.stdlibs.py38.stdlib"
   ]
  },
  {
   "cell_type": "code",
   "execution_count": 21,
   "metadata": {
    "collapsed": false
   },
   "outputs": [],
   "source": [
    "def get_stdlib_packages():\n",
    "    if sys.version_info.minor == 10:\n",
    "        module_names = sys.stdlib_module_names\n",
    "    else:\n",
    "        module_names = isort.stdlibs.py38.stdlib\n",
    "\n",
    "    external_packages = set()\n",
    "    for name in module_names:\n",
    "        if name[0] == '_' or name == 'this' or name == 'antigravity':\n",
    "            continue\n",
    "        external_packages.add(name)\n",
    "    return external_packages"
   ]
  },
  {
   "cell_type": "code",
   "execution_count": 22,
   "metadata": {
    "collapsed": false
   },
   "outputs": [],
   "source": [
    "def task1():\n",
    "    external_packages = get_stdlib_packages()\n",
    "    v = sys.version_info\n",
    "    print(f'Python {v.major}.{v.minor}.{v.micro} on {platform.system()} {platform.release()}')\n",
    "    print(f'Stdlib contains {len(external_packages)} external modules and packages: ')\n",
    "    print(external_packages)"
   ]
  },
  {
   "cell_type": "code",
   "execution_count": 23,
   "metadata": {
    "collapsed": false
   },
   "outputs": [
    {
     "name": "stdout",
     "output_type": "stream",
     "text": [
      "Python 3.10.6 on Linux 5.15.0-48-generic\n",
      "Stdlib contains 215 external modules and packages: \n",
      "{'winreg', 're', 'ntpath', 'glob', 'argparse', 'types', 'codecs', 'mailcap', 'textwrap', 'smtpd', 'resource', 'dbm', 'pickletools', 'shelve', 'netrc', 'modulefinder', 'posix', 'syslog', 'lib2to3', 'enum', 'pydoc_data', 'wsgiref', 'shlex', 'sunau', 'audioop', 'cmd', 'ast', 'optparse', 'filecmp', 'configparser', 'random', 'decimal', 'fractions', 'runpy', 'selectors', 'string', 'imaplib', 'profile', 'gettext', 'xdrlib', 'xml', 'pty', 'binascii', 'nis', 'turtle', 'graphlib', 'builtins', 'sndhdr', 'itertools', 'faulthandler', 'pwd', 'dataclasses', 'difflib', 'pyclbr', 'uuid', 'tracemalloc', 'site', 'sre_constants', 'importlib', 'unicodedata', 'uu', 'sqlite3', 'codeop', 'math', 'bz2', 'queue', 'pprint', 'contextlib', 'copy', 'token', 'nt', 'reprlib', 'urllib', 'chunk', 'csv', 'tempfile', 'pdb', 'ensurepip', 'email', 'array', 'bisect', 'venv', 'tkinter', 'sre_compile', 'tokenize', 'socket', 'fcntl', 'opcode', 'copyreg', 'dis', 'platform', 'zipimport', 'pickle', 'ossaudiodev', 'locale', 'shutil', 'rlcompleter', 'collections', 'getpass', 'marshal', 'nturl2path', 'threading', 'imghdr', 'mimetypes', 'poplib', 'ipaddress', 'stat', 'heapq', 'linecache', 'plistlib', 'nntplib', 'pathlib', 'zipfile', 'encodings', 'subprocess', 'gc', 'fnmatch', 'ssl', 'functools', 'asyncore', 'json', 'distutils', 'operator', 'datetime', 'pydoc', 'hmac', 'pyexpat', 'atexit', 'zlib', 'winsound', 'colorsys', 'secrets', 'spwd', 'msilib', 'tabnanny', 'asynchat', 'smtplib', 'trace', 'cgitb', 'crypt', 'pipes', 'py_compile', 'curses', 'struct', 'sysconfig', 'typing', 'select', 'time', 'zoneinfo', 'inspect', 'sre_parse', 'webbrowser', 'xmlrpc', 'cgi', 'imp', 'warnings', 'sys', 'lzma', 'weakref', 'io', 'traceback', 'genericpath', 'grp', 'pstats', 'turtledemo', 'aifc', 'numbers', 'wave', 'readline', 'telnetlib', 'code', 'quopri', 'gzip', 'unittest', 'termios', 'mailbox', 'html', 'abc', 'compileall', 'ftplib', 'calendar', 'contextvars', 'bdb', 'socketserver', 'posixpath', 'pkgutil', 'cProfile', 'ctypes', 'stringprep', 'tty', 'zipapp', 'errno', 'hashlib', 'tarfile', 'symtable', 'os', 'msvcrt', 'doctest', 'logging', 'mmap', 'fileinput', 'statistics', 'keyword', 'getopt', 'multiprocessing', 'cmath', 'asyncio', 'sched', 'signal', 'timeit', 'idlelib', 'http', 'base64', 'binhex', 'concurrent'}\n"
     ]
    }
   ],
   "source": [
    "task1()"
   ]
  },
  {
   "cell_type": "code",
   "execution_count": 24,
   "metadata": {
    "collapsed": false
   },
   "outputs": [],
   "source": [
    "def get_real_packages(package_names):\n",
    "    real_modules = set()\n",
    "    not_importable_modules = set()\n",
    "    for name in package_names:\n",
    "        try:\n",
    "            importlib.import_module(name)\n",
    "            real_modules.add(name)\n",
    "            # if name != 'importlib':\n",
    "            #     del sys.modules[name]\n",
    "        except:\n",
    "            not_importable_modules.add(name)\n",
    "    return real_modules, not_importable_modules"
   ]
  },
  {
   "cell_type": "code",
   "execution_count": 25,
   "metadata": {
    "collapsed": false
   },
   "outputs": [],
   "source": [
    "def get_real():\n",
    "    external_packages = get_stdlib_packages()\n",
    "    return get_real_packages(external_packages)"
   ]
  },
  {
   "cell_type": "code",
   "execution_count": 26,
   "metadata": {
    "collapsed": false
   },
   "outputs": [],
   "source": [
    "def task2():\n",
    "    v = sys.version_info\n",
    "    real_modules, not_importable_modules = get_real()\n",
    "    print(f'These StdLib packages on Python-{v.major}.{v.minor}.{v.micro}/{platform.system()} {platform.release()} '\n",
    "          f'are not importable:')\n",
    "    print(not_importable_modules)\n",
    "\n",
    "    # for name in real_modules:\n",
    "    #     del sys.modules[name]"
   ]
  },
  {
   "cell_type": "code",
   "execution_count": 27,
   "metadata": {
    "collapsed": false
   },
   "outputs": [
    {
     "name": "stdout",
     "output_type": "stream",
     "text": [
      "These StdLib packages on Python-3.10.6/Linux 5.15.0-48-generic are not importable:\n",
      "{'nt', 'turtle', 'msilib', 'tkinter', 'winreg', 'winsound', 'idlelib', 'msvcrt', 'turtledemo', 'ensurepip'}\n"
     ]
    }
   ],
   "source": [
    "task2()"
   ]
  },
  {
   "cell_type": "code",
   "execution_count": 28,
   "metadata": {
    "collapsed": false
   },
   "outputs": [],
   "source": [
    "def module_dependency(module_names, name):\n",
    "    if name not in module_names:\n",
    "        raise Exception(f'{name} is not importable module')\n",
    "    dp_names = set()\n",
    "\n",
    "    try:\n",
    "        importlib.import_module(name)\n",
    "    except:\n",
    "        print(f'err name: {name}')\n",
    "    for key, val in vars(sys.modules[name]).items():\n",
    "        if isinstance(val, ModuleType):\n",
    "            md_name = val.__name__\n",
    "\n",
    "            try:\n",
    "                index = md_name.index(\".\")\n",
    "                md_name = md_name[0:index]\n",
    "            except:\n",
    "                pass\n",
    "\n",
    "            dp_names.add(md_name)\n",
    "            # print(f'key: {key}, type: {type(val)}, val: {md_name}, module: {md_name}')\n",
    "\n",
    "    # del sys.modules[name]\n",
    "\n",
    "    return dp_names"
   ]
  },
  {
   "cell_type": "code",
   "execution_count": 29,
   "metadata": {
    "collapsed": false
   },
   "outputs": [],
   "source": [
    "def core_modules(real_modules):\n",
    "    # real_modules, _ = get_real()\n",
    "    core_module_names = set()\n",
    "    for r_name in real_modules:\n",
    "        dp_names = module_dependency(real_modules, r_name)\n",
    "        if len(dp_names) == 0:\n",
    "            core_module_names.add(r_name)\n",
    "\n",
    "    return core_module_names\n"
   ]
  },
  {
   "cell_type": "code",
   "execution_count": 30,
   "metadata": {
    "collapsed": false
   },
   "outputs": [],
   "source": [
    "def most_dependent_modules(real_modules):\n",
    "    dp_dict = dict((name, 0) for name in real_modules)\n",
    "    for md_name in real_modules:\n",
    "        count = len(module_dependency(real_modules, md_name))\n",
    "        dp_dict[md_name] = count\n",
    "\n",
    "    sorted_dp_dict = dict(sorted(dp_dict.items(), key=lambda item: item[1], reverse=True))\n",
    "    i = 0\n",
    "    most_dependent_module_names = dict()\n",
    "    for k, v in sorted_dp_dict.items():\n",
    "        if i > 5:\n",
    "            break\n",
    "        most_dependent_module_names[k] = v\n",
    "        i = i + 1\n",
    "\n",
    "    return most_dependent_module_names\n",
    "\n"
   ]
  },
  {
   "cell_type": "code",
   "execution_count": 31,
   "metadata": {
    "collapsed": false
   },
   "outputs": [],
   "source": [
    "def task3():\n",
    "    real_modules, not_importable_modules = get_real()\n",
    "\n",
    "    # re-import libs:\n",
    "    for r in real_modules:\n",
    "        pass\n",
    "\n",
    "    # print(f'real modules: {real_modules}')\n",
    "    core_module_names = core_modules(real_modules)\n",
    "\n",
    "    dp_dict = most_dependent_modules(real_modules)\n",
    "\n",
    "    print(f'The following StdLib packages are most dependent:')\n",
    "    for k, v in dp_dict.items():\n",
    "        print(f'{k}: {v}')\n",
    "    print(f'The {len(core_module_names)} core packages are:')\n",
    "    print(core_module_names)\n",
    "\n",
    "    # for name in real_modules:\n",
    "    #     del sys.modules[name]"
   ]
  },
  {
   "cell_type": "code",
   "execution_count": 32,
   "metadata": {
    "collapsed": false
   },
   "outputs": [
    {
     "name": "stdout",
     "output_type": "stream",
     "text": [
      "The following StdLib packages are most dependent:\n",
      "zipfile: 17\n",
      "inspect: 17\n",
      "pdb: 15\n",
      "subprocess: 15\n",
      "pydoc: 15\n",
      "logging: 12\n",
      "The 59 core packages are:\n",
      "{'ossaudiodev', 'numbers', 'difflib', 'readline', 'quopri', 'termios', 'marshal', 'nturl2path', 'types', 'imghdr', 'abc', 'stat', 'sre_constants', 'resource', 'heapq', 'unicodedata', 'contextvars', 'posix', 'syslog', 'math', 'gc', 'spwd', 'functools', 'wsgiref', 'copy', 'token', 'sunau', 'audioop', 'operator', 'zlib', 'atexit', 'stringprep', 'tty', 'colorsys', 'errno', 'chunk', 'decimal', 'struct', 'select', 'time', 'sre_parse', 'binascii', 'nis', 'array', 'bisect', 'graphlib', 'builtins', 'sndhdr', 'itertools', 'mmap', 'keyword', 'faulthandler', 'cmath', 'fcntl', 'opcode', 'sys', 'pwd', 'copyreg', 'grp'}\n"
     ]
    }
   ],
   "source": [
    "task3()"
   ]
  },
  {
   "cell_type": "code",
   "execution_count": 33,
   "metadata": {
    "collapsed": false
   },
   "outputs": [
    {
     "name": "stdout",
     "output_type": "stream",
     "text": [
      "0\n"
     ]
    }
   ],
   "source": [
    "def explore_package(package_name):\n",
    "    importlib.import_module(package_name)\n",
    "    pack = sys.modules[package_name]\n",
    "    file_name = 'builtin_binary'\n",
    "    try:\n",
    "        file_name = pack.__file__\n",
    "        n = len(file_name)\n",
    "        # print(file_name[n-3:n])\n",
    "        if file_name[n-3:n] == '.py':\n",
    "            # print(file_name)\n",
    "            return package_name, file_name, 0\n",
    "        elif file_name[n-3:n] == '.so':\n",
    "            # print(file_name)\n",
    "            return package_name, file_name, 1\n",
    "        else:\n",
    "            raise Exception(f'unsupported file: {file_name}')\n",
    "    except:\n",
    "        return package_name, file_name, 2\n",
    "\n",
    "p, f, r = explore_package('locale')\n",
    "print(r)"
   ]
  },
  {
   "cell_type": "code",
   "execution_count": 43,
   "metadata": {},
   "outputs": [],
   "source": [
    "def get_py_modules(module_names):\n",
    "    py_mds = set()\n",
    "    for md in module_names:\n",
    "        p, f, t = explore_package(md)\n",
    "        if t == 0:\n",
    "            py_mds.add((p, f))\n",
    "    return py_mds\n"
   ]
  },
  {
   "cell_type": "code",
   "execution_count": 47,
   "metadata": {
    "collapsed": false
   },
   "outputs": [],
   "source": [
    "real_modules, _ = get_real()\n",
    "\n",
    "py_mds = get_py_modules(real_modules)\n",
    "\n",
    "# print(py_mds)"
   ]
  },
  {
   "cell_type": "code",
   "execution_count": 45,
   "metadata": {},
   "outputs": [
    {
     "name": "stdout",
     "output_type": "stream",
     "text": [
      "759\n"
     ]
    }
   ],
   "source": [
    "def count_file_line(file_path):\n",
    "    count=0\n",
    "    for line in open(file_path, encoding=\"utf8\"):\n",
    "        count+=1\n",
    "    return count\n",
    "\n",
    "\n",
    "num_lines = count_file_line('/usr/lib/python3.10/calendar.py')\n",
    "print(num_lines)\n"
   ]
  },
  {
   "cell_type": "code",
   "execution_count": 46,
   "metadata": {},
   "outputs": [
    {
     "name": "stdout",
     "output_type": "stream",
     "text": [
      "{'queue': 326, 'shutil': 1509, 'keyword': 63, 'tempfile': 1014, 'configparser': 1367, 'pydoc_data': 0, 'string': 280, 'pyclbr': 314, 'importlib': 176, 'gettext': 803, 'subprocess': 2104, 'pipes': 247, 'zoneinfo': 31, 'csv': 444, 'optparse': 1681, 'cProfile': 190, 'plistlib': 902, 'ipaddress': 2287, 'socketserver': 844, 'contextvars': 4, 'json': 359, 'platform': 1312, 'zipfile': 2474, 'ftplib': 981, 'tarfile': 2614, 'cgi': 1004, 'selectors': 619, 'lib2to3': 8, 'fileinput': 462, 'decimal': 11, 'curses': 101, 'random': 930, 'doctest': 2810, 'abc': 188, 'sunau': 526, 'sre_compile': 808, 'contextlib': 745, 'copyreg': 219, 'symtable': 322, 'stat': 195, 'profile': 610, 'xmlrpc': 1, 'cmd': 401, 'sysconfig': 845, 're': 383, 'graphlib': 246, 'argparse': 2595, 'os': 1122, 'enum': 1053, 'sqlite3': 71, 'asynchat': 315, 'traceback': 692, 'runpy': 321, 'tty': 36, 'imghdr': 168, 'functools': 992, 'signal': 92, 'mailbox': 2151, 'fnmatch': 199, 'aifc': 947, 'reprlib': 161, 'dbm': 189, 'nturl2path': 81, 'token': 137, 'xdrlib': 241, 'hmac': 219, 'shlex': 350, 'linecache': 182, 'pstats': 779, 'pdb': 1753, 'pty': 187, 'smtplib': 1140, 'types': 307, 'http': 150, 'statistics': 1267, 'encodings': 170, 'glob': 237, 'multiprocessing': 37, 'py_compile': 213, 'imaplib': 1649, 'chunk': 169, 'crypt': 120, 'posixpath': 541, 'pkgutil': 715, 'pathlib': 1461, 'struct': 15, 'asyncore': 649, 'codeop': 153, 'sndhdr': 257, 'venv': 534, 'difflib': 2056, 'dataclasses': 1454, 'locale': 1761, 'genericpath': 155, 'code': 315, 'ctypes': 563, 'ntpath': 835, 'gzip': 609, 'bdb': 887, 'datetime': 2524, 'sched': 167, 'uu': 206, 'lzma': 356, 'weakref': 675, 'quopri': 242, 'compileall': 463, 'wsgiref': 23, 'threading': 1645, 'mailcap': 298, 'io': 114, 'imp': 346, 'getopt': 215, 'ast': 1701, 'opcode': 216, 'pickletools': 2890, 'nntplib': 1090, 'socket': 960, 'heapq': 601, 'codecs': 1126, 'hashlib': 269, 'inspect': 3310, 'rlcompleter': 219, 'dis': 540, 'copy': 304, 'base64': 603, 'trace': 740, 'html': 132, 'asyncio': 43, 'site': 693, 'urllib': 0, 'logging': 2261, 'operator': 460, 'tabnanny': 333, 'bisect': 110, 'bz2': 344, 'mimetypes': 641, 'email': 62, 'smtpd': 979, 'uuid': 728, 'pydoc': 2849, 'xml': 20, 'poplib': 483, 'textwrap': 494, 'collections': 1556, 'zipapp': 206, 'typing': 2676, 'tokenize': 684, 'wave': 513, 'modulefinder': 685, 'sre_constants': 261, 'timeit': 376, 'webbrowser': 717, 'ssl': 1529, 'numbers': 393, 'telnetlib': 677, 'distutils': 24, 'cgitb': 321, 'warnings': 549, 'shelve': 243, 'binhex': 502, 'sre_parse': 1076, 'unittest': 95, 'netrc': 143, 'pprint': 670, 'concurrent': 1, 'filecmp': 313, 'tracemalloc': 560, 'calendar': 759, 'secrets': 72, 'stringprep': 272, 'pickle': 1820, 'getpass': 185, 'fractions': 748, 'colorsys': 165}\n"
     ]
    }
   ],
   "source": [
    "def get_file_lines_dict(module_names):\n",
    "    md_lines = dict()\n",
    "    py_mds = get_py_modules(module_names)\n",
    "    for py_md in py_mds:\n",
    "        key = py_md[0]\n",
    "        num_lines = count_file_line(py_md[1])\n",
    "        md_lines[key] = num_lines\n",
    "    return md_lines\n",
    "\n",
    "\n",
    "md_lines = get_file_lines_dict(real_modules)\n",
    "print(md_lines)\n"
   ]
  },
  {
   "cell_type": "code",
   "execution_count": null,
   "metadata": {},
   "outputs": [],
   "source": []
  },
  {
   "cell_type": "code",
   "execution_count": 35,
   "metadata": {
    "collapsed": false
   },
   "outputs": [
    {
     "name": "stdout",
     "output_type": "stream",
     "text": [
      "<enum 'AddressFamily'>, enum\n",
      "<enum 'AddressInfo'>, enum\n",
      "<enum 'IntEnum'>, enum\n",
      "<enum 'IntFlag'>, enum\n",
      "<enum 'MsgFlag'>, enum\n",
      "<class 'socket.SocketIO'>, type: <class 'type'>\n",
      "<enum 'SocketKind'>, enum\n",
      "<class '_socket.socket'>, type: <class 'type'>\n",
      "<class 'socket._GiveupOnSendfile'>, type: <class 'type'>\n",
      "<class 'OSError'>, type: <class 'type'>\n",
      "<class 'socket.gaierror'>, type: <class 'type'>\n",
      "<class 'socket.herror'>, type: <class 'type'>\n",
      "<class 'socket.socket'>, type: <class 'type'>\n",
      "<class 'TimeoutError'>, type: <class 'type'>\n"
     ]
    }
   ],
   "source": [
    "import inspect\n",
    "import fileinput\n",
    "import socket\n",
    "# from types import\n",
    "import enum\n",
    "\n",
    "for name, obj in inspect.getmembers(socket):\n",
    "        if inspect.isclass(obj):\n",
    "            if issubclass(obj, enum.Enum):\n",
    "                print(f'{obj}, enum')\n",
    "            else:\n",
    "                print(f'{obj}, type: {type(obj).__class__}')"
   ]
  },
  {
   "cell_type": "code",
   "execution_count": 36,
   "metadata": {
    "collapsed": false
   },
   "outputs": [
    {
     "name": "stdout",
     "output_type": "stream",
     "text": [
      "{'ast': 136, 'builtins': 94, 'typing': 50, 'asyncio': 47, 'ctypes': 43, 'types': 28}\n"
     ]
    }
   ],
   "source": [
    "real_modules, _ = get_real()\n",
    "\n",
    "md_class_count = dict()\n",
    "\n",
    "for md in real_modules:\n",
    "    count = 0\n",
    "    # cl = set()\n",
    "    for name, obj in inspect.getmembers(sys.modules[md]):\n",
    "        if inspect.isclass(obj):\n",
    "            if issubclass(obj, enum.Enum):\n",
    "                # print(f'{obj}, enum')\n",
    "                continue\n",
    "            else:\n",
    "                # print(f'{obj}, type: {type(obj).__class__}')\n",
    "                count = count + 1\n",
    "                # cl.add(obj.__name__)\n",
    "    md_class_count[md] = count\n",
    "\n",
    "sorted_cl_dict = dict(sorted(md_class_count.items(), key=lambda item: item[1], reverse=True))\n",
    "i = 0\n",
    "largest_pack_cl = dict()\n",
    "for k, v in sorted_cl_dict.items():\n",
    "    if i > 5:\n",
    "        break\n",
    "    largest_pack_cl[k] = v\n",
    "    i = i + 1\n",
    "\n",
    "print(largest_pack_cl)\n",
    "\n",
    "\n"
   ]
  },
  {
   "cell_type": "code",
   "execution_count": null,
   "metadata": {
    "collapsed": false
   },
   "outputs": [],
   "source": [
    "import locale\n",
    "\n",
    "# from locale import localeconv as "
   ]
  },
  {
   "cell_type": "markdown",
   "metadata": {},
   "source": [
    "https://stackoverflow.com/questions/34511673/extracting-comments-from-python-source-code\n",
    "\n",
    "use this for task 5"
   ]
  }
 ],
 "metadata": {
  "kernelspec": {
   "display_name": "Python 3.10.6 ('venv': venv)",
   "language": "python",
   "name": "python3"
  },
  "language_info": {
   "codemirror_mode": {
    "name": "ipython",
    "version": 3
   },
   "file_extension": ".py",
   "mimetype": "text/x-python",
   "name": "python",
   "nbconvert_exporter": "python",
   "pygments_lexer": "ipython3",
   "version": "3.10.6"
  },
  "vscode": {
   "interpreter": {
    "hash": "e74564eb18e6525c932a88e9c17894d7d0caced99cac9013640f84527ad869c3"
   }
  }
 },
 "nbformat": 4,
 "nbformat_minor": 0
}
