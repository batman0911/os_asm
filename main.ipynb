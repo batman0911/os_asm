{
 "cells": [
  {
   "cell_type": "code",
   "execution_count": 1,
   "metadata": {
    "collapsed": true
   },
   "outputs": [],
   "source": [
    "import isort\n",
    "import sys\n",
    "import platform\n",
    "import importlib\n",
    "from types import ModuleType"
   ]
  },
  {
   "cell_type": "code",
   "execution_count": 2,
   "outputs": [],
   "source": [
    "# module_names = isort.stdlibs.py38.stdlib"
   ],
   "metadata": {
    "collapsed": false
   }
  },
  {
   "cell_type": "code",
   "execution_count": 3,
   "outputs": [],
   "source": [
    "def get_stdlib_packages():\n",
    "    if sys.version_info.minor == 10:\n",
    "        module_names = sys.stdlib_module_names\n",
    "    else:\n",
    "        module_names = isort.stdlibs.py38.stdlib\n",
    "\n",
    "    external_packages = set()\n",
    "    for name in module_names:\n",
    "        if name[0] == '_' or name == 'this' or name == 'antigravity':\n",
    "            continue\n",
    "        external_packages.add(name)\n",
    "    return external_packages"
   ],
   "metadata": {
    "collapsed": false
   }
  },
  {
   "cell_type": "code",
   "execution_count": 4,
   "outputs": [],
   "source": [
    "def task1():\n",
    "    external_packages = get_stdlib_packages()\n",
    "    v = sys.version_info\n",
    "    print(f'Python {v.major}.{v.minor}.{v.micro} on {platform.system()} {platform.release()}')\n",
    "    print(f'Stdlib contains {len(external_packages)} external modules and packages: ')\n",
    "    print(external_packages)"
   ],
   "metadata": {
    "collapsed": false
   }
  },
  {
   "cell_type": "code",
   "execution_count": 5,
   "outputs": [
    {
     "name": "stdout",
     "output_type": "stream",
     "text": [
      "Python 3.8.10 on Linux 5.15.0-50-generic\n",
      "Stdlib contains 212 external modules and packages: \n",
      "{'pprint', 'logging', 'keyword', 'resource', 'pstats', 'fractions', 'math', 'xdrlib', 'telnetlib', 'runpy', 'tokenize', 'crypt', 'fcntl', 'numbers', 'tarfile', 'linecache', 'fileinput', 'warnings', 'winsound', 'sysconfig', 'ensurepip', 'pickle', 'os', 'hmac', 'syslog', 'cgi', 'symbol', 'socket', 'formatter', 'base64', 'builtins', 'plistlib', 'spwd', 'functools', 'cmath', 'platform', 'zipimport', 'mailcap', 'locale', 'signal', 'threading', 'array', 'pty', 'asyncore', 'faulthandler', 'ossaudiodev', 'random', 'token', 'imaplib', 'zlib', 'select', 'traceback', 'venv', 'uu', 'posix', 'heapq', 'netrc', 'code', 'decimal', 'curses', 'mmap', 'asyncio', 'pkgutil', 'poplib', 'cgitb', 'contextlib', 'py_compile', 'pydoc', 'abc', 'nntplib', 'inspect', 'multiprocessing', 'site', 'sre', 'binascii', 'bdb', 'statistics', 'ftplib', 'ntpath', 'readline', 'msilib', 'chunk', 'argparse', 'stat', 'fnmatch', 'socketserver', 'sre_constants', 'difflib', 'contextvars', 'pwd', 'cmd', 'smtplib', 'datetime', 'turtle', 'unittest', 'unicodedata', 'dataclasses', 'gzip', 'secrets', 'bz2', 'urllib', 'stringprep', 'gc', 'gettext', 'ast', 'getopt', 'tty', 'string', 'bisect', 'binhex', 'zipapp', 'mimetypes', 'sys', 'grp', 'http', 'json', 'types', 'parser', 'dummy_threading', 'marshal', 'modulefinder', 'subprocess', 'xml', 'getpass', 'sre_parse', 'weakref', 'time', 'pathlib', 'wave', 'itertools', 'zipfile', 'tkinter', 'shlex', 'codecs', 'nis', 'timeit', 'doctest', 'dbm', 'msvcrt', 'configparser', 'operator', 'ipaddress', 'enum', 'shutil', 'struct', 'codeop', 'sndhdr', 'ssl', 'tempfile', 'copy', 'lzma', 'winreg', 'encodings', 'queue', 'shelve', 'quopri', 'pickletools', 'termios', 'lib2to3', 'copyreg', 'sched', 'tracemalloc', 'ctypes', 'calendar', 'colorsys', 'trace', 'selectors', 'asynchat', 'posixpath', 'profile', 'uuid', 'dis', 'pyclbr', 'typing', 'pipes', 're', 'audioop', 'rlcompleter', 'mailbox', 'xmlrpc', 'io', 'filecmp', 'email', 'hashlib', 'imghdr', 'concurrent', 'csv', 'imp', 'turtledemo', 'sunau', 'reprlib', 'errno', 'test', 'smtpd', 'importlib', 'atexit', 'html', 'compileall', 'optparse', 'cProfile', 'aifc', 'tabnanny', 'webbrowser', 'sqlite3', 'distutils', 'pdb', 'glob', 'collections', 'sre_compile', 'textwrap', 'wsgiref', 'symtable'}\n"
     ]
    }
   ],
   "source": [
    "task1()"
   ],
   "metadata": {
    "collapsed": false
   }
  },
  {
   "cell_type": "code",
   "execution_count": 6,
   "outputs": [],
   "source": [
    "def get_real_packages(package_names):\n",
    "    real_modules = set()\n",
    "    not_importable_modules = set()\n",
    "    for name in package_names:\n",
    "        try:\n",
    "            importlib.import_module(name)\n",
    "            # del sys.modules[name]\n",
    "            real_modules.add(name)\n",
    "        except:\n",
    "            not_importable_modules.add(name)\n",
    "    return real_modules, not_importable_modules"
   ],
   "metadata": {
    "collapsed": false
   }
  },
  {
   "cell_type": "code",
   "execution_count": 7,
   "outputs": [],
   "source": [
    "def get_real():\n",
    "    external_packages = get_stdlib_packages()\n",
    "    return get_real_packages(external_packages)"
   ],
   "metadata": {
    "collapsed": false
   }
  },
  {
   "cell_type": "code",
   "execution_count": 8,
   "outputs": [],
   "source": [
    "def task2():\n",
    "    v = sys.version_info\n",
    "    real_modules, not_importable_modules = get_real()\n",
    "    print(f'These StdLib packages on Python-{v.major}.{v.minor}.{v.micro}/{platform.system()} {platform.release()} '\n",
    "          f'are not importable:')\n",
    "    print(not_importable_modules)\n",
    "\n",
    "    for name in real_modules:\n",
    "        del sys.modules[name]"
   ],
   "metadata": {
    "collapsed": false
   }
  },
  {
   "cell_type": "code",
   "execution_count": 9,
   "outputs": [
    {
     "name": "stdout",
     "output_type": "stream",
     "text": [
      "These StdLib packages on Python-3.8.10/Linux 5.15.0-50-generic are not importable:\n",
      "{'msilib', 'sre', 'winsound', 'winreg', 'turtledemo', 'ensurepip', 'turtle', 'msvcrt', 'tkinter'}\n"
     ]
    }
   ],
   "source": [
    "task2()"
   ],
   "metadata": {
    "collapsed": false
   }
  },
  {
   "cell_type": "code",
   "execution_count": 10,
   "outputs": [],
   "source": [
    "def module_dependency(module_names, name):\n",
    "    if name not in module_names:\n",
    "        raise Exception(f'{name} is not importable module')\n",
    "    dp_names = set()\n",
    "\n",
    "    try:\n",
    "        importlib.import_module(name)\n",
    "    except:\n",
    "        print(f'err name: {name}')\n",
    "    for key, val in vars(sys.modules[name]).items():\n",
    "        if isinstance(val, ModuleType):\n",
    "            md_name = val.__name__\n",
    "\n",
    "            try:\n",
    "                index = md_name.index(\".\")\n",
    "                md_name = md_name[0:index]\n",
    "            except:\n",
    "                pass\n",
    "\n",
    "            dp_names.add(md_name)\n",
    "            # print(f'key: {key}, type: {type(val)}, val: {md_name}, module: {md_name}')\n",
    "\n",
    "    # del sys.modules[name]\n",
    "\n",
    "    return dp_names"
   ],
   "metadata": {
    "collapsed": false
   }
  },
  {
   "cell_type": "code",
   "execution_count": 11,
   "outputs": [],
   "source": [
    "def core_modules(real_modules):\n",
    "    # real_modules, _ = get_real()\n",
    "    core_module_names = set()\n",
    "    for r_name in real_modules:\n",
    "        dp_names = module_dependency(real_modules, r_name)\n",
    "        if len(dp_names) == 0:\n",
    "            core_module_names.add(r_name)\n",
    "\n",
    "    return core_module_names\n"
   ],
   "metadata": {
    "collapsed": false
   }
  },
  {
   "cell_type": "code",
   "execution_count": 12,
   "outputs": [],
   "source": [
    "def most_dependent_modules(real_modules):\n",
    "    dp_dict = dict((name, 0) for name in real_modules)\n",
    "    for md_name in real_modules:\n",
    "        count = len(module_dependency(real_modules, md_name))\n",
    "        dp_dict[md_name] = count\n",
    "\n",
    "    sorted_dp_dict = dict(sorted(dp_dict.items(), key=lambda item: item[1], reverse=True))\n",
    "    i = 0\n",
    "    most_dependent_module_names = dict()\n",
    "    for k, v in sorted_dp_dict.items():\n",
    "        if i > 5:\n",
    "            break\n",
    "        most_dependent_module_names[k] = v\n",
    "        i = i + 1\n",
    "\n",
    "    return most_dependent_module_names\n",
    "\n"
   ],
   "metadata": {
    "collapsed": false
   }
  },
  {
   "cell_type": "code",
   "execution_count": 13,
   "outputs": [],
   "source": [
    "def task3():\n",
    "    real_modules, not_importable_modules = get_real()\n",
    "    # print(f'real modules: {real_modules}')\n",
    "    core_module_names = core_modules(real_modules)\n",
    "\n",
    "    dp_dict = most_dependent_modules(real_modules)\n",
    "\n",
    "    print(f'The following StdLib packages are most dependent:')\n",
    "    for k, v in dp_dict.items():\n",
    "        print(f'{k}: {v}')\n",
    "    print(f'The {len(core_module_names)} core packages are:')\n",
    "    print(core_module_names)\n",
    "\n",
    "    for name in real_modules:\n",
    "        del sys.modules[name]"
   ],
   "metadata": {
    "collapsed": false
   }
  },
  {
   "cell_type": "code",
   "execution_count": 14,
   "outputs": [
    {
     "name": "stdout",
     "output_type": "stream",
     "text": [
      "The following StdLib packages are most dependent:\n",
      "gzip: 8\n",
      "pathlib: 8\n",
      "shutil: 7\n",
      "socket: 6\n",
      "zipimport: 6\n",
      "re: 6\n",
      "The 67 core packages are:\n",
      "{'struct', 'urllib', 'keyword', 'zlib', 'select', 'stringprep', 'gc', 'sndhdr', 'resource', 'copy', 'ast', 'tty', 'math', 'posix', 'heapq', 'bisect', 'quopri', 'decimal', 'termios', 'fcntl', 'numbers', 'lib2to3', 'copyreg', 'mmap', 'sys', 'grp', 'colorsys', 'http', 'types', 'abc', 'syslog', 'unicodedata', 'parser', 'audioop', 'symbol', 'marshal', 'xmlrpc', 'binascii', 'xml', 'builtins', 'sre_parse', 'email', 'imghdr', 'time', 'concurrent', 'spwd', 'functools', 'cmath', 'errno', 'itertools', 'test', 'readline', 'operator', 'chunk', 'atexit', 'stat', 'sre_constants', 'array', 'nis', 'difflib', 'contextvars', 'pwd', 'faulthandler', 'ossaudiodev', 'unittest', 'wsgiref', 'token'}\n"
     ]
    }
   ],
   "source": [
    "task3()"
   ],
   "metadata": {
    "collapsed": false
   }
  },
  {
   "cell_type": "code",
   "execution_count": 37,
   "outputs": [
    {
     "name": "stdout",
     "output_type": "stream",
     "text": [
      "0\n"
     ]
    }
   ],
   "source": [
    "def explore_package(package_name):\n",
    "    importlib.import_module(package_name)\n",
    "    pack = sys.modules[package_name]\n",
    "    file_name = 'builtin_binary'\n",
    "    try:\n",
    "        file_name = pack.__file__\n",
    "        n = len(file_name)\n",
    "        # print(file_name[n-3:n])\n",
    "        if file_name[n-3:n] == '.py':\n",
    "            # print(file_name)\n",
    "            return package_name, file_name, 0\n",
    "        elif file_name[n-3:n] == '.so':\n",
    "            # print(file_name)\n",
    "            return package_name, file_name, 1\n",
    "        else:\n",
    "            raise Exception(f'unsupported file: {file_name}')\n",
    "    except:\n",
    "        return package_name, file_name, 2\n",
    "\n",
    "p, f, r = explore_package('locale')\n",
    "print(r)"
   ],
   "metadata": {
    "collapsed": false
   }
  },
  {
   "cell_type": "code",
   "execution_count": 38,
   "outputs": [
    {
     "name": "stdout",
     "output_type": "stream",
     "text": [
      "package name: pprint, file: /usr/lib/python3.8/pprint.py, type: 0\n",
      "package name: keyword, file: /usr/lib/python3.8/keyword.py, type: 0\n",
      "package name: resource, file: /usr/lib/python3.8/lib-dynload/resource.cpython-38-x86_64-linux-gnu.so, type: 1\n",
      "package name: pstats, file: /usr/lib/python3.8/pstats.py, type: 0\n",
      "package name: fractions, file: /usr/lib/python3.8/fractions.py, type: 0\n",
      "package name: math, file: builtin_binary, type: 2\n",
      "package name: xdrlib, file: /usr/lib/python3.8/xdrlib.py, type: 0\n",
      "package name: telnetlib, file: /usr/lib/python3.8/telnetlib.py, type: 0\n",
      "package name: fcntl, file: builtin_binary, type: 2\n",
      "package name: numbers, file: /usr/lib/python3.8/numbers.py, type: 0\n",
      "package name: fileinput, file: /usr/lib/python3.8/fileinput.py, type: 0\n",
      "package name: pickle, file: /usr/lib/python3.8/pickle.py, type: 0\n",
      "package name: os, file: /usr/lib/python3.8/os.py, type: 0\n",
      "package name: syslog, file: builtin_binary, type: 2\n",
      "package name: symbol, file: /usr/lib/python3.8/symbol.py, type: 0\n",
      "package name: socket, file: /usr/lib/python3.8/socket.py, type: 0\n",
      "package name: base64, file: /usr/lib/python3.8/base64.py, type: 0\n",
      "package name: builtins, file: builtin_binary, type: 2\n",
      "package name: spwd, file: builtin_binary, type: 2\n",
      "package name: functools, file: /usr/lib/python3.8/functools.py, type: 0\n",
      "package name: cmath, file: builtin_binary, type: 2\n",
      "package name: zipimport, file: builtin_binary, type: 2\n",
      "package name: locale, file: /usr/lib/python3.8/locale.py, type: 0\n",
      "package name: signal, file: /usr/lib/python3.8/signal.py, type: 0\n",
      "package name: threading, file: /usr/lib/python3.8/threading.py, type: 0\n",
      "package name: array, file: builtin_binary, type: 2\n",
      "package name: pty, file: /usr/lib/python3.8/pty.py, type: 0\n",
      "package name: faulthandler, file: builtin_binary, type: 2\n",
      "package name: ossaudiodev, file: /usr/lib/python3.8/lib-dynload/ossaudiodev.cpython-38-x86_64-linux-gnu.so, type: 1\n",
      "package name: token, file: /usr/lib/python3.8/token.py, type: 0\n",
      "package name: zlib, file: builtin_binary, type: 2\n",
      "package name: select, file: builtin_binary, type: 2\n",
      "package name: uu, file: /usr/lib/python3.8/uu.py, type: 0\n",
      "package name: posix, file: builtin_binary, type: 2\n",
      "package name: heapq, file: /usr/lib/python3.8/heapq.py, type: 0\n",
      "package name: netrc, file: /usr/lib/python3.8/netrc.py, type: 0\n",
      "package name: decimal, file: /usr/lib/python3.8/decimal.py, type: 0\n",
      "package name: curses, file: /usr/lib/python3.8/curses/__init__.py, type: 0\n",
      "package name: mmap, file: /usr/lib/python3.8/lib-dynload/mmap.cpython-38-x86_64-linux-gnu.so, type: 1\n",
      "package name: contextlib, file: /usr/lib/python3.8/contextlib.py, type: 0\n",
      "package name: abc, file: /usr/lib/python3.8/abc.py, type: 0\n",
      "package name: multiprocessing, file: /usr/lib/python3.8/multiprocessing/__init__.py, type: 0\n",
      "package name: binascii, file: builtin_binary, type: 2\n",
      "package name: ntpath, file: /usr/lib/python3.8/ntpath.py, type: 0\n",
      "package name: readline, file: /usr/lib/python3.8/lib-dynload/readline.cpython-38-x86_64-linux-gnu.so, type: 1\n",
      "package name: chunk, file: /usr/lib/python3.8/chunk.py, type: 0\n",
      "package name: stat, file: /usr/lib/python3.8/stat.py, type: 0\n",
      "package name: fnmatch, file: /usr/lib/python3.8/fnmatch.py, type: 0\n",
      "package name: socketserver, file: /usr/lib/python3.8/socketserver.py, type: 0\n",
      "package name: sre_constants, file: /usr/lib/python3.8/sre_constants.py, type: 0\n",
      "package name: difflib, file: /usr/lib/python3.8/difflib.py, type: 0\n",
      "package name: contextvars, file: /usr/lib/python3.8/contextvars.py, type: 0\n",
      "package name: pwd, file: builtin_binary, type: 2\n",
      "package name: cmd, file: /usr/lib/python3.8/cmd.py, type: 0\n",
      "package name: unittest, file: /usr/lib/python3.8/unittest/__init__.py, type: 0\n",
      "package name: datetime, file: /usr/lib/python3.8/datetime.py, type: 0\n",
      "package name: unicodedata, file: builtin_binary, type: 2\n",
      "package name: gzip, file: /usr/lib/python3.8/gzip.py, type: 0\n",
      "package name: urllib, file: /usr/lib/python3.8/urllib/__init__.py, type: 0\n",
      "package name: stringprep, file: /usr/lib/python3.8/stringprep.py, type: 0\n",
      "package name: gc, file: builtin_binary, type: 2\n",
      "package name: ast, file: /usr/lib/python3.8/ast.py, type: 0\n",
      "package name: tty, file: /usr/lib/python3.8/tty.py, type: 0\n",
      "package name: string, file: /usr/lib/python3.8/string.py, type: 0\n",
      "package name: bisect, file: /usr/lib/python3.8/bisect.py, type: 0\n",
      "package name: binhex, file: /usr/lib/python3.8/binhex.py, type: 0\n",
      "package name: mimetypes, file: /usr/lib/python3.8/mimetypes.py, type: 0\n",
      "package name: sys, file: builtin_binary, type: 2\n",
      "package name: grp, file: builtin_binary, type: 2\n",
      "package name: http, file: /usr/lib/python3.8/http/__init__.py, type: 0\n",
      "package name: json, file: /usr/lib/python3.8/json/__init__.py, type: 0\n",
      "package name: types, file: /usr/lib/python3.8/types.py, type: 0\n",
      "package name: parser, file: /usr/lib/python3.8/lib-dynload/parser.cpython-38-x86_64-linux-gnu.so, type: 1\n",
      "package name: marshal, file: builtin_binary, type: 2\n",
      "package name: xml, file: /usr/lib/python3.8/xml/__init__.py, type: 0\n",
      "package name: sre_parse, file: /usr/lib/python3.8/sre_parse.py, type: 0\n",
      "package name: weakref, file: /usr/lib/python3.8/weakref.py, type: 0\n",
      "package name: time, file: builtin_binary, type: 2\n",
      "package name: pathlib, file: /usr/lib/python3.8/pathlib.py, type: 0\n",
      "package name: itertools, file: builtin_binary, type: 2\n",
      "package name: shlex, file: /usr/lib/python3.8/shlex.py, type: 0\n",
      "package name: codecs, file: /usr/lib/python3.8/codecs.py, type: 0\n",
      "package name: nis, file: /usr/lib/python3.8/lib-dynload/nis.cpython-38-x86_64-linux-gnu.so, type: 1\n",
      "package name: timeit, file: /usr/lib/python3.8/timeit.py, type: 0\n",
      "package name: dbm, file: /usr/lib/python3.8/dbm/__init__.py, type: 0\n",
      "package name: operator, file: /usr/lib/python3.8/operator.py, type: 0\n",
      "package name: ipaddress, file: /usr/lib/python3.8/ipaddress.py, type: 0\n",
      "package name: enum, file: /usr/lib/python3.8/enum.py, type: 0\n",
      "package name: shutil, file: /usr/lib/python3.8/shutil.py, type: 0\n",
      "package name: struct, file: /usr/lib/python3.8/struct.py, type: 0\n",
      "package name: sndhdr, file: /usr/lib/python3.8/sndhdr.py, type: 0\n",
      "package name: copy, file: /usr/lib/python3.8/copy.py, type: 0\n",
      "package name: lzma, file: /usr/lib/python3.8/lzma.py, type: 0\n",
      "package name: encodings, file: /usr/lib/python3.8/encodings/__init__.py, type: 0\n",
      "package name: queue, file: /usr/lib/python3.8/queue.py, type: 0\n",
      "package name: quopri, file: /usr/lib/python3.8/quopri.py, type: 0\n",
      "package name: pickletools, file: /usr/lib/python3.8/pickletools.py, type: 0\n",
      "package name: termios, file: /usr/lib/python3.8/lib-dynload/termios.cpython-38-x86_64-linux-gnu.so, type: 1\n",
      "package name: lib2to3, file: /usr/lib/python3.8/lib2to3/__init__.py, type: 0\n",
      "package name: copyreg, file: /usr/lib/python3.8/copyreg.py, type: 0\n",
      "package name: sched, file: /usr/lib/python3.8/sched.py, type: 0\n",
      "package name: ctypes, file: /usr/lib/python3.8/ctypes/__init__.py, type: 0\n",
      "package name: calendar, file: /usr/lib/python3.8/calendar.py, type: 0\n",
      "package name: colorsys, file: /usr/lib/python3.8/colorsys.py, type: 0\n",
      "package name: selectors, file: /usr/lib/python3.8/selectors.py, type: 0\n",
      "package name: posixpath, file: /usr/lib/python3.8/posixpath.py, type: 0\n",
      "package name: profile, file: /usr/lib/python3.8/profile.py, type: 0\n",
      "package name: dis, file: /usr/lib/python3.8/dis.py, type: 0\n",
      "package name: re, file: /usr/lib/python3.8/re.py, type: 0\n",
      "package name: audioop, file: /usr/lib/python3.8/lib-dynload/audioop.cpython-38-x86_64-linux-gnu.so, type: 1\n",
      "package name: rlcompleter, file: /usr/lib/python3.8/rlcompleter.py, type: 0\n",
      "package name: xmlrpc, file: /usr/lib/python3.8/xmlrpc/__init__.py, type: 0\n",
      "package name: io, file: /usr/lib/python3.8/io.py, type: 0\n",
      "package name: filecmp, file: /usr/lib/python3.8/filecmp.py, type: 0\n",
      "package name: email, file: /usr/lib/python3.8/email/__init__.py, type: 0\n",
      "package name: hashlib, file: /usr/lib/python3.8/hashlib.py, type: 0\n",
      "package name: imghdr, file: /usr/lib/python3.8/imghdr.py, type: 0\n",
      "package name: concurrent, file: /usr/lib/python3.8/concurrent/__init__.py, type: 0\n",
      "package name: csv, file: /usr/lib/python3.8/csv.py, type: 0\n",
      "package name: reprlib, file: /usr/lib/python3.8/reprlib.py, type: 0\n",
      "package name: errno, file: builtin_binary, type: 2\n",
      "package name: test, file: /usr/lib/python3.8/test/__init__.py, type: 0\n",
      "package name: atexit, file: builtin_binary, type: 2\n",
      "package name: html, file: /usr/lib/python3.8/html/__init__.py, type: 0\n",
      "package name: cProfile, file: /usr/lib/python3.8/cProfile.py, type: 0\n",
      "package name: sqlite3, file: /usr/lib/python3.8/sqlite3/__init__.py, type: 0\n",
      "package name: distutils, file: /usr/lib/python3.8/distutils/__init__.py, type: 0\n",
      "package name: glob, file: /usr/lib/python3.8/glob.py, type: 0\n",
      "package name: collections, file: /usr/lib/python3.8/collections/__init__.py, type: 0\n",
      "package name: sre_compile, file: /usr/lib/python3.8/sre_compile.py, type: 0\n",
      "package name: textwrap, file: /usr/lib/python3.8/textwrap.py, type: 0\n",
      "package name: wsgiref, file: /usr/lib/python3.8/wsgiref/__init__.py, type: 0\n",
      "package name: symtable, file: /usr/lib/python3.8/symtable.py, type: 0\n"
     ]
    }
   ],
   "source": [
    "real_modules, _ = get_real()\n",
    "\n",
    "for md in real_modules:\n",
    "    p, f, r = explore_package(md)\n",
    "    print(f'package name: {p}, file: {f}, type: {r}')"
   ],
   "metadata": {
    "collapsed": false
   }
  },
  {
   "cell_type": "code",
   "execution_count": 21,
   "outputs": [
    {
     "name": "stdout",
     "output_type": "stream",
     "text": [
      "Unexpected exception formatting exception. Falling back to standard exception\n"
     ]
    },
    {
     "name": "stderr",
     "output_type": "stream",
     "text": [
      "Traceback (most recent call last):\n",
      "  File \"/home/linhnm/.local/lib/python3.8/site-packages/IPython/core/interactiveshell.py\", line 3398, in run_code\n",
      "    exec(code_obj, self.user_global_ns, self.user_ns)\n",
      "  File \"/tmp/ipykernel_193834/1838482550.py\", line 2, in <cell line: 2>\n",
      "    math.__file__\n",
      "AttributeError: module 'math' has no attribute '__file__'\n",
      "\n",
      "During handling of the above exception, another exception occurred:\n",
      "\n",
      "Traceback (most recent call last):\n",
      "  File \"/home/linhnm/.local/lib/python3.8/site-packages/executing/executing.py\", line 312, in executing\n",
      "    args = executing_cache[key]\n",
      "KeyError: (<code object run_code at 0x7f762516b500, file \"/home/linhnm/.local/lib/python3.8/site-packages/IPython/core/interactiveshell.py\", line 3362>, 140145405113600, 74)\n",
      "\n",
      "During handling of the above exception, another exception occurred:\n",
      "\n",
      "Traceback (most recent call last):\n",
      "  File \"/home/linhnm/.local/lib/python3.8/site-packages/IPython/core/interactiveshell.py\", line 1993, in showtraceback\n",
      "    stb = self.InteractiveTB.structured_traceback(\n",
      "  File \"/home/linhnm/.local/lib/python3.8/site-packages/IPython/core/ultratb.py\", line 1118, in structured_traceback\n",
      "    return FormattedTB.structured_traceback(\n",
      "  File \"/home/linhnm/.local/lib/python3.8/site-packages/IPython/core/ultratb.py\", line 1012, in structured_traceback\n",
      "    return VerboseTB.structured_traceback(\n",
      "  File \"/home/linhnm/.local/lib/python3.8/site-packages/IPython/core/ultratb.py\", line 865, in structured_traceback\n",
      "    formatted_exception = self.format_exception_as_a_whole(etype, evalue, etb, number_of_lines_of_context,\n",
      "  File \"/home/linhnm/.local/lib/python3.8/site-packages/IPython/core/ultratb.py\", line 799, in format_exception_as_a_whole\n",
      "    self.get_records(etb, number_of_lines_of_context, tb_offset) if etb else []\n",
      "  File \"/home/linhnm/.local/lib/python3.8/site-packages/IPython/core/ultratb.py\", line 854, in get_records\n",
      "    return list(stack_data.FrameInfo.stack_data(etb, options=options))[tb_offset:]\n",
      "  File \"/home/linhnm/.local/lib/python3.8/site-packages/stack_data/core.py\", line 563, in stack_data\n",
      "    yield from collapse_repeated(\n",
      "  File \"/home/linhnm/.local/lib/python3.8/site-packages/stack_data/utils.py\", line 84, in collapse_repeated\n",
      "    yield from map(mapper, original_group)\n",
      "  File \"/home/linhnm/.local/lib/python3.8/site-packages/stack_data/core.py\", line 553, in mapper\n",
      "    return cls(f, options)\n",
      "  File \"/home/linhnm/.local/lib/python3.8/site-packages/stack_data/core.py\", line 518, in __init__\n",
      "    self.executing = Source.executing(frame_or_tb)\n",
      "  File \"/home/linhnm/.local/lib/python3.8/site-packages/executing/executing.py\", line 364, in executing\n",
      "    args = find(source=cls.for_frame(frame), retry_cache=True)\n",
      "  File \"/home/linhnm/.local/lib/python3.8/site-packages/executing/executing.py\", line 247, in for_frame\n",
      "    return cls.for_filename(frame.f_code.co_filename, frame.f_globals or {}, use_cache)\n",
      "  File \"/home/linhnm/.local/lib/python3.8/site-packages/executing/executing.py\", line 265, in for_filename\n",
      "    result = source_cache[filename] = cls._for_filename_and_lines(filename, lines)\n",
      "  File \"/home/linhnm/.local/lib/python3.8/site-packages/executing/executing.py\", line 276, in _for_filename_and_lines\n",
      "    result = source_cache[(filename, lines)] = cls(filename, lines)\n",
      "  File \"/home/linhnm/.local/lib/python3.8/site-packages/stack_data/core.py\", line 81, in __init__\n",
      "    self.asttokens()\n",
      "  File \"/home/linhnm/.local/lib/python3.8/site-packages/executing/executing.py\", line 408, in asttokens\n",
      "    return ASTTokens(\n",
      "  File \"/home/linhnm/.local/lib/python3.8/site-packages/asttokens/asttokens.py\", line 73, in __init__\n",
      "    self.mark_tokens(self._tree)\n",
      "  File \"/home/linhnm/.local/lib/python3.8/site-packages/asttokens/asttokens.py\", line 85, in mark_tokens\n",
      "    from .mark_tokens import MarkTokens # to avoid import loops\n",
      "  File \"/home/linhnm/.local/lib/python3.8/site-packages/asttokens/mark_tokens.py\", line 20, in <module>\n",
      "    from typing import Callable, List, Union, cast, Optional, Tuple, TYPE_CHECKING\n",
      "  File \"/usr/lib/python3.8/typing.py\", line 1438, in <module>\n",
      "    Hashable = _alias(collections.abc.Hashable, ())  # Not generic.\n",
      "  File \"/usr/lib/python3.8/collections/__init__.py\", line 55, in __getattr__\n",
      "    raise AttributeError(f'module {__name__!r} has no attribute {name!r}')\n",
      "AttributeError: module 'collections' has no attribute 'abc'\n"
     ]
    }
   ],
   "source": [
    "import math\n",
    "print(math.__file__)\n",
    "print()\n"
   ],
   "metadata": {
    "collapsed": false
   }
  },
  {
   "cell_type": "code",
   "execution_count": 22,
   "outputs": [
    {
     "name": "stdout",
     "output_type": "stream",
     "text": [
      "/usr/lib/python3.8/pprint.py\n",
      "Unexpected exception formatting exception. Falling back to standard exception\n"
     ]
    },
    {
     "name": "stderr",
     "output_type": "stream",
     "text": [
      "Traceback (most recent call last):\n",
      "  File \"/home/linhnm/.local/lib/python3.8/site-packages/IPython/core/interactiveshell.py\", line 3398, in run_code\n",
      "    exec(code_obj, self.user_global_ns, self.user_ns)\n",
      "  File \"/tmp/ipykernel_193834/3619697001.py\", line 3, in <cell line: 3>\n",
      "    print(pprint.__path__)\n",
      "AttributeError: module 'pprint' has no attribute '__path__'\n",
      "\n",
      "During handling of the above exception, another exception occurred:\n",
      "\n",
      "Traceback (most recent call last):\n",
      "  File \"/home/linhnm/.local/lib/python3.8/site-packages/executing/executing.py\", line 312, in executing\n",
      "    args = executing_cache[key]\n",
      "KeyError: (<code object run_code at 0x7f762516b500, file \"/home/linhnm/.local/lib/python3.8/site-packages/IPython/core/interactiveshell.py\", line 3362>, 140145405113600, 74)\n",
      "\n",
      "During handling of the above exception, another exception occurred:\n",
      "\n",
      "Traceback (most recent call last):\n",
      "  File \"/home/linhnm/.local/lib/python3.8/site-packages/IPython/core/interactiveshell.py\", line 1993, in showtraceback\n",
      "    stb = self.InteractiveTB.structured_traceback(\n",
      "  File \"/home/linhnm/.local/lib/python3.8/site-packages/IPython/core/ultratb.py\", line 1118, in structured_traceback\n",
      "    return FormattedTB.structured_traceback(\n",
      "  File \"/home/linhnm/.local/lib/python3.8/site-packages/IPython/core/ultratb.py\", line 1012, in structured_traceback\n",
      "    return VerboseTB.structured_traceback(\n",
      "  File \"/home/linhnm/.local/lib/python3.8/site-packages/IPython/core/ultratb.py\", line 865, in structured_traceback\n",
      "    formatted_exception = self.format_exception_as_a_whole(etype, evalue, etb, number_of_lines_of_context,\n",
      "  File \"/home/linhnm/.local/lib/python3.8/site-packages/IPython/core/ultratb.py\", line 799, in format_exception_as_a_whole\n",
      "    self.get_records(etb, number_of_lines_of_context, tb_offset) if etb else []\n",
      "  File \"/home/linhnm/.local/lib/python3.8/site-packages/IPython/core/ultratb.py\", line 854, in get_records\n",
      "    return list(stack_data.FrameInfo.stack_data(etb, options=options))[tb_offset:]\n",
      "  File \"/home/linhnm/.local/lib/python3.8/site-packages/stack_data/core.py\", line 563, in stack_data\n",
      "    yield from collapse_repeated(\n",
      "  File \"/home/linhnm/.local/lib/python3.8/site-packages/stack_data/utils.py\", line 84, in collapse_repeated\n",
      "    yield from map(mapper, original_group)\n",
      "  File \"/home/linhnm/.local/lib/python3.8/site-packages/stack_data/core.py\", line 553, in mapper\n",
      "    return cls(f, options)\n",
      "  File \"/home/linhnm/.local/lib/python3.8/site-packages/stack_data/core.py\", line 518, in __init__\n",
      "    self.executing = Source.executing(frame_or_tb)\n",
      "  File \"/home/linhnm/.local/lib/python3.8/site-packages/executing/executing.py\", line 364, in executing\n",
      "    args = find(source=cls.for_frame(frame), retry_cache=True)\n",
      "  File \"/home/linhnm/.local/lib/python3.8/site-packages/executing/executing.py\", line 247, in for_frame\n",
      "    return cls.for_filename(frame.f_code.co_filename, frame.f_globals or {}, use_cache)\n",
      "  File \"/home/linhnm/.local/lib/python3.8/site-packages/executing/executing.py\", line 265, in for_filename\n",
      "    result = source_cache[filename] = cls._for_filename_and_lines(filename, lines)\n",
      "  File \"/home/linhnm/.local/lib/python3.8/site-packages/executing/executing.py\", line 276, in _for_filename_and_lines\n",
      "    result = source_cache[(filename, lines)] = cls(filename, lines)\n",
      "  File \"/home/linhnm/.local/lib/python3.8/site-packages/stack_data/core.py\", line 81, in __init__\n",
      "    self.asttokens()\n",
      "  File \"/home/linhnm/.local/lib/python3.8/site-packages/executing/executing.py\", line 408, in asttokens\n",
      "    return ASTTokens(\n",
      "  File \"/home/linhnm/.local/lib/python3.8/site-packages/asttokens/asttokens.py\", line 73, in __init__\n",
      "    self.mark_tokens(self._tree)\n",
      "  File \"/home/linhnm/.local/lib/python3.8/site-packages/asttokens/asttokens.py\", line 85, in mark_tokens\n",
      "    from .mark_tokens import MarkTokens # to avoid import loops\n",
      "  File \"/home/linhnm/.local/lib/python3.8/site-packages/asttokens/mark_tokens.py\", line 20, in <module>\n",
      "    from typing import Callable, List, Union, cast, Optional, Tuple, TYPE_CHECKING\n",
      "  File \"/usr/lib/python3.8/typing.py\", line 1438, in <module>\n",
      "    Hashable = _alias(collections.abc.Hashable, ())  # Not generic.\n",
      "  File \"/usr/lib/python3.8/collections/__init__.py\", line 55, in __getattr__\n",
      "    raise AttributeError(f'module {__name__!r} has no attribute {name!r}')\n",
      "AttributeError: module 'collections' has no attribute 'abc'\n"
     ]
    }
   ],
   "source": [
    "import pprint\n",
    "print(pprint.__file__)\n",
    "print(pprint.__path__)"
   ],
   "metadata": {
    "collapsed": false
   }
  }
 ],
 "metadata": {
  "kernelspec": {
   "display_name": "Python 3",
   "language": "python",
   "name": "python3"
  },
  "language_info": {
   "codemirror_mode": {
    "name": "ipython",
    "version": 2
   },
   "file_extension": ".py",
   "mimetype": "text/x-python",
   "name": "python",
   "nbconvert_exporter": "python",
   "pygments_lexer": "ipython2",
   "version": "2.7.6"
  }
 },
 "nbformat": 4,
 "nbformat_minor": 0
}
