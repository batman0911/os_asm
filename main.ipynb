{
 "cells": [
  {
   "cell_type": "code",
   "execution_count": 1,
   "metadata": {
    "collapsed": true
   },
   "outputs": [],
   "source": [
    "import isort\n",
    "import sys\n",
    "import platform\n",
    "import importlib\n",
    "from types import ModuleType"
   ]
  },
  {
   "cell_type": "code",
   "execution_count": 2,
   "outputs": [],
   "source": [
    "# module_names = isort.stdlibs.py38.stdlib"
   ],
   "metadata": {
    "collapsed": false
   }
  },
  {
   "cell_type": "code",
   "execution_count": 3,
   "outputs": [],
   "source": [
    "def get_stdlib_packages():\n",
    "    if sys.version_info.minor == 10:\n",
    "        module_names = sys.stdlib_module_names\n",
    "    else:\n",
    "        module_names = isort.stdlibs.py38.stdlib\n",
    "\n",
    "    external_packages = set()\n",
    "    for name in module_names:\n",
    "        if name[0] == '_' or name == 'this' or name == 'antigravity':\n",
    "            continue\n",
    "        external_packages.add(name)\n",
    "    return external_packages"
   ],
   "metadata": {
    "collapsed": false
   }
  },
  {
   "cell_type": "code",
   "execution_count": 4,
   "outputs": [],
   "source": [
    "def task1():\n",
    "    external_packages = get_stdlib_packages()\n",
    "    v = sys.version_info\n",
    "    print(f'Python {v.major}.{v.minor}.{v.micro} on {platform.system()} {platform.release()}')\n",
    "    print(f'Stdlib contains {len(external_packages)} external modules and packages: ')\n",
    "    print(external_packages)"
   ],
   "metadata": {
    "collapsed": false
   }
  },
  {
   "cell_type": "code",
   "execution_count": 5,
   "outputs": [
    {
     "name": "stdout",
     "output_type": "stream",
     "text": [
      "Python 3.8.10 on Linux 5.15.0-50-generic\n",
      "Stdlib contains 212 external modules and packages: \n",
      "{'multiprocessing', 'bdb', 'filecmp', 'zipimport', 'cmd', 'tracemalloc', 'keyword', 'ntpath', 'sre', 'argparse', 'operator', 'wave', 'socketserver', 'selectors', 'ssl', 'token', 'atexit', 'turtle', 'parser', 'pathlib', 'curses', 'modulefinder', 'ossaudiodev', 'venv', 'shutil', 'tarfile', 'cgitb', 'os', 'nntplib', 'cgi', 'lzma', 'base64', 'secrets', 'py_compile', 'syslog', 'profile', 'plistlib', 'smtpd', 'pty', 'pickle', 'zipapp', 'http', 'pstats', 'pickletools', 'pyclbr', 'rlcompleter', 'ipaddress', 'tabnanny', 'hashlib', 'tokenize', 'errno', 'quopri', 'xdrlib', 'termios', 'contextlib', 'configparser', 'sys', 'warnings', 'subprocess', 'tempfile', 'cmath', 'mailcap', 'codeop', 'ensurepip', 'symbol', 'unicodedata', 'cProfile', 'fileinput', 'lib2to3', 'readline', 'numbers', 'fractions', 'bz2', 'gzip', 'weakref', 'tkinter', 'types', 'array', 'msvcrt', 'posix', 'gettext', 'site', 'xml', 'codecs', 'fcntl', 'builtins', 'dataclasses', 'distutils', 'pdb', 'random', 'colorsys', 'heapq', 'stringprep', 'datetime', 'chunk', 'inspect', 'test', 'asyncio', 'symtable', 'netrc', 'locale', 'webbrowser', 'socket', 'smtplib', 'traceback', 'pkgutil', 'nis', 'binascii', 'sunau', 'select', 'dummy_threading', 'stat', 'code', 'urllib', 'csv', 'calendar', 'pydoc', 'logging', 'tty', 'unittest', 'zlib', 'json', 'spwd', 'gc', 'faulthandler', 'functools', 'sysconfig', 'textwrap', 'enum', 'contextvars', 'pprint', 'hmac', 'formatter', 'collections', 'pwd', 'aifc', 'difflib', 'doctest', 'imaplib', 'dbm', 'binhex', 'audioop', 'wsgiref', 'platform', 'trace', 'signal', 'getpass', 'mmap', 'xmlrpc', 'crypt', 'telnetlib', 'dis', 'ctypes', 'marshal', 'sqlite3', 'shelve', 'html', 'turtledemo', 'abc', 'timeit', 'concurrent', 'resource', 'imp', 'copy', 'uuid', 'grp', 'asyncore', 'statistics', 'sre_parse', 'string', 'decimal', 'itertools', 'glob', 'asynchat', 'threading', 'ast', 'compileall', 'email', 'encodings', 'importlib', 'copyreg', 'linecache', 'uu', 'imghdr', 'io', 'reprlib', 'ftplib', 'bisect', 'sched', 'math', 'posixpath', 'pipes', 'queue', 'sre_compile', 'winsound', 'mimetypes', 'sre_constants', 'zipfile', 'winreg', 're', 'sndhdr', 'fnmatch', 'msilib', 'optparse', 'struct', 'typing', 'mailbox', 'poplib', 'runpy', 'time', 'getopt', 'shlex'}\n"
     ]
    }
   ],
   "source": [
    "task1()"
   ],
   "metadata": {
    "collapsed": false
   }
  },
  {
   "cell_type": "code",
   "execution_count": 6,
   "outputs": [],
   "source": [
    "def get_real_packages(package_names):\n",
    "    real_modules = set()\n",
    "    not_importable_modules = set()\n",
    "    for name in package_names:\n",
    "        try:\n",
    "            importlib.import_module(name)\n",
    "            # del sys.modules[name]\n",
    "            real_modules.add(name)\n",
    "        except:\n",
    "            not_importable_modules.add(name)\n",
    "    return real_modules, not_importable_modules"
   ],
   "metadata": {
    "collapsed": false
   }
  },
  {
   "cell_type": "code",
   "execution_count": 7,
   "outputs": [],
   "source": [
    "def get_real():\n",
    "    external_packages = get_stdlib_packages()\n",
    "    return get_real_packages(external_packages)"
   ],
   "metadata": {
    "collapsed": false
   }
  },
  {
   "cell_type": "code",
   "execution_count": 8,
   "outputs": [],
   "source": [
    "def task2():\n",
    "    v = sys.version_info\n",
    "    real_modules, not_importable_modules = get_real()\n",
    "    print(f'These StdLib packages on Python-{v.major}.{v.minor}.{v.micro}/{platform.system()} {platform.release()} '\n",
    "          f'are not importable:')\n",
    "    print(not_importable_modules)\n",
    "\n",
    "    for name in real_modules:\n",
    "        del sys.modules[name]"
   ],
   "metadata": {
    "collapsed": false
   }
  },
  {
   "cell_type": "code",
   "execution_count": 9,
   "outputs": [
    {
     "name": "stdout",
     "output_type": "stream",
     "text": [
      "These StdLib packages on Python-3.8.10/Linux 5.15.0-50-generic are not importable:\n",
      "{'turtledemo', 'msvcrt', 'msilib', 'winsound', 'ensurepip', 'sre', 'tkinter', 'winreg', 'turtle'}\n"
     ]
    }
   ],
   "source": [
    "task2()"
   ],
   "metadata": {
    "collapsed": false
   }
  },
  {
   "cell_type": "code",
   "execution_count": 10,
   "outputs": [],
   "source": [
    "def module_dependency(module_names, name):\n",
    "    if name not in module_names:\n",
    "        raise Exception(f'{name} is not importable module')\n",
    "    dp_names = set()\n",
    "\n",
    "    try:\n",
    "        importlib.import_module(name)\n",
    "    except:\n",
    "        print(f'err name: {name}')\n",
    "    for key, val in vars(sys.modules[name]).items():\n",
    "        if isinstance(val, ModuleType):\n",
    "            md_name = val.__name__\n",
    "\n",
    "            try:\n",
    "                index = md_name.index(\".\")\n",
    "                md_name = md_name[0:index]\n",
    "            except:\n",
    "                pass\n",
    "\n",
    "            dp_names.add(md_name)\n",
    "            # print(f'key: {key}, type: {type(val)}, val: {md_name}, module: {md_name}')\n",
    "\n",
    "    # del sys.modules[name]\n",
    "\n",
    "    return dp_names"
   ],
   "metadata": {
    "collapsed": false
   }
  },
  {
   "cell_type": "code",
   "execution_count": 11,
   "outputs": [],
   "source": [
    "def core_modules(real_modules):\n",
    "    # real_modules, _ = get_real()\n",
    "    core_module_names = set()\n",
    "    for r_name in real_modules:\n",
    "        dp_names = module_dependency(real_modules, r_name)\n",
    "        if len(dp_names) == 0:\n",
    "            core_module_names.add(r_name)\n",
    "\n",
    "    return core_module_names\n"
   ],
   "metadata": {
    "collapsed": false
   }
  },
  {
   "cell_type": "code",
   "execution_count": 12,
   "outputs": [],
   "source": [
    "def most_dependent_modules(real_modules):\n",
    "    dp_dict = dict((name, 0) for name in real_modules)\n",
    "    for md_name in real_modules:\n",
    "        count = len(module_dependency(real_modules, md_name))\n",
    "        dp_dict[md_name] = count\n",
    "\n",
    "    sorted_dp_dict = dict(sorted(dp_dict.items(), key=lambda item: item[1], reverse=True))\n",
    "    i = 0\n",
    "    most_dependent_module_names = dict()\n",
    "    for k, v in sorted_dp_dict.items():\n",
    "        if i > 5:\n",
    "            break\n",
    "        most_dependent_module_names[k] = v\n",
    "        i = i + 1\n",
    "\n",
    "    return most_dependent_module_names\n",
    "\n"
   ],
   "metadata": {
    "collapsed": false
   }
  },
  {
   "cell_type": "code",
   "execution_count": 13,
   "outputs": [],
   "source": [
    "def task3():\n",
    "    real_modules, not_importable_modules = get_real()\n",
    "    # print(f'real modules: {real_modules}')\n",
    "    core_module_names = core_modules(real_modules)\n",
    "\n",
    "    dp_dict = most_dependent_modules(real_modules)\n",
    "\n",
    "    print(f'The following StdLib packages are most dependent:')\n",
    "    for k, v in dp_dict.items():\n",
    "        print(f'{k}: {v}')\n",
    "    print(f'The {len(core_module_names)} core packages are:')\n",
    "    print(core_module_names)\n",
    "\n",
    "    for name in real_modules:\n",
    "        del sys.modules[name]"
   ],
   "metadata": {
    "collapsed": false
   }
  },
  {
   "cell_type": "code",
   "execution_count": 14,
   "outputs": [
    {
     "name": "stdout",
     "output_type": "stream",
     "text": [
      "The following StdLib packages are most dependent:\n",
      "pathlib: 8\n",
      "gzip: 8\n",
      "shutil: 7\n",
      "zipimport: 6\n",
      "socket: 6\n",
      "re: 6\n",
      "The 67 core packages are:\n",
      "{'termios', 'sys', 'abc', 'nis', 'binascii', 'urllib', 'cmath', 'select', 'stat', 'concurrent', 'resource', 'copy', 'grp', 'sre_parse', 'keyword', 'tty', 'symbol', 'unittest', 'unicodedata', 'zlib', 'spwd', 'operator', 'gc', 'faulthandler', 'functools', 'lib2to3', 'decimal', 'readline', 'itertools', 'contextvars', 'numbers', 'ast', 'token', 'atexit', 'email', 'types', 'copyreg', 'parser', 'pwd', 'imghdr', 'array', 'posix', 'xml', 'difflib', 'bisect', 'fcntl', 'ossaudiodev', 'math', 'builtins', 'sre_constants', 'colorsys', 'heapq', 'audioop', 'wsgiref', 'stringprep', 'syslog', 'mmap', 'sndhdr', 'struct', 'xmlrpc', 'http', 'chunk', 'test', 'marshal', 'time', 'errno', 'quopri'}\n"
     ]
    }
   ],
   "source": [
    "task3()"
   ],
   "metadata": {
    "collapsed": false
   }
  }
 ],
 "metadata": {
  "kernelspec": {
   "display_name": "Python 3",
   "language": "python",
   "name": "python3"
  },
  "language_info": {
   "codemirror_mode": {
    "name": "ipython",
    "version": 2
   },
   "file_extension": ".py",
   "mimetype": "text/x-python",
   "name": "python",
   "nbconvert_exporter": "python",
   "pygments_lexer": "ipython2",
   "version": "2.7.6"
  }
 },
 "nbformat": 4,
 "nbformat_minor": 0
}
