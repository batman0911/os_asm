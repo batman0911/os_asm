{
 "cells": [
  {
   "cell_type": "code",
   "execution_count": 1,
   "metadata": {
    "collapsed": true
   },
   "outputs": [],
   "source": [
    "import enum\n",
    "\n",
    "import isort\n",
    "import sys\n",
    "import platform\n",
    "import importlib\n",
    "from types import ModuleType"
   ]
  },
  {
   "cell_type": "code",
   "execution_count": 2,
   "outputs": [],
   "source": [
    "# module_names = isort.stdlibs.py38.stdlib"
   ],
   "metadata": {
    "collapsed": false
   }
  },
  {
   "cell_type": "code",
   "execution_count": 3,
   "outputs": [],
   "source": [
    "def get_stdlib_packages():\n",
    "    if sys.version_info.minor == 10:\n",
    "        module_names = sys.stdlib_module_names\n",
    "    else:\n",
    "        module_names = isort.stdlibs.py38.stdlib\n",
    "\n",
    "    external_packages = set()\n",
    "    for name in module_names:\n",
    "        if name[0] == '_' or name == 'this' or name == 'antigravity':\n",
    "            continue\n",
    "        external_packages.add(name)\n",
    "    return external_packages"
   ],
   "metadata": {
    "collapsed": false
   }
  },
  {
   "cell_type": "code",
   "execution_count": 4,
   "outputs": [],
   "source": [
    "def task1():\n",
    "    external_packages = get_stdlib_packages()\n",
    "    v = sys.version_info\n",
    "    print(f'Python {v.major}.{v.minor}.{v.micro} on {platform.system()} {platform.release()}')\n",
    "    print(f'Stdlib contains {len(external_packages)} external modules and packages: ')\n",
    "    print(external_packages)"
   ],
   "metadata": {
    "collapsed": false
   }
  },
  {
   "cell_type": "code",
   "execution_count": 5,
   "outputs": [
    {
     "name": "stdout",
     "output_type": "stream",
     "text": [
      "Python 3.8.10 on Linux 5.15.0-50-generic\n",
      "Stdlib contains 212 external modules and packages: \n",
      "{'curses', 'traceback', 'concurrent', 'cgi', 'asynchat', 'hmac', 'subprocess', 'resource', 'codecs', 'lzma', 'zipapp', 'bz2', 'nntplib', 'telnetlib', 'argparse', 'ipaddress', 'pathlib', 'reprlib', 'secrets', 'wsgiref', 'base64', 'urllib', 'runpy', 'fnmatch', 'uu', 'uuid', 'cmath', 'mailcap', 'pickletools', 'sre_compile', 'pyclbr', 'imaplib', 'formatter', 'timeit', 'collections', 'fileinput', 'importlib', 'sqlite3', 'string', 'locale', 'textwrap', 'zlib', 'struct', 'tarfile', 'zipimport', 'mmap', 'parser', 'cmd', 'time', 'cProfile', 'io', 'json', 'enum', 'dummy_threading', 'nis', 'errno', 'bisect', 'statistics', 'weakref', 'platform', 'select', 'gc', 'ossaudiodev', 'sre_constants', 'operator', 'shutil', 'msvcrt', 'faulthandler', 'rlcompleter', 'asyncio', 'email', 'csv', 'atexit', 'itertools', 'logging', 'marshal', 'types', 'abc', 'copyreg', 'winsound', 'queue', 'sys', 'copy', 'functools', 'array', 'zipfile', 'stringprep', 'binhex', 'sunau', 'xmlrpc', 'glob', 'pprint', 'socketserver', 'doctest', 'wave', 'linecache', 'shlex', 'quopri', 'msilib', 'py_compile', 'turtledemo', 'bdb', 'ensurepip', 'encodings', 'sre_parse', 'termios', 'ctypes', 'compileall', 'configparser', 'chunk', 'symtable', 'asyncore', 'filecmp', 'inspect', 'venv', 'profile', 'sysconfig', 'grp', 'tempfile', 'getpass', 'math', 'distutils', 're', 'numbers', 'aifc', 'os', 'audioop', 'sre', 'poplib', 'pstats', 'gettext', 'site', 'test', 'crypt', 'fractions', 'threading', 'ftplib', 'getopt', 'pickle', 'pwd', 'pydoc', 'keyword', 'tokenize', 'tty', 'pty', 'optparse', 'contextvars', 'fcntl', 'hashlib', 'shelve', 'binascii', 'netrc', 'webbrowser', 'sndhdr', 'lib2to3', 'unittest', 'http', 'modulefinder', 'posixpath', 'datetime', 'posix', 'builtins', 'imghdr', 'mailbox', 'unicodedata', 'socket', 'readline', 'heapq', 'turtle', 'colorsys', 'ntpath', 'xdrlib', 'syslog', 'selectors', 'typing', 'ssl', 'html', 'pdb', 'smtplib', 'winreg', 'pkgutil', 'mimetypes', 'warnings', 'cgitb', 'stat', 'spwd', 'codeop', 'tabnanny', 'multiprocessing', 'pipes', 'smtpd', 'tracemalloc', 'decimal', 'difflib', 'contextlib', 'dbm', 'calendar', 'code', 'gzip', 'symbol', 'token', 'signal', 'tkinter', 'dataclasses', 'ast', 'imp', 'trace', 'xml', 'plistlib', 'sched', 'dis', 'random'}\n"
     ]
    }
   ],
   "source": [
    "task1()"
   ],
   "metadata": {
    "collapsed": false
   }
  },
  {
   "cell_type": "code",
   "execution_count": 6,
   "outputs": [],
   "source": [
    "def get_real_packages(package_names):\n",
    "    real_modules = set()\n",
    "    not_importable_modules = set()\n",
    "    for name in package_names:\n",
    "        try:\n",
    "            importlib.import_module(name)\n",
    "            real_modules.add(name)\n",
    "            # if name != 'importlib':\n",
    "            #     del sys.modules[name]\n",
    "        except:\n",
    "            not_importable_modules.add(name)\n",
    "    return real_modules, not_importable_modules"
   ],
   "metadata": {
    "collapsed": false
   }
  },
  {
   "cell_type": "code",
   "execution_count": 7,
   "outputs": [],
   "source": [
    "def get_real():\n",
    "    external_packages = get_stdlib_packages()\n",
    "    return get_real_packages(external_packages)"
   ],
   "metadata": {
    "collapsed": false
   }
  },
  {
   "cell_type": "code",
   "execution_count": 8,
   "outputs": [],
   "source": [
    "def task2():\n",
    "    v = sys.version_info\n",
    "    real_modules, not_importable_modules = get_real()\n",
    "    print(f'These StdLib packages on Python-{v.major}.{v.minor}.{v.micro}/{platform.system()} {platform.release()} '\n",
    "          f'are not importable:')\n",
    "    print(not_importable_modules)\n",
    "\n",
    "    # for name in real_modules:\n",
    "    #     del sys.modules[name]"
   ],
   "metadata": {
    "collapsed": false
   }
  },
  {
   "cell_type": "code",
   "execution_count": 9,
   "outputs": [
    {
     "name": "stdout",
     "output_type": "stream",
     "text": [
      "These StdLib packages on Python-3.8.10/Linux 5.15.0-50-generic are not importable:\n",
      "{'tkinter', 'msilib', 'msvcrt', 'winsound', 'turtledemo', 'ensurepip', 'winreg', 'sre', 'turtle'}\n"
     ]
    }
   ],
   "source": [
    "task2()"
   ],
   "metadata": {
    "collapsed": false
   }
  },
  {
   "cell_type": "code",
   "execution_count": 10,
   "outputs": [],
   "source": [
    "def module_dependency(module_names, name):\n",
    "    if name not in module_names:\n",
    "        raise Exception(f'{name} is not importable module')\n",
    "    dp_names = set()\n",
    "\n",
    "    try:\n",
    "        importlib.import_module(name)\n",
    "    except:\n",
    "        print(f'err name: {name}')\n",
    "    for key, val in vars(sys.modules[name]).items():\n",
    "        if isinstance(val, ModuleType):\n",
    "            md_name = val.__name__\n",
    "\n",
    "            try:\n",
    "                index = md_name.index(\".\")\n",
    "                md_name = md_name[0:index]\n",
    "            except:\n",
    "                pass\n",
    "\n",
    "            dp_names.add(md_name)\n",
    "            # print(f'key: {key}, type: {type(val)}, val: {md_name}, module: {md_name}')\n",
    "\n",
    "    # del sys.modules[name]\n",
    "\n",
    "    return dp_names"
   ],
   "metadata": {
    "collapsed": false
   }
  },
  {
   "cell_type": "code",
   "execution_count": 11,
   "outputs": [],
   "source": [
    "def core_modules(real_modules):\n",
    "    # real_modules, _ = get_real()\n",
    "    core_module_names = set()\n",
    "    for r_name in real_modules:\n",
    "        dp_names = module_dependency(real_modules, r_name)\n",
    "        if len(dp_names) == 0:\n",
    "            core_module_names.add(r_name)\n",
    "\n",
    "    return core_module_names\n"
   ],
   "metadata": {
    "collapsed": false
   }
  },
  {
   "cell_type": "code",
   "execution_count": 12,
   "outputs": [],
   "source": [
    "def most_dependent_modules(real_modules):\n",
    "    dp_dict = dict((name, 0) for name in real_modules)\n",
    "    for md_name in real_modules:\n",
    "        count = len(module_dependency(real_modules, md_name))\n",
    "        dp_dict[md_name] = count\n",
    "\n",
    "    sorted_dp_dict = dict(sorted(dp_dict.items(), key=lambda item: item[1], reverse=True))\n",
    "    i = 0\n",
    "    most_dependent_module_names = dict()\n",
    "    for k, v in sorted_dp_dict.items():\n",
    "        if i > 5:\n",
    "            break\n",
    "        most_dependent_module_names[k] = v\n",
    "        i = i + 1\n",
    "\n",
    "    return most_dependent_module_names\n",
    "\n"
   ],
   "metadata": {
    "collapsed": false
   }
  },
  {
   "cell_type": "code",
   "execution_count": 13,
   "outputs": [],
   "source": [
    "def task3():\n",
    "    real_modules, not_importable_modules = get_real()\n",
    "\n",
    "    # re-import libs:\n",
    "    for r in real_modules:\n",
    "        pass\n",
    "\n",
    "    # print(f'real modules: {real_modules}')\n",
    "    core_module_names = core_modules(real_modules)\n",
    "\n",
    "    dp_dict = most_dependent_modules(real_modules)\n",
    "\n",
    "    print(f'The following StdLib packages are most dependent:')\n",
    "    for k, v in dp_dict.items():\n",
    "        print(f'{k}: {v}')\n",
    "    print(f'The {len(core_module_names)} core packages are:')\n",
    "    print(core_module_names)\n",
    "\n",
    "    # for name in real_modules:\n",
    "    #     del sys.modules[name]"
   ],
   "metadata": {
    "collapsed": false
   }
  },
  {
   "cell_type": "code",
   "execution_count": 14,
   "outputs": [
    {
     "name": "stdout",
     "output_type": "stream",
     "text": [
      "The following StdLib packages are most dependent:\n",
      "zipfile: 17\n",
      "inspect: 16\n",
      "pdb: 15\n",
      "pydoc: 14\n",
      "subprocess: 13\n",
      "logging: 12\n",
      "The 60 core packages are:\n",
      "{'quopri', 'errno', 'bisect', 'posix', 'builtins', 'imghdr', 'unicodedata', 'select', 'gc', 'ossaudiodev', 'sre_constants', 'readline', 'heapq', 'sre_parse', 'resource', 'termios', 'operator', 'colorsys', 'chunk', 'syslog', 'faulthandler', 'itertools', 'atexit', 'grp', 'wsgiref', 'marshal', 'math', 'types', 'numbers', 'abc', 'copyreg', 'audioop', 'cmath', 'stat', 'spwd', 'sys', 'copy', 'functools', 'decimal', 'difflib', 'array', 'stringprep', 'symbol', 'test', 'token', 'pwd', 'zlib', 'keyword', 'struct', 'tty', 'ast', 'mmap', 'contextvars', 'parser', 'fcntl', 'time', 'binascii', 'sndhdr', 'lib2to3', 'nis'}\n"
     ]
    }
   ],
   "source": [
    "task3()"
   ],
   "metadata": {
    "collapsed": false
   }
  },
  {
   "cell_type": "code",
   "execution_count": 15,
   "outputs": [
    {
     "name": "stdout",
     "output_type": "stream",
     "text": [
      "0\n"
     ]
    }
   ],
   "source": [
    "def explore_package(package_name):\n",
    "    importlib.import_module(package_name)\n",
    "    pack = sys.modules[package_name]\n",
    "    file_name = 'builtin_binary'\n",
    "    try:\n",
    "        file_name = pack.__file__\n",
    "        n = len(file_name)\n",
    "        # print(file_name[n-3:n])\n",
    "        if file_name[n-3:n] == '.py':\n",
    "            # print(file_name)\n",
    "            return package_name, file_name, 0\n",
    "        elif file_name[n-3:n] == '.so':\n",
    "            # print(file_name)\n",
    "            return package_name, file_name, 1\n",
    "        else:\n",
    "            raise Exception(f'unsupported file: {file_name}')\n",
    "    except:\n",
    "        return package_name, file_name, 2\n",
    "\n",
    "p, f, r = explore_package('locale')\n",
    "print(r)"
   ],
   "metadata": {
    "collapsed": false
   }
  },
  {
   "cell_type": "code",
   "execution_count": 16,
   "outputs": [
    {
     "name": "stdout",
     "output_type": "stream",
     "text": [
      "package name: curses, file: /usr/lib/python3.8/curses/__init__.py, type: 0\n",
      "package name: traceback, file: /usr/lib/python3.8/traceback.py, type: 0\n",
      "package name: cgi, file: /usr/lib/python3.8/cgi.py, type: 0\n",
      "package name: concurrent, file: /usr/lib/python3.8/concurrent/__init__.py, type: 0\n",
      "package name: asynchat, file: /usr/lib/python3.8/asynchat.py, type: 0\n",
      "package name: hmac, file: /usr/lib/python3.8/hmac.py, type: 0\n",
      "package name: subprocess, file: /usr/lib/python3.8/subprocess.py, type: 0\n",
      "package name: resource, file: /usr/lib/python3.8/lib-dynload/resource.cpython-38-x86_64-linux-gnu.so, type: 1\n",
      "package name: codecs, file: /usr/lib/python3.8/codecs.py, type: 0\n",
      "package name: lzma, file: /usr/lib/python3.8/lzma.py, type: 0\n",
      "package name: zipapp, file: /usr/lib/python3.8/zipapp.py, type: 0\n",
      "package name: bz2, file: /usr/lib/python3.8/bz2.py, type: 0\n",
      "package name: nntplib, file: /usr/lib/python3.8/nntplib.py, type: 0\n",
      "package name: telnetlib, file: /usr/lib/python3.8/telnetlib.py, type: 0\n",
      "package name: argparse, file: /usr/lib/python3.8/argparse.py, type: 0\n",
      "package name: ipaddress, file: /usr/lib/python3.8/ipaddress.py, type: 0\n",
      "package name: pathlib, file: /usr/lib/python3.8/pathlib.py, type: 0\n",
      "package name: reprlib, file: /usr/lib/python3.8/reprlib.py, type: 0\n",
      "package name: secrets, file: /usr/lib/python3.8/secrets.py, type: 0\n",
      "package name: wsgiref, file: /usr/lib/python3.8/wsgiref/__init__.py, type: 0\n",
      "package name: base64, file: /usr/lib/python3.8/base64.py, type: 0\n",
      "package name: urllib, file: /usr/lib/python3.8/urllib/__init__.py, type: 0\n",
      "package name: runpy, file: /usr/lib/python3.8/runpy.py, type: 0\n",
      "package name: fnmatch, file: /usr/lib/python3.8/fnmatch.py, type: 0\n",
      "package name: uu, file: /usr/lib/python3.8/uu.py, type: 0\n",
      "package name: uuid, file: /usr/lib/python3.8/uuid.py, type: 0\n",
      "package name: cmath, file: builtin_binary, type: 2\n",
      "package name: mailcap, file: /usr/lib/python3.8/mailcap.py, type: 0\n",
      "package name: pickletools, file: /usr/lib/python3.8/pickletools.py, type: 0\n",
      "package name: sre_compile, file: /usr/lib/python3.8/sre_compile.py, type: 0\n",
      "package name: pyclbr, file: /usr/lib/python3.8/pyclbr.py, type: 0\n",
      "package name: imaplib, file: /usr/lib/python3.8/imaplib.py, type: 0\n",
      "package name: formatter, file: /usr/lib/python3.8/formatter.py, type: 0\n",
      "package name: timeit, file: /usr/lib/python3.8/timeit.py, type: 0\n",
      "package name: collections, file: /usr/lib/python3.8/collections/__init__.py, type: 0\n",
      "package name: fileinput, file: /usr/lib/python3.8/fileinput.py, type: 0\n",
      "package name: importlib, file: /usr/lib/python3.8/importlib/__init__.py, type: 0\n",
      "package name: sqlite3, file: /usr/lib/python3.8/sqlite3/__init__.py, type: 0\n",
      "package name: string, file: /usr/lib/python3.8/string.py, type: 0\n",
      "package name: locale, file: /usr/lib/python3.8/locale.py, type: 0\n",
      "package name: textwrap, file: /usr/lib/python3.8/textwrap.py, type: 0\n",
      "package name: zlib, file: builtin_binary, type: 2\n",
      "package name: struct, file: /usr/lib/python3.8/struct.py, type: 0\n",
      "package name: tarfile, file: /usr/lib/python3.8/tarfile.py, type: 0\n",
      "package name: zipimport, file: builtin_binary, type: 2\n",
      "package name: mmap, file: /usr/lib/python3.8/lib-dynload/mmap.cpython-38-x86_64-linux-gnu.so, type: 1\n",
      "package name: parser, file: /usr/lib/python3.8/lib-dynload/parser.cpython-38-x86_64-linux-gnu.so, type: 1\n",
      "package name: cmd, file: /usr/lib/python3.8/cmd.py, type: 0\n",
      "package name: time, file: builtin_binary, type: 2\n",
      "package name: cProfile, file: /usr/lib/python3.8/cProfile.py, type: 0\n",
      "package name: io, file: /usr/lib/python3.8/io.py, type: 0\n",
      "package name: enum, file: /usr/lib/python3.8/enum.py, type: 0\n",
      "package name: json, file: /usr/lib/python3.8/json/__init__.py, type: 0\n",
      "package name: dummy_threading, file: /usr/lib/python3.8/dummy_threading.py, type: 0\n",
      "package name: nis, file: /usr/lib/python3.8/lib-dynload/nis.cpython-38-x86_64-linux-gnu.so, type: 1\n",
      "package name: errno, file: builtin_binary, type: 2\n",
      "package name: bisect, file: /usr/lib/python3.8/bisect.py, type: 0\n",
      "package name: statistics, file: /usr/lib/python3.8/statistics.py, type: 0\n",
      "package name: weakref, file: /usr/lib/python3.8/weakref.py, type: 0\n",
      "package name: platform, file: /usr/lib/python3.8/platform.py, type: 0\n",
      "package name: select, file: builtin_binary, type: 2\n",
      "package name: gc, file: builtin_binary, type: 2\n",
      "package name: ossaudiodev, file: /usr/lib/python3.8/lib-dynload/ossaudiodev.cpython-38-x86_64-linux-gnu.so, type: 1\n",
      "package name: sre_constants, file: /usr/lib/python3.8/sre_constants.py, type: 0\n",
      "package name: operator, file: /usr/lib/python3.8/operator.py, type: 0\n",
      "package name: shutil, file: /usr/lib/python3.8/shutil.py, type: 0\n",
      "package name: rlcompleter, file: /usr/lib/python3.8/rlcompleter.py, type: 0\n",
      "package name: faulthandler, file: builtin_binary, type: 2\n",
      "package name: asyncio, file: /usr/lib/python3.8/asyncio/__init__.py, type: 0\n",
      "package name: email, file: /usr/lib/python3.8/email/__init__.py, type: 0\n",
      "package name: csv, file: /usr/lib/python3.8/csv.py, type: 0\n",
      "package name: atexit, file: builtin_binary, type: 2\n",
      "package name: itertools, file: builtin_binary, type: 2\n",
      "package name: logging, file: /usr/lib/python3.8/logging/__init__.py, type: 0\n",
      "package name: marshal, file: builtin_binary, type: 2\n",
      "package name: types, file: /usr/lib/python3.8/types.py, type: 0\n",
      "package name: abc, file: /usr/lib/python3.8/abc.py, type: 0\n",
      "package name: copyreg, file: /usr/lib/python3.8/copyreg.py, type: 0\n",
      "package name: queue, file: /usr/lib/python3.8/queue.py, type: 0\n",
      "package name: sys, file: builtin_binary, type: 2\n",
      "package name: copy, file: /usr/lib/python3.8/copy.py, type: 0\n",
      "package name: functools, file: /usr/lib/python3.8/functools.py, type: 0\n",
      "package name: array, file: builtin_binary, type: 2\n",
      "package name: zipfile, file: /usr/lib/python3.8/zipfile.py, type: 0\n",
      "package name: stringprep, file: /usr/lib/python3.8/stringprep.py, type: 0\n",
      "package name: binhex, file: /usr/lib/python3.8/binhex.py, type: 0\n",
      "package name: sunau, file: /usr/lib/python3.8/sunau.py, type: 0\n",
      "package name: xmlrpc, file: /usr/lib/python3.8/xmlrpc/__init__.py, type: 0\n",
      "package name: glob, file: /usr/lib/python3.8/glob.py, type: 0\n",
      "package name: pprint, file: /usr/lib/python3.8/pprint.py, type: 0\n",
      "package name: socketserver, file: /usr/lib/python3.8/socketserver.py, type: 0\n",
      "package name: doctest, file: /usr/lib/python3.8/doctest.py, type: 0\n",
      "package name: wave, file: /usr/lib/python3.8/wave.py, type: 0\n",
      "package name: linecache, file: /usr/lib/python3.8/linecache.py, type: 0\n",
      "package name: shlex, file: /usr/lib/python3.8/shlex.py, type: 0\n",
      "package name: quopri, file: /usr/lib/python3.8/quopri.py, type: 0\n",
      "package name: py_compile, file: /usr/lib/python3.8/py_compile.py, type: 0\n",
      "package name: bdb, file: /usr/lib/python3.8/bdb.py, type: 0\n",
      "package name: encodings, file: /usr/lib/python3.8/encodings/__init__.py, type: 0\n",
      "package name: sre_parse, file: /usr/lib/python3.8/sre_parse.py, type: 0\n",
      "package name: termios, file: /usr/lib/python3.8/lib-dynload/termios.cpython-38-x86_64-linux-gnu.so, type: 1\n",
      "package name: ctypes, file: /usr/lib/python3.8/ctypes/__init__.py, type: 0\n",
      "package name: compileall, file: /usr/lib/python3.8/compileall.py, type: 0\n",
      "package name: configparser, file: /usr/lib/python3.8/configparser.py, type: 0\n",
      "package name: chunk, file: /usr/lib/python3.8/chunk.py, type: 0\n",
      "package name: symtable, file: /usr/lib/python3.8/symtable.py, type: 0\n",
      "package name: asyncore, file: /usr/lib/python3.8/asyncore.py, type: 0\n",
      "package name: filecmp, file: /usr/lib/python3.8/filecmp.py, type: 0\n",
      "package name: inspect, file: /usr/lib/python3.8/inspect.py, type: 0\n",
      "package name: venv, file: /usr/lib/python3.8/venv/__init__.py, type: 0\n",
      "package name: profile, file: /usr/lib/python3.8/profile.py, type: 0\n",
      "package name: sysconfig, file: /usr/lib/python3.8/sysconfig.py, type: 0\n",
      "package name: grp, file: builtin_binary, type: 2\n",
      "package name: tempfile, file: /usr/lib/python3.8/tempfile.py, type: 0\n",
      "package name: getpass, file: /usr/lib/python3.8/getpass.py, type: 0\n",
      "package name: math, file: builtin_binary, type: 2\n",
      "package name: distutils, file: /usr/lib/python3.8/distutils/__init__.py, type: 0\n",
      "package name: re, file: /usr/lib/python3.8/re.py, type: 0\n",
      "package name: numbers, file: /usr/lib/python3.8/numbers.py, type: 0\n",
      "package name: aifc, file: /usr/lib/python3.8/aifc.py, type: 0\n",
      "package name: os, file: /usr/lib/python3.8/os.py, type: 0\n",
      "package name: audioop, file: /usr/lib/python3.8/lib-dynload/audioop.cpython-38-x86_64-linux-gnu.so, type: 1\n",
      "package name: poplib, file: /usr/lib/python3.8/poplib.py, type: 0\n",
      "package name: pstats, file: /usr/lib/python3.8/pstats.py, type: 0\n",
      "package name: gettext, file: /usr/lib/python3.8/gettext.py, type: 0\n",
      "package name: site, file: /usr/lib/python3.8/site.py, type: 0\n",
      "package name: test, file: /usr/lib/python3.8/test/__init__.py, type: 0\n",
      "package name: crypt, file: /usr/lib/python3.8/crypt.py, type: 0\n",
      "package name: fractions, file: /usr/lib/python3.8/fractions.py, type: 0\n",
      "package name: threading, file: /usr/lib/python3.8/threading.py, type: 0\n",
      "package name: ftplib, file: /usr/lib/python3.8/ftplib.py, type: 0\n",
      "package name: getopt, file: /usr/lib/python3.8/getopt.py, type: 0\n",
      "package name: pickle, file: /usr/lib/python3.8/pickle.py, type: 0\n",
      "package name: pwd, file: builtin_binary, type: 2\n",
      "package name: pydoc, file: /usr/lib/python3.8/pydoc.py, type: 0\n",
      "package name: keyword, file: /usr/lib/python3.8/keyword.py, type: 0\n",
      "package name: tokenize, file: /usr/lib/python3.8/tokenize.py, type: 0\n",
      "package name: tty, file: /usr/lib/python3.8/tty.py, type: 0\n",
      "package name: pty, file: /usr/lib/python3.8/pty.py, type: 0\n",
      "package name: optparse, file: /usr/lib/python3.8/optparse.py, type: 0\n",
      "package name: contextvars, file: /usr/lib/python3.8/contextvars.py, type: 0\n",
      "package name: fcntl, file: builtin_binary, type: 2\n",
      "package name: hashlib, file: /usr/lib/python3.8/hashlib.py, type: 0\n",
      "package name: shelve, file: /usr/lib/python3.8/shelve.py, type: 0\n",
      "package name: binascii, file: builtin_binary, type: 2\n",
      "package name: netrc, file: /usr/lib/python3.8/netrc.py, type: 0\n",
      "package name: webbrowser, file: /usr/lib/python3.8/webbrowser.py, type: 0\n",
      "package name: sndhdr, file: /usr/lib/python3.8/sndhdr.py, type: 0\n",
      "package name: lib2to3, file: /usr/lib/python3.8/lib2to3/__init__.py, type: 0\n",
      "package name: unittest, file: /usr/lib/python3.8/unittest/__init__.py, type: 0\n",
      "package name: http, file: /usr/lib/python3.8/http/__init__.py, type: 0\n",
      "package name: modulefinder, file: /usr/lib/python3.8/modulefinder.py, type: 0\n",
      "package name: posixpath, file: /usr/lib/python3.8/posixpath.py, type: 0\n",
      "package name: datetime, file: /usr/lib/python3.8/datetime.py, type: 0\n",
      "package name: posix, file: builtin_binary, type: 2\n",
      "package name: builtins, file: builtin_binary, type: 2\n",
      "package name: imghdr, file: /usr/lib/python3.8/imghdr.py, type: 0\n",
      "package name: mailbox, file: /usr/lib/python3.8/mailbox.py, type: 0\n",
      "package name: unicodedata, file: builtin_binary, type: 2\n",
      "package name: socket, file: /usr/lib/python3.8/socket.py, type: 0\n",
      "package name: readline, file: /usr/lib/python3.8/lib-dynload/readline.cpython-38-x86_64-linux-gnu.so, type: 1\n",
      "package name: heapq, file: /usr/lib/python3.8/heapq.py, type: 0\n",
      "package name: colorsys, file: /usr/lib/python3.8/colorsys.py, type: 0\n",
      "package name: ntpath, file: /usr/lib/python3.8/ntpath.py, type: 0\n",
      "package name: xdrlib, file: /usr/lib/python3.8/xdrlib.py, type: 0\n",
      "package name: syslog, file: builtin_binary, type: 2\n",
      "package name: selectors, file: /usr/lib/python3.8/selectors.py, type: 0\n",
      "package name: typing, file: /usr/lib/python3.8/typing.py, type: 0\n",
      "package name: ssl, file: /usr/lib/python3.8/ssl.py, type: 0\n",
      "package name: html, file: /usr/lib/python3.8/html/__init__.py, type: 0\n",
      "package name: pdb, file: /usr/lib/python3.8/pdb.py, type: 0\n",
      "package name: smtplib, file: /usr/lib/python3.8/smtplib.py, type: 0\n",
      "package name: pkgutil, file: /usr/lib/python3.8/pkgutil.py, type: 0\n",
      "package name: mimetypes, file: /usr/lib/python3.8/mimetypes.py, type: 0\n",
      "package name: warnings, file: /usr/lib/python3.8/warnings.py, type: 0\n",
      "package name: cgitb, file: /usr/lib/python3.8/cgitb.py, type: 0\n",
      "package name: stat, file: /usr/lib/python3.8/stat.py, type: 0\n",
      "package name: spwd, file: builtin_binary, type: 2\n",
      "package name: codeop, file: /usr/lib/python3.8/codeop.py, type: 0\n",
      "package name: tabnanny, file: /usr/lib/python3.8/tabnanny.py, type: 0\n",
      "package name: multiprocessing, file: /usr/lib/python3.8/multiprocessing/__init__.py, type: 0\n",
      "package name: pipes, file: /usr/lib/python3.8/pipes.py, type: 0\n",
      "package name: smtpd, file: /usr/lib/python3.8/smtpd.py, type: 0\n",
      "package name: tracemalloc, file: /usr/lib/python3.8/tracemalloc.py, type: 0\n",
      "package name: decimal, file: /usr/lib/python3.8/decimal.py, type: 0\n",
      "package name: difflib, file: /usr/lib/python3.8/difflib.py, type: 0\n",
      "package name: contextlib, file: /usr/lib/python3.8/contextlib.py, type: 0\n",
      "package name: dbm, file: /usr/lib/python3.8/dbm/__init__.py, type: 0\n",
      "package name: calendar, file: /usr/lib/python3.8/calendar.py, type: 0\n",
      "package name: code, file: /usr/lib/python3.8/code.py, type: 0\n",
      "package name: gzip, file: /usr/lib/python3.8/gzip.py, type: 0\n",
      "package name: symbol, file: /usr/lib/python3.8/symbol.py, type: 0\n",
      "package name: token, file: /usr/lib/python3.8/token.py, type: 0\n",
      "package name: signal, file: /usr/lib/python3.8/signal.py, type: 0\n",
      "package name: dataclasses, file: /usr/lib/python3.8/dataclasses.py, type: 0\n",
      "package name: ast, file: /usr/lib/python3.8/ast.py, type: 0\n",
      "package name: imp, file: /usr/lib/python3.8/imp.py, type: 0\n",
      "package name: trace, file: /usr/lib/python3.8/trace.py, type: 0\n",
      "package name: xml, file: /usr/lib/python3.8/xml/__init__.py, type: 0\n",
      "package name: plistlib, file: /usr/lib/python3.8/plistlib.py, type: 0\n",
      "package name: sched, file: /usr/lib/python3.8/sched.py, type: 0\n",
      "package name: dis, file: /usr/lib/python3.8/dis.py, type: 0\n",
      "package name: random, file: /usr/lib/python3.8/random.py, type: 0\n"
     ]
    }
   ],
   "source": [
    "real_modules, _ = get_real()\n",
    "\n",
    "for md in real_modules:\n",
    "    p, f, r = explore_package(md)\n",
    "    print(f'package name: {p}, file: {f}, type: {r}')"
   ],
   "metadata": {
    "collapsed": false
   }
  },
  {
   "cell_type": "code",
   "execution_count": 27,
   "outputs": [
    {
     "name": "stdout",
     "output_type": "stream",
     "text": [
      "<enum 'AddressFamily'>, enum\n",
      "<enum 'AddressInfo'>, enum\n",
      "<enum 'IntEnum'>, enum\n",
      "<enum 'IntFlag'>, enum\n",
      "<enum 'MsgFlag'>, enum\n",
      "<class 'socket.SocketIO'>, type: <class 'type'>\n",
      "<enum 'SocketKind'>, enum\n",
      "<class '_socket.socket'>, type: <class 'type'>\n",
      "<class 'socket._GiveupOnSendfile'>, type: <class 'type'>\n",
      "<class '_socket.socket'>, type: <class 'type'>\n",
      "<class 'OSError'>, type: <class 'type'>\n",
      "<class 'socket.gaierror'>, type: <class 'type'>\n",
      "<class 'socket.herror'>, type: <class 'type'>\n",
      "<class 'socket.socket'>, type: <class 'type'>\n",
      "<class 'socket.timeout'>, type: <class 'type'>\n"
     ]
    }
   ],
   "source": [
    "import inspect\n",
    "import fileinput\n",
    "import socket\n",
    "# from types import\n",
    "import enum\n",
    "\n",
    "for name, obj in inspect.getmembers(socket):\n",
    "        if inspect.isclass(obj):\n",
    "            if issubclass(obj, enum.Enum):\n",
    "                print(f'{obj}, enum')\n",
    "            else:\n",
    "                print(f'{obj}, type: {type(obj).__class__}')"
   ],
   "metadata": {
    "collapsed": false
   }
  },
  {
   "cell_type": "code",
   "execution_count": 31,
   "outputs": [
    {
     "name": "stdout",
     "output_type": "stream",
     "text": [
      "{'ast': 122, 'builtins': 93, 'asyncio': 45, 'ctypes': 43, 'typing': 33, 'argparse': 26}\n"
     ]
    }
   ],
   "source": [
    "real_modules, _ = get_real()\n",
    "\n",
    "md_class_count = dict()\n",
    "\n",
    "for md in real_modules:\n",
    "    count = 0\n",
    "    # cl = set()\n",
    "    for name, obj in inspect.getmembers(sys.modules[md]):\n",
    "        if inspect.isclass(obj):\n",
    "            if issubclass(obj, enum.Enum):\n",
    "                # print(f'{obj}, enum')\n",
    "                continue\n",
    "            else:\n",
    "                # print(f'{obj}, type: {type(obj).__class__}')\n",
    "                count = count + 1\n",
    "                # cl.add(obj.__name__)\n",
    "    md_class_count[md] = count\n",
    "\n",
    "sorted_cl_dict = dict(sorted(md_class_count.items(), key=lambda item: item[1], reverse=True))\n",
    "i = 0\n",
    "largest_pack_cl = dict()\n",
    "for k, v in sorted_cl_dict.items():\n",
    "    if i > 5:\n",
    "        break\n",
    "    largest_pack_cl[k] = v\n",
    "    i = i + 1\n",
    "\n",
    "print(largest_pack_cl)\n",
    "\n",
    "\n"
   ],
   "metadata": {
    "collapsed": false
   }
  },
  {
   "cell_type": "code",
   "execution_count": null,
   "outputs": [],
   "source": [],
   "metadata": {
    "collapsed": false
   }
  }
 ],
 "metadata": {
  "kernelspec": {
   "display_name": "Python 3",
   "language": "python",
   "name": "python3"
  },
  "language_info": {
   "codemirror_mode": {
    "name": "ipython",
    "version": 2
   },
   "file_extension": ".py",
   "mimetype": "text/x-python",
   "name": "python",
   "nbconvert_exporter": "python",
   "pygments_lexer": "ipython2",
   "version": "2.7.6"
  }
 },
 "nbformat": 4,
 "nbformat_minor": 0
}
