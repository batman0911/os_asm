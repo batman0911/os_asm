{
 "cells": [
  {
   "cell_type": "code",
   "execution_count": 1,
   "metadata": {
    "collapsed": true
   },
   "outputs": [],
   "source": [
    "import importlib"
   ]
  },
  {
   "cell_type": "code",
   "execution_count": 3,
   "outputs": [
    {
     "data": {
      "text/plain": "{'__name__': 'pyclbr',\n '__doc__': \"Parse a Python module and describe its classes and functions.\\n\\nParse enough of a Python file to recognize imports and class and\\nfunction definitions, and to find out the superclasses of a class.\\n\\nThe interface consists of a single function:\\n    readmodule_ex(module, path=None)\\nwhere module is the name of a Python module, and path is an optional\\nlist of directories where the module is to be searched.  If present,\\npath is prepended to the system search path sys.path.  The return value\\nis a dictionary.  The keys of the dictionary are the names of the\\nclasses and functions defined in the module (including classes that are\\ndefined via the from XXX import YYY construct).  The values are\\ninstances of classes Class and Function.  One special key/value pair is\\npresent for packages: the key '__path__' has a list as its value which\\ncontains the package search path.\\n\\nClasses and Functions have a common superclass: _Object.  Every instance\\nhas the following attributes:\\n    module  -- name of the module;\\n    name    -- name of the object;\\n    file    -- file in which the object is defined;\\n    lineno  -- line in the file where the object's definition starts;\\n    parent  -- parent of this object, if any;\\n    children -- nested objects contained in this object.\\nThe 'children' attribute is a dictionary mapping names to objects.\\n\\nInstances of Function describe functions with the attributes from _Object.\\n\\nInstances of Class describe classes with the attributes from _Object,\\nplus the following:\\n    super   -- list of super classes (Class instances if possible);\\n    methods -- mapping of method names to beginning line numbers.\\nIf the name of a super class is not recognized, the corresponding\\nentry in the list of super classes is not a class instance but a\\nstring giving the name of the super class.  Since import statements\\nare recognized and imported modules are scanned as well, this\\nshouldn't happen often.\\n\",\n '__package__': '',\n '__loader__': <_frozen_importlib_external.SourceFileLoader at 0x7fdae4e18be0>,\n '__spec__': ModuleSpec(name='pyclbr', loader=<_frozen_importlib_external.SourceFileLoader object at 0x7fdae4e18be0>, origin='/usr/lib/python3.8/pyclbr.py'),\n '__file__': '/usr/lib/python3.8/pyclbr.py',\n '__cached__': '/usr/lib/python3.8/__pycache__/pyclbr.cpython-38.pyc',\n '__builtins__': {'__name__': 'builtins',\n  '__doc__': \"Built-in functions, exceptions, and other objects.\\n\\nNoteworthy: None is the `nil' object; Ellipsis represents `...' in slices.\",\n  '__package__': '',\n  '__loader__': _frozen_importlib.BuiltinImporter,\n  '__spec__': ModuleSpec(name='builtins', loader=<class '_frozen_importlib.BuiltinImporter'>),\n  '__build_class__': <function __build_class__>,\n  '__import__': <function __import__>,\n  'abs': <function abs(x, /)>,\n  'all': <function all(iterable, /)>,\n  'any': <function any(iterable, /)>,\n  'ascii': <function ascii(obj, /)>,\n  'bin': <function bin(number, /)>,\n  'breakpoint': <function breakpoint>,\n  'callable': <function callable(obj, /)>,\n  'chr': <function chr(i, /)>,\n  'compile': <function compile(source, filename, mode, flags=0, dont_inherit=False, optimize=-1, *, _feature_version=-1)>,\n  'delattr': <function delattr(obj, name, /)>,\n  'dir': <function dir>,\n  'divmod': <function divmod(x, y, /)>,\n  'eval': <function eval(source, globals=None, locals=None, /)>,\n  'exec': <function exec(source, globals=None, locals=None, /)>,\n  'format': <function format(value, format_spec='', /)>,\n  'getattr': <function getattr>,\n  'globals': <function globals()>,\n  'hasattr': <function hasattr(obj, name, /)>,\n  'hash': <function hash(obj, /)>,\n  'hex': <function hex(number, /)>,\n  'id': <function id(obj, /)>,\n  'input': <bound method Kernel.raw_input of <ipykernel.ipkernel.IPythonKernel object at 0x7fdb438fbd00>>,\n  'isinstance': <function isinstance(obj, class_or_tuple, /)>,\n  'issubclass': <function issubclass(cls, class_or_tuple, /)>,\n  'iter': <function iter>,\n  'len': <function len(obj, /)>,\n  'locals': <function locals()>,\n  'max': <function max>,\n  'min': <function min>,\n  'next': <function next>,\n  'oct': <function oct(number, /)>,\n  'ord': <function ord(c, /)>,\n  'pow': <function pow(base, exp, mod=None)>,\n  'print': <function print>,\n  'repr': <function repr(obj, /)>,\n  'round': <function round(number, ndigits=None)>,\n  'setattr': <function setattr(obj, name, value, /)>,\n  'sorted': <function sorted(iterable, /, *, key=None, reverse=False)>,\n  'sum': <function sum(iterable, /, start=0)>,\n  'vars': <function vars>,\n  'None': None,\n  'Ellipsis': Ellipsis,\n  'NotImplemented': NotImplemented,\n  'False': False,\n  'True': True,\n  'bool': bool,\n  'memoryview': memoryview,\n  'bytearray': bytearray,\n  'bytes': bytes,\n  'classmethod': classmethod,\n  'complex': complex,\n  'dict': dict,\n  'enumerate': enumerate,\n  'filter': filter,\n  'float': float,\n  'frozenset': frozenset,\n  'property': property,\n  'int': int,\n  'list': list,\n  'map': map,\n  'object': object,\n  'range': range,\n  'reversed': reversed,\n  'set': set,\n  'slice': slice,\n  'staticmethod': staticmethod,\n  'str': str,\n  'super': super,\n  'tuple': tuple,\n  'type': type,\n  'zip': zip,\n  '__debug__': True,\n  'BaseException': BaseException,\n  'Exception': Exception,\n  'TypeError': TypeError,\n  'StopAsyncIteration': StopAsyncIteration,\n  'StopIteration': StopIteration,\n  'GeneratorExit': GeneratorExit,\n  'SystemExit': SystemExit,\n  'KeyboardInterrupt': KeyboardInterrupt,\n  'ImportError': ImportError,\n  'ModuleNotFoundError': ModuleNotFoundError,\n  'OSError': OSError,\n  'EnvironmentError': OSError,\n  'IOError': OSError,\n  'EOFError': EOFError,\n  'RuntimeError': RuntimeError,\n  'RecursionError': RecursionError,\n  'NotImplementedError': NotImplementedError,\n  'NameError': NameError,\n  'UnboundLocalError': UnboundLocalError,\n  'AttributeError': AttributeError,\n  'SyntaxError': SyntaxError,\n  'IndentationError': IndentationError,\n  'TabError': TabError,\n  'LookupError': LookupError,\n  'IndexError': IndexError,\n  'KeyError': KeyError,\n  'ValueError': ValueError,\n  'UnicodeError': UnicodeError,\n  'UnicodeEncodeError': UnicodeEncodeError,\n  'UnicodeDecodeError': UnicodeDecodeError,\n  'UnicodeTranslateError': UnicodeTranslateError,\n  'AssertionError': AssertionError,\n  'ArithmeticError': ArithmeticError,\n  'FloatingPointError': FloatingPointError,\n  'OverflowError': OverflowError,\n  'ZeroDivisionError': ZeroDivisionError,\n  'SystemError': SystemError,\n  'ReferenceError': ReferenceError,\n  'MemoryError': MemoryError,\n  'BufferError': BufferError,\n  'Warning': Warning,\n  'UserWarning': UserWarning,\n  'DeprecationWarning': DeprecationWarning,\n  'PendingDeprecationWarning': PendingDeprecationWarning,\n  'SyntaxWarning': SyntaxWarning,\n  'RuntimeWarning': RuntimeWarning,\n  'FutureWarning': FutureWarning,\n  'ImportWarning': ImportWarning,\n  'UnicodeWarning': UnicodeWarning,\n  'BytesWarning': BytesWarning,\n  'ResourceWarning': ResourceWarning,\n  'ConnectionError': ConnectionError,\n  'BlockingIOError': BlockingIOError,\n  'BrokenPipeError': BrokenPipeError,\n  'ChildProcessError': ChildProcessError,\n  'ConnectionAbortedError': ConnectionAbortedError,\n  'ConnectionRefusedError': ConnectionRefusedError,\n  'ConnectionResetError': ConnectionResetError,\n  'FileExistsError': FileExistsError,\n  'FileNotFoundError': FileNotFoundError,\n  'IsADirectoryError': IsADirectoryError,\n  'NotADirectoryError': NotADirectoryError,\n  'InterruptedError': InterruptedError,\n  'PermissionError': PermissionError,\n  'ProcessLookupError': ProcessLookupError,\n  'TimeoutError': TimeoutError,\n  'open': <function io.open(file, mode='r', buffering=-1, encoding=None, errors=None, newline=None, closefd=True, opener=None)>,\n  'copyright': Copyright (c) 2001-2021 Python Software Foundation.\n  All Rights Reserved.\n  \n  Copyright (c) 2000 BeOpen.com.\n  All Rights Reserved.\n  \n  Copyright (c) 1995-2001 Corporation for National Research Initiatives.\n  All Rights Reserved.\n  \n  Copyright (c) 1991-1995 Stichting Mathematisch Centrum, Amsterdam.\n  All Rights Reserved.,\n  'credits':     Thanks to CWI, CNRI, BeOpen.com, Zope Corporation and a cast of thousands\n      for supporting Python development.  See www.python.org for more information.,\n  'license': Type license() to see the full license text,\n  'help': Type help() for interactive help, or help(object) for help about object.,\n  'execfile': <function _pydev_bundle._pydev_execfile.execfile(file, glob=None, loc=None)>,\n  'runfile': <function _pydev_bundle.pydev_umd.runfile(filename, args=None, wdir=None, namespace=None)>,\n  '__IPYTHON__': True,\n  'display': <function IPython.core.display_functions.display(*objs, include=None, exclude=None, metadata=None, transient=None, display_id=None, raw=False, clear=False, **kwargs)>,\n  'get_ipython': <bound method InteractiveShell.get_ipython of <ipykernel.zmqshell.ZMQInteractiveShell object at 0x7fdb4391bbe0>>},\n 'io': <module 'io' from '/usr/lib/python3.8/io.py'>,\n 'sys': <module 'sys' (built-in)>,\n 'importlib': <module 'importlib' from '/usr/lib/python3.8/importlib/__init__.py'>,\n 'tokenize': <module 'tokenize' from '/usr/lib/python3.8/tokenize.py'>,\n 'NAME': 1,\n 'DEDENT': 6,\n 'OP': 54,\n '__all__': ['readmodule', 'readmodule_ex', 'Class', 'Function'],\n '_modules': {},\n '_Object': pyclbr._Object,\n 'Function': pyclbr.Function,\n 'Class': pyclbr.Class,\n '_nest_function': <function pyclbr._nest_function(ob, func_name, lineno)>,\n '_nest_class': <function pyclbr._nest_class(ob, class_name, lineno, super=None)>,\n 'readmodule': <function pyclbr.readmodule(module, path=None)>,\n 'readmodule_ex': <function pyclbr.readmodule_ex(module, path=None)>,\n '_readmodule': <function pyclbr._readmodule(module, path, inpackage=None)>,\n '_create_tree': <function pyclbr._create_tree(fullmodule, path, fname, source, tree, inpackage)>,\n '_getnamelist': <function pyclbr._getnamelist(g)>,\n '_getname': <function pyclbr._getname(g)>,\n '_main': <function pyclbr._main()>}"
     },
     "execution_count": 3,
     "metadata": {},
     "output_type": "execute_result"
    }
   ],
   "source": [
    "module = importlib.import_module('pyclbr')\n",
    "vars(module)"
   ],
   "metadata": {
    "collapsed": false
   }
  },
  {
   "cell_type": "code",
   "execution_count": null,
   "outputs": [],
   "source": [
    "import ftplib"
   ],
   "metadata": {
    "collapsed": false
   }
  }
 ],
 "metadata": {
  "kernelspec": {
   "display_name": "Python 3",
   "language": "python",
   "name": "python3"
  },
  "language_info": {
   "codemirror_mode": {
    "name": "ipython",
    "version": 2
   },
   "file_extension": ".py",
   "mimetype": "text/x-python",
   "name": "python",
   "nbconvert_exporter": "python",
   "pygments_lexer": "ipython2",
   "version": "2.7.6"
  }
 },
 "nbformat": 4,
 "nbformat_minor": 0
}
